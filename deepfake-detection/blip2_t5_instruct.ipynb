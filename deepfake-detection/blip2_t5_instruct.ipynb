{
 "cells": [
  {
   "cell_type": "code",
   "execution_count": 1,
   "metadata": {},
   "outputs": [
    {
     "name": "stdout",
     "output_type": "stream",
     "text": [
      "6\n"
     ]
    }
   ],
   "source": [
    "import os\n",
    "os.environ[\"CUDA_VISIBLE_DEVICES\"]=\"6\"\n",
    "print(os.environ[\"CUDA_VISIBLE_DEVICES\"])"
   ]
  },
  {
   "cell_type": "code",
   "execution_count": 2,
   "metadata": {},
   "outputs": [
    {
     "name": "stderr",
     "output_type": "stream",
     "text": [
      "/home/denny/anaconda3/envs/instblip/lib/python3.9/site-packages/tqdm/auto.py:22: TqdmWarning: IProgress not found. Please update jupyter and ipywidgets. See https://ipywidgets.readthedocs.io/en/stable/user_install.html\n",
      "  from .autonotebook import tqdm as notebook_tqdm\n",
      "2023-09-25 16:58:22.846182: I tensorflow/core/platform/cpu_feature_guard.cc:182] This TensorFlow binary is optimized to use available CPU instructions in performance-critical operations.\n",
      "To enable the following instructions: SSE4.1 SSE4.2 AVX AVX2 AVX512F AVX512_VNNI FMA, in other operations, rebuild TensorFlow with the appropriate compiler flags.\n"
     ]
    }
   ],
   "source": [
    "from PIL import Image\n",
    "import pandas as pd\n",
    "import numpy as np\n",
    "import torch\n",
    "from torch.utils.data import DataLoader\n",
    "from torch.utils.data.dataset import Dataset\n",
    "\n",
    "import lavis\n",
    "from lavis.models import load_model_and_preprocess\n",
    "\n",
    "import random \n",
    "random.seed(43)\n",
    "\n",
    "class TextInvDataset(Dataset):\n",
    "    def __init__(self, csv, vis_processors=None, txt_processors=None):\n",
    "        \n",
    "        self.path_and_labels = pd.read_csv(csv, index_col=\"img_path\")\n",
    "        self.vis_processors = vis_processors\n",
    "        self.txt_processors = txt_processors\n",
    "\n",
    "    def __len__(self):\n",
    "        \n",
    "        return len(list(self.path_and_labels.index))\n",
    "\n",
    "    def __getitem__(self, index):\n",
    "\n",
    "        image_path = list(self.path_and_labels.index)[index]\n",
    "        image = Image.open(image_path).convert(\"RGB\")\n",
    "        if self.vis_processors:\n",
    "            image = self.vis_processors(image)\n",
    "        \n",
    "        label = self.path_and_labels.loc[image_path, \"label\"]\n",
    "        \n",
    "        is_uncommon = \"uncommon\" in image_path\n",
    "\n",
    "        return image, label, is_uncommon\n",
    "\n",
    "\n",
    "# This is for query lost of images\n",
    "\n",
    "from os import listdir\n",
    "from os.path import isfile, join\n",
    "from tqdm import tqdm\n",
    "from sklearn.metrics import accuracy_score, confusion_matrix\n",
    "import time\n",
    "\n",
    "class InstructBLIP():\n",
    "    def __init__(self, name=\"blip2_vicuna_instruct_textinv\", model_type=\"vicuna7b\", is_eval=True, device=\"cpu\") -> None:\n",
    "        print(f'Loading model...')\n",
    "        #self.model, self.vis_processors, self.txt_processors = load_model_and_preprocess(name, model_type, is_eval, device)\n",
    "        self.imgs = []\n",
    "        self.labels = []\n",
    "        \n",
    "        # QA\n",
    "        self.question = \"\"\n",
    "        \n",
    "        # results\n",
    "        self.acc = None\n",
    "        self.confusion_mat = None\n",
    "        \n",
    "        self.acc_3class = None\n",
    "        self.confusion_mat_3class = None\n",
    "        \n",
    "        self.com_acc = None\n",
    "        self.com_confusion_mat = None\n",
    "        self.uncom_acc = None\n",
    "        self.uncom_confusion_mat = None\n",
    "\n",
    "    def LoadModels(self, model, vis_processors, txt_processors, device):\n",
    "        self.model = model\n",
    "        self.vis_processors = vis_processors\n",
    "        self.txt_processors = txt_processors\n",
    "        self.device = device\n",
    "    \n",
    "    def LoadImages(self, dir, num):\n",
    "        onlyfiles = []\n",
    "        \n",
    "        for f in sorted(listdir(dir)):\n",
    "            if isfile(join(dir, f)):\n",
    "                onlyfiles.append(join(dir, f))\n",
    "        \n",
    "        onlyfiles = random.sample(onlyfiles, num)\n",
    "        \n",
    "        raw_img_list = []\n",
    "        with tqdm(total=len(onlyfiles), desc=f'Loading imgs from {dir}') as pbar:\n",
    "            for f in onlyfiles:\n",
    "                raw_img = Image.open(f).convert(\"RGB\")\n",
    "                raw_img_list.append(raw_img)\n",
    "                pbar.update(1)\n",
    "        \n",
    "        return raw_img_list\n",
    "\n",
    "    def LoadData(self, real_dir, fake_dir, num=1000):\n",
    "        #real_imgs = LoadImages(join(root_dir, \"0_real\"))\n",
    "        #fake_imgs = LoadImages(join(root_dir, \"1_fake\"))\n",
    "        real_imgs = self.LoadImages(real_dir, num)\n",
    "        fake_imgs = self.LoadImages(fake_dir, num)\n",
    "        \n",
    "        self.imgs = real_imgs + fake_imgs\n",
    "        self.labels = [0]*len(real_imgs) + [1]*len(fake_imgs)\n",
    "        #return self.imgs, self.labels\n",
    "      \n",
    "    def LoadData_batch(self, csv_path):\n",
    "        self.csv = csv_path\n",
    "        self.dataset = TextInvDataset(csv=csv_path, vis_processors=self.vis_processors[\"eval\"])\n",
    "        self.dataloader = DataLoader(dataset=self.dataset, batch_size=8, shuffle=False, num_workers=8)    \n",
    "        \n",
    "    def LoadData3Class(self, real_dir, fake_common_dir, fake_uncommon_dir, num=[1000, 500, 500]):\n",
    "        #real_imgs = LoadImages(join(root_dir, \"0_real\"))\n",
    "        #fake_imgs = LoadImages(join(root_dir, \"1_fake\"))\n",
    "        self.num = num\n",
    "        real_imgs = self.LoadImages(real_dir, num[0])\n",
    "        fake_common_imgs = self.LoadImages(fake_common_dir, num[1])\n",
    "        fake_uncommon_imgs = self.LoadImages(fake_uncommon_dir, num[2])\n",
    "        \n",
    "        self.imgs = real_imgs + fake_common_imgs + fake_uncommon_imgs\n",
    "        self.labels = [0]*len(real_imgs) + [1]*(len(fake_common_imgs)+len(fake_uncommon_imgs))\n",
    "        self.label_3class = [0]*len(real_imgs) + [1]*len(fake_common_imgs) + [2]*len(fake_uncommon_imgs)\n",
    "        #return self.imgs, self.labels, self.label_3class\n",
    "\n",
    "    def QueryImgs(self, question, true_string=\"yes\"):\n",
    "        self.ans_list = []\n",
    "        self.question = question\n",
    "        \n",
    "        with tqdm(total=len(self.imgs), desc=f'Answering') as pbar:\n",
    "            for idx, img in enumerate(self.imgs):\n",
    "                image = self.vis_processors[\"eval\"](img).unsqueeze(0).to(self.device)\n",
    "\n",
    "                samples = {\"image\": image, \"text_input\": question}\n",
    "                \n",
    "                ans = self.model.predict_answers(samples=samples, inference_method=\"generate\")[0]\n",
    "                self.ans_list.append(0 if ans == true_string else 1)\n",
    "                \n",
    "                pbar.update(1)\n",
    "        \n",
    "        self.acc = accuracy_score(self.labels, self.ans_list)\n",
    "        self.confusion_mat = confusion_matrix(self.labels, self.ans_list)\n",
    "        \n",
    "        self.PrintResult()\n",
    "        \n",
    "        return self.acc, self.confusion_mat, self.ans_list\n",
    "    \n",
    "    def QueryImgs_batch(self, question, true_string=\"yes\", logPath='log.txt'):\n",
    "        self.labels = []\n",
    "        self.label_3class = []\n",
    "        self.ans_list = []\n",
    "        self.question = question\n",
    "        \n",
    "        for image, label, is_uncommon in tqdm(self.dataloader):\n",
    "            \n",
    "            image = image.to(self.device)\n",
    "            \n",
    "            questions = [self.question] * image.shape[0]\n",
    "            samples = {\"image\": image, \"text_input\": questions}\n",
    "            \n",
    "            ans = self.model.predict_answers(samples=samples, inference_method=\"generate\", answer_list=[\"yes\", \"no\"])\n",
    "            pred_label = [0 if a == true_string else 1 for a in ans]\n",
    "            self.ans_list += pred_label\n",
    "            \n",
    "            label = [0 if l == true_string else 1 for l in label]\n",
    "            self.labels += label\n",
    "            \n",
    "            label_3class = label.copy()\n",
    "            label_3class = [2 if is_uncommon[idx] else l for idx, l in enumerate(label)]\n",
    "            \n",
    "            self.label_3class += label_3class\n",
    "        \n",
    "        self.acc = accuracy_score(self.labels, self.ans_list)\n",
    "        self.confusion_mat = confusion_matrix(self.labels, self.ans_list, labels=[0,1])\n",
    "        \n",
    "        self.ans_list = np.array(self.ans_list)\n",
    "        self.labels = np.array(self.labels)\n",
    "        self.label_3class = np.array(self.label_3class)\n",
    "        \n",
    "        self.PrintResult(three_class=True, logPath=logPath)\n",
    "        \n",
    "        return self.acc, self.confusion_mat, self.ans_list, self.labels, self.label_3class\n",
    "    \n",
    "    def Query(self, image, question):\n",
    "        image = self.vis_processors[\"eval\"](image).unsqueeze(0).to(self.device)\n",
    "        \n",
    "        samples = {\"image\": image, \"text_input\": question}\n",
    "        ans = self.model.predict_answers(samples=samples, inference_method=\"generate\")[0]\n",
    "        return ans\n",
    "\n",
    "    def PrintResult(self, three_class=False, acc=None, confusion_mat=None, ans_list=None, labels=None, label_3class=None, logPath=None):\n",
    "        \n",
    "        if acc:\n",
    "            self.acc = acc\n",
    "        if confusion_mat:\n",
    "            self.confusion_mat = confusion_mat\n",
    "        if ans_list:\n",
    "            self.ans_list = ans_list\n",
    "        if labels:\n",
    "            self.labels = labels\n",
    "        if label_3class:\n",
    "            self.label_3class = label_3class\n",
    "        \n",
    "        if logPath:\n",
    "            logfile = open(logPath, 'a')\n",
    "        \n",
    "        if three_class:\n",
    "            #assert type(self.num) == list, \"Type of num should be list.\"\n",
    "            \n",
    "            print(f'[TIME]      : {time.ctime()}', file=logfile)\n",
    "            print(f'[Finetuned] : {self.model.finetuned}', file=logfile)\n",
    "            print(f'[Data csv]  : {self.csv}', file=logfile)\n",
    "            print(f'[Question]  : {self.question}\\n', file=logfile)\n",
    "            \n",
    "            print(f'=== Overall ===', file=logfile)\n",
    "            print(f'Acc: {self.acc*100:.2f}%', file=logfile)\n",
    "            self.PrintConfusion(self.confusion_mat, logfile=logfile)\n",
    "            print('\\n', file=logfile)\n",
    "            \n",
    "            real_ans_list = self.ans_list[self.label_3class==0]\n",
    "            real_label = [0] * len(real_ans_list)\n",
    "            self.real_acc = accuracy_score(real_label, real_ans_list)\n",
    "            self.real_confusion_mat = confusion_matrix(real_label, real_ans_list, labels=[0,1])\n",
    "            print(f'=== Real images ===', file=logfile)\n",
    "            print(f'Acc: {self.real_acc*100:.2f}%', file=logfile)\n",
    "            self.PrintConfusion(self.real_confusion_mat, logfile=logfile)\n",
    "            print('\\n', file=logfile)\n",
    "            \n",
    "            com_ans_list = self.ans_list[self.label_3class==1]\n",
    "            com_label = [1] * len(com_ans_list)\n",
    "            self.com_acc = accuracy_score(com_label, com_ans_list)\n",
    "            self.com_confusion_mat = confusion_matrix(com_label, com_ans_list, labels=[0,1])\n",
    "            print(f'=== Common fake images ===', file=logfile)\n",
    "            print(f'Acc: {self.com_acc*100:.2f}%', file=logfile)\n",
    "            self.PrintConfusion(self.com_confusion_mat, logfile=logfile)\n",
    "            print('\\n', file=logfile)\n",
    "            \n",
    "            uncom_ans_list = self.ans_list[self.label_3class==2]\n",
    "            uncom_label = [1] * len(uncom_ans_list)\n",
    "            self.uncom_acc = accuracy_score(uncom_label, uncom_ans_list)\n",
    "            self.uncom_confusion_mat = confusion_matrix(uncom_label, uncom_ans_list, labels=[0,1])\n",
    "            print(f'=== Uncommon fake images ===', file=logfile)\n",
    "            print(f'Acc: {self.uncom_acc*100:.2f}%', file=logfile)\n",
    "            self.PrintConfusion(self.uncom_confusion_mat, logfile=logfile)\n",
    "            print('\\n', file=logfile)\n",
    "        else:\n",
    "            print(f'Question: {self.question}\\n', file=logfile)\n",
    "            print(f'Acc: {self.acc*100:.2f}%', file=logfile)\n",
    "            self.PrintConfusion(self.confusion_mat, logfile=logfile)\n",
    "            print('\\n', file=logfile)\n",
    "        \n",
    "        logfile.close()\n",
    "    \n",
    "    def PrintConfusion(self, mat, logfile):\n",
    "        padding = ' '\n",
    "        print(f'        | Pred real | Pred fake |', file=logfile)\n",
    "        print(f'GT real | {mat[0, 0]:{padding}<{10}}| {mat[0, 1]:{padding}<{11}}|', file=logfile)\n",
    "        print(f'GT fake | {mat[1, 0]:{padding}<{10}}| {mat[1, 1]:{padding}<{11}}|', file=logfile)\n",
    "        \n",
    "    def MultipleAns(self, ans1, ans2):\n",
    "    \n",
    "        # Q1: Is this photo common in real world?\n",
    "        # Q2: Is this photo generated by a model?\n",
    "        \n",
    "        final_ans = []\n",
    "        for ans in zip(ans1, ans2):\n",
    "            if ans[0] == 0 and ans[1] == 0:\n",
    "                final_ans.append(0)\n",
    "            else:\n",
    "                final_ans.append(1)\n",
    "        \n",
    "        acc = accuracy_score(self.labels, final_ans)\n",
    "        confusion_mat = confusion_matrix(self.labels, final_ans)\n",
    "        print(f'Accuracy: {acc*100:.2f}%')\n",
    "        self.PrintConfusion(confusion_mat)\n",
    "        \n",
    "        self.ans_list = final_ans\n",
    "        self.acc = acc\n",
    "        self.confusion_mat = confusion_mat\n",
    "        \n",
    "        return acc, confusion_mat, final_ans\n",
    "    \n",
    "def print_combine_result(pretrained_ans, finetuned_ans, label, logPath):\n",
    "    \n",
    "    logfile = open(logPath, 'a')\n",
    "    \n",
    "    def _print_confusion(mat, logfile):\n",
    "        padding = ' '\n",
    "        print(f'        | Pred real | Pred fake |', file=logfile)\n",
    "        print(f'GT real | {mat[0, 0]:{padding}<{10}}| {mat[0, 1]:{padding}<{11}}|', file=logfile)\n",
    "        print(f'GT fake | {mat[1, 0]:{padding}<{10}}| {mat[1, 1]:{padding}<{11}}|', file=logfile)\n",
    "    \n",
    "    comb_ans = np.ceil((pretrained_ans + finetuned_ans)/2).astype(np.int64)\n",
    "    \n",
    "    comb_acc = accuracy_score(label, comb_ans)\n",
    "    comb_confusion_mat = confusion_matrix(label, comb_ans, labels=[0,1])\n",
    "    \n",
    "    print(f'=== Overall (Comb) ===', file=logfile)\n",
    "    print(f'Acc: {comb_acc*100:.2f}%', file=logfile)\n",
    "    _print_confusion(comb_confusion_mat, logfile=logfile)\n",
    "    print('\\n', file=logfile)\n",
    "    \n",
    "    real_ans_list = comb_ans[label==0]\n",
    "    real_label = [0] * len(real_ans_list)\n",
    "    real_acc = accuracy_score(real_label, real_ans_list)\n",
    "    real_confusion_mat = confusion_matrix(real_label, real_ans_list, labels=[0,1])\n",
    "    print(f'=== Real images (Comb) ===', file=logfile)\n",
    "    print(f'Acc: {real_acc*100:.2f}%', file=logfile)\n",
    "    _print_confusion(real_confusion_mat, logfile=logfile)\n",
    "    print('\\n', file=logfile)\n",
    "    \n",
    "    \n",
    "    com_ans_list = comb_ans[label==1]\n",
    "    com_label = [1] * len(com_ans_list)\n",
    "    com_acc = accuracy_score(com_label, com_ans_list)\n",
    "    com_confusion_mat = confusion_matrix(com_label, com_ans_list, labels=[0,1])\n",
    "    print(f'=== Common fake images (Comb) ===', file=logfile)\n",
    "    print(f'Acc: {com_acc*100:.2f}%', file=logfile)\n",
    "    _print_confusion(com_confusion_mat, logfile=logfile)\n",
    "    print('\\n', file=logfile)\n",
    "    \n",
    "    return comb_acc, comb_confusion_mat, comb_ans"
   ]
  },
  {
   "cell_type": "code",
   "execution_count": 3,
   "metadata": {},
   "outputs": [
    {
     "name": "stdout",
     "output_type": "stream",
     "text": [
      "trainable params: 473088 || all params: 186755899 || trainable%: 0.2533189058729545\n"
     ]
    },
    {
     "name": "stderr",
     "output_type": "stream",
     "text": [
      "Loading checkpoint shards: 100%|██████████| 2/2 [00:14<00:00,  7.19s/it]\n"
     ]
    },
    {
     "name": "stdout",
     "output_type": "stream",
     "text": [
      "trainable params: 4194304 || all params: 6742618112 || trainable%: 0.06220586618327525\n",
      "load checkpoint from https://storage.googleapis.com/sfr-vision-language-research/LAVIS/models/InstructBLIP/instruct_blip_vicuna7b_trimmed.pth\n",
      "load checkpoint from /home/denny/LAVIS/lavis/output/BLIP2/Textual_inv/20230924221/checkpoint_best.pth\n",
      "Load model OK!\n"
     ]
    }
   ],
   "source": [
    "device = torch.device(\"cuda\" if torch.cuda.is_available() else \"cpu\")\n",
    "model, vis_processors, txt_processors = load_model_and_preprocess(name=\"blip2_vicuna_instruct_lora\", model_type=\"vicuna7b\", is_eval=True, device=device)\n",
    "\n",
    "print(f'Load model OK!')"
   ]
  },
  {
   "cell_type": "code",
   "execution_count": 4,
   "metadata": {},
   "outputs": [
    {
     "name": "stdout",
     "output_type": "stream",
     "text": [
      "Loading model...\n",
      "Log path: /home/denny/LAVIS/deepfake-detection/log/log2.txt\n",
      "Q1: Is this photo real?\n",
      "Load data from /eva_data0/iammingggg/textual_inversion/60k_6k_6k/test_lama_label.csv\n"
     ]
    },
    {
     "name": "stderr",
     "output_type": "stream",
     "text": [
      "  0%|          | 0/375 [00:00<?, ?it/s]"
     ]
    },
    {
     "name": "stderr",
     "output_type": "stream",
     "text": [
      "100%|██████████| 375/375 [06:02<00:00,  1.04it/s]\n",
      "/home/denny/anaconda3/envs/instblip/lib/python3.9/site-packages/numpy/lib/function_base.py:518: RuntimeWarning: Mean of empty slice.\n",
      "  avg = a.mean(axis, **keepdims_kw)\n",
      "/home/denny/anaconda3/envs/instblip/lib/python3.9/site-packages/numpy/core/_methods.py:190: RuntimeWarning: invalid value encountered in double_scalars\n",
      "  ret = ret.dtype.type(ret / rcount)\n",
      "/home/denny/anaconda3/envs/instblip/lib/python3.9/site-packages/numpy/lib/function_base.py:518: RuntimeWarning: Mean of empty slice.\n",
      "  avg = a.mean(axis, **keepdims_kw)\n",
      "/home/denny/anaconda3/envs/instblip/lib/python3.9/site-packages/numpy/core/_methods.py:190: RuntimeWarning: invalid value encountered in double_scalars\n",
      "  ret = ret.dtype.type(ret / rcount)\n"
     ]
    },
    {
     "name": "stdout",
     "output_type": "stream",
     "text": [
      "Question: Is this photo real?\n",
      "Acc: 99.93%\n",
      "Load data from /eva_data0/iammingggg/textual_inversion/60k_6k_6k/test_SD2IP_label.csv\n"
     ]
    },
    {
     "name": "stderr",
     "output_type": "stream",
     "text": [
      "100%|██████████| 375/375 [06:03<00:00,  1.03it/s]\n",
      "/home/denny/anaconda3/envs/instblip/lib/python3.9/site-packages/numpy/lib/function_base.py:518: RuntimeWarning: Mean of empty slice.\n",
      "  avg = a.mean(axis, **keepdims_kw)\n",
      "/home/denny/anaconda3/envs/instblip/lib/python3.9/site-packages/numpy/core/_methods.py:190: RuntimeWarning: invalid value encountered in double_scalars\n",
      "  ret = ret.dtype.type(ret / rcount)\n",
      "/home/denny/anaconda3/envs/instblip/lib/python3.9/site-packages/numpy/lib/function_base.py:518: RuntimeWarning: Mean of empty slice.\n",
      "  avg = a.mean(axis, **keepdims_kw)\n",
      "/home/denny/anaconda3/envs/instblip/lib/python3.9/site-packages/numpy/core/_methods.py:190: RuntimeWarning: invalid value encountered in double_scalars\n",
      "  ret = ret.dtype.type(ret / rcount)\n"
     ]
    },
    {
     "name": "stdout",
     "output_type": "stream",
     "text": [
      "Question: Is this photo real?\n",
      "Acc: 100.00%\n",
      "Load data from /eva_data0/iammingggg/textual_inversion/60k_6k_6k/test_lte_label.csv\n"
     ]
    },
    {
     "name": "stderr",
     "output_type": "stream",
     "text": [
      "100%|██████████| 375/375 [05:56<00:00,  1.05it/s]\n",
      "/home/denny/anaconda3/envs/instblip/lib/python3.9/site-packages/numpy/lib/function_base.py:518: RuntimeWarning: Mean of empty slice.\n",
      "  avg = a.mean(axis, **keepdims_kw)\n",
      "/home/denny/anaconda3/envs/instblip/lib/python3.9/site-packages/numpy/core/_methods.py:190: RuntimeWarning: invalid value encountered in double_scalars\n",
      "  ret = ret.dtype.type(ret / rcount)\n",
      "/home/denny/anaconda3/envs/instblip/lib/python3.9/site-packages/numpy/lib/function_base.py:518: RuntimeWarning: Mean of empty slice.\n",
      "  avg = a.mean(axis, **keepdims_kw)\n",
      "/home/denny/anaconda3/envs/instblip/lib/python3.9/site-packages/numpy/core/_methods.py:190: RuntimeWarning: invalid value encountered in double_scalars\n",
      "  ret = ret.dtype.type(ret / rcount)\n"
     ]
    },
    {
     "name": "stdout",
     "output_type": "stream",
     "text": [
      "Question: Is this photo real?\n",
      "Acc: 100.00%\n",
      "Load data from /eva_data0/iammingggg/textual_inversion/60k_6k_6k/test_SD2SR_label.csv\n"
     ]
    },
    {
     "name": "stderr",
     "output_type": "stream",
     "text": [
      "100%|██████████| 375/375 [05:57<00:00,  1.05it/s]\n",
      "/home/denny/anaconda3/envs/instblip/lib/python3.9/site-packages/numpy/lib/function_base.py:518: RuntimeWarning: Mean of empty slice.\n",
      "  avg = a.mean(axis, **keepdims_kw)\n",
      "/home/denny/anaconda3/envs/instblip/lib/python3.9/site-packages/numpy/core/_methods.py:190: RuntimeWarning: invalid value encountered in double_scalars\n",
      "  ret = ret.dtype.type(ret / rcount)\n",
      "/home/denny/anaconda3/envs/instblip/lib/python3.9/site-packages/numpy/lib/function_base.py:518: RuntimeWarning: Mean of empty slice.\n",
      "  avg = a.mean(axis, **keepdims_kw)\n",
      "/home/denny/anaconda3/envs/instblip/lib/python3.9/site-packages/numpy/core/_methods.py:190: RuntimeWarning: invalid value encountered in double_scalars\n",
      "  ret = ret.dtype.type(ret / rcount)\n"
     ]
    },
    {
     "name": "stdout",
     "output_type": "stream",
     "text": [
      "Question: Is this photo real?\n",
      "Acc: 99.97%\n",
      "Load data from /eva_data0/iammingggg/textual_inversion/60k_6k_6k/test_deeperforensics_faceOnly_label.csv\n"
     ]
    },
    {
     "name": "stderr",
     "output_type": "stream",
     "text": [
      "  4%|▍         | 15/375 [00:15<06:08,  1.02s/it]\n"
     ]
    },
    {
     "data": {
      "text/html": [
       "<pre style=\"white-space:pre;overflow-x:auto;line-height:normal;font-family:Menlo,'DejaVu Sans Mono',consolas,'Courier New',monospace\"><span style=\"color: #800000; text-decoration-color: #800000\">╭─────────────────────────────── </span><span style=\"color: #800000; text-decoration-color: #800000; font-weight: bold\">Traceback </span><span style=\"color: #bf7f7f; text-decoration-color: #bf7f7f; font-weight: bold\">(most recent call last)</span><span style=\"color: #800000; text-decoration-color: #800000\"> ────────────────────────────────╮</span>\n",
       "<span style=\"color: #800000; text-decoration-color: #800000\">│</span> in <span style=\"color: #00ff00; text-decoration-color: #00ff00\">&lt;module&gt;</span>:<span style=\"color: #0000ff; text-decoration-color: #0000ff\">45</span>                                                                                   <span style=\"color: #800000; text-decoration-color: #800000\">│</span>\n",
       "<span style=\"color: #800000; text-decoration-color: #800000\">│</span>                                                                                                  <span style=\"color: #800000; text-decoration-color: #800000\">│</span>\n",
       "<span style=\"color: #800000; text-decoration-color: #800000\">│</span>   <span style=\"color: #7f7f7f; text-decoration-color: #7f7f7f\">42 </span><span style=\"color: #7f7f7f; text-decoration-color: #7f7f7f\">│   </span><span style=\"color: #00ffff; text-decoration-color: #00ffff\">print</span>(<span style=\"color: #808000; text-decoration-color: #808000\">f'Load data from {</span>csv_path<span style=\"color: #808000; text-decoration-color: #808000\">}'</span>)                                                     <span style=\"color: #800000; text-decoration-color: #800000\">│</span>\n",
       "<span style=\"color: #800000; text-decoration-color: #800000\">│</span>   <span style=\"color: #7f7f7f; text-decoration-color: #7f7f7f\">43 </span><span style=\"color: #7f7f7f; text-decoration-color: #7f7f7f\">│   </span>                                                                                        <span style=\"color: #800000; text-decoration-color: #800000\">│</span>\n",
       "<span style=\"color: #800000; text-decoration-color: #800000\">│</span>   <span style=\"color: #7f7f7f; text-decoration-color: #7f7f7f\">44 </span><span style=\"color: #7f7f7f; text-decoration-color: #7f7f7f\">│   </span>question = q1                                                                           <span style=\"color: #800000; text-decoration-color: #800000\">│</span>\n",
       "<span style=\"color: #800000; text-decoration-color: #800000\">│</span> <span style=\"color: #800000; text-decoration-color: #800000\">❱ </span>45 <span style=\"color: #7f7f7f; text-decoration-color: #7f7f7f\">│   </span>acc, confusion_mat, pretrained_ans_list, labels, label_3class = instruct.QueryImgs_b    <span style=\"color: #800000; text-decoration-color: #800000\">│</span>\n",
       "<span style=\"color: #800000; text-decoration-color: #800000\">│</span>   <span style=\"color: #7f7f7f; text-decoration-color: #7f7f7f\">46 </span><span style=\"color: #7f7f7f; text-decoration-color: #7f7f7f\">│   </span><span style=\"color: #00ffff; text-decoration-color: #00ffff\">print</span>(<span style=\"color: #808000; text-decoration-color: #808000\">f'Question: {</span>question<span style=\"color: #808000; text-decoration-color: #808000\">}'</span>)                                                          <span style=\"color: #800000; text-decoration-color: #800000\">│</span>\n",
       "<span style=\"color: #800000; text-decoration-color: #800000\">│</span>   <span style=\"color: #7f7f7f; text-decoration-color: #7f7f7f\">47 </span><span style=\"color: #7f7f7f; text-decoration-color: #7f7f7f\">│   </span><span style=\"color: #00ffff; text-decoration-color: #00ffff\">print</span>(<span style=\"color: #808000; text-decoration-color: #808000\">f'Acc: {</span>acc*<span style=\"color: #0000ff; text-decoration-color: #0000ff\">100</span><span style=\"color: #808000; text-decoration-color: #808000\">:.2f}%'</span>)                                                           <span style=\"color: #800000; text-decoration-color: #800000\">│</span>\n",
       "<span style=\"color: #800000; text-decoration-color: #800000\">│</span>   <span style=\"color: #7f7f7f; text-decoration-color: #7f7f7f\">48 </span>                                                                                            <span style=\"color: #800000; text-decoration-color: #800000\">│</span>\n",
       "<span style=\"color: #800000; text-decoration-color: #800000\">│</span>                                                                                                  <span style=\"color: #800000; text-decoration-color: #800000\">│</span>\n",
       "<span style=\"color: #800000; text-decoration-color: #800000\">│</span> in <span style=\"color: #00ff00; text-decoration-color: #00ff00\">QueryImgs_batch</span>:<span style=\"color: #0000ff; text-decoration-color: #0000ff\">156</span>                                                                           <span style=\"color: #800000; text-decoration-color: #800000\">│</span>\n",
       "<span style=\"color: #800000; text-decoration-color: #800000\">│</span>                                                                                                  <span style=\"color: #800000; text-decoration-color: #800000\">│</span>\n",
       "<span style=\"color: #800000; text-decoration-color: #800000\">│</span>   <span style=\"color: #7f7f7f; text-decoration-color: #7f7f7f\">153 </span><span style=\"color: #7f7f7f; text-decoration-color: #7f7f7f\">│   │   │   </span>questions = [<span style=\"color: #00ffff; text-decoration-color: #00ffff\">self</span>.question] * image.shape[<span style=\"color: #0000ff; text-decoration-color: #0000ff\">0</span>]                                   <span style=\"color: #800000; text-decoration-color: #800000\">│</span>\n",
       "<span style=\"color: #800000; text-decoration-color: #800000\">│</span>   <span style=\"color: #7f7f7f; text-decoration-color: #7f7f7f\">154 </span><span style=\"color: #7f7f7f; text-decoration-color: #7f7f7f\">│   │   │   </span>samples = {<span style=\"color: #808000; text-decoration-color: #808000\">\"image\"</span>: image, <span style=\"color: #808000; text-decoration-color: #808000\">\"text_input\"</span>: questions}                            <span style=\"color: #800000; text-decoration-color: #800000\">│</span>\n",
       "<span style=\"color: #800000; text-decoration-color: #800000\">│</span>   <span style=\"color: #7f7f7f; text-decoration-color: #7f7f7f\">155 </span><span style=\"color: #7f7f7f; text-decoration-color: #7f7f7f\">│   │   │   </span>                                                                               <span style=\"color: #800000; text-decoration-color: #800000\">│</span>\n",
       "<span style=\"color: #800000; text-decoration-color: #800000\">│</span> <span style=\"color: #800000; text-decoration-color: #800000\">❱ </span>156 <span style=\"color: #7f7f7f; text-decoration-color: #7f7f7f\">│   │   │   </span>ans = <span style=\"color: #00ffff; text-decoration-color: #00ffff\">self</span>.model.predict_answers(samples=samples, inference_method=<span style=\"color: #808000; text-decoration-color: #808000\">\"generate</span>   <span style=\"color: #800000; text-decoration-color: #800000\">│</span>\n",
       "<span style=\"color: #800000; text-decoration-color: #800000\">│</span>   <span style=\"color: #7f7f7f; text-decoration-color: #7f7f7f\">157 </span><span style=\"color: #7f7f7f; text-decoration-color: #7f7f7f\">│   │   │   </span>pred_label = [<span style=\"color: #0000ff; text-decoration-color: #0000ff\">0</span> <span style=\"color: #0000ff; text-decoration-color: #0000ff\">if</span> a == true_string <span style=\"color: #0000ff; text-decoration-color: #0000ff\">else</span> <span style=\"color: #0000ff; text-decoration-color: #0000ff\">1</span> <span style=\"color: #0000ff; text-decoration-color: #0000ff\">for</span> a <span style=\"color: #ff00ff; text-decoration-color: #ff00ff\">in</span> ans]                       <span style=\"color: #800000; text-decoration-color: #800000\">│</span>\n",
       "<span style=\"color: #800000; text-decoration-color: #800000\">│</span>   <span style=\"color: #7f7f7f; text-decoration-color: #7f7f7f\">158 </span><span style=\"color: #7f7f7f; text-decoration-color: #7f7f7f\">│   │   │   </span><span style=\"color: #00ffff; text-decoration-color: #00ffff\">self</span>.ans_list += pred_label                                                    <span style=\"color: #800000; text-decoration-color: #800000\">│</span>\n",
       "<span style=\"color: #800000; text-decoration-color: #800000\">│</span>   <span style=\"color: #7f7f7f; text-decoration-color: #7f7f7f\">159 </span>                                                                                           <span style=\"color: #800000; text-decoration-color: #800000\">│</span>\n",
       "<span style=\"color: #800000; text-decoration-color: #800000\">│</span>                                                                                                  <span style=\"color: #800000; text-decoration-color: #800000\">│</span>\n",
       "<span style=\"color: #800000; text-decoration-color: #800000\">│</span> <span style=\"color: #bfbf7f; text-decoration-color: #bfbf7f\">/home/denny/LAVIS/lavis/models/blip2_models/</span><span style=\"color: #808000; text-decoration-color: #808000; font-weight: bold\">blip2_vicuna_instruct_lora.py</span>:<span style=\"color: #0000ff; text-decoration-color: #0000ff\">469</span> in <span style=\"color: #00ff00; text-decoration-color: #00ff00\">predict_answers</span> <span style=\"color: #800000; text-decoration-color: #800000\">│</span>\n",
       "<span style=\"color: #800000; text-decoration-color: #800000\">│</span>                                                                                                  <span style=\"color: #800000; text-decoration-color: #800000\">│</span>\n",
       "<span style=\"color: #800000; text-decoration-color: #800000\">│</span>   <span style=\"color: #7f7f7f; text-decoration-color: #7f7f7f\">466 </span><span style=\"color: #7f7f7f; text-decoration-color: #7f7f7f\">│   │   </span>                                                                                   <span style=\"color: #800000; text-decoration-color: #800000\">│</span>\n",
       "<span style=\"color: #800000; text-decoration-color: #800000\">│</span>   <span style=\"color: #7f7f7f; text-decoration-color: #7f7f7f\">467 </span><span style=\"color: #7f7f7f; text-decoration-color: #7f7f7f\">│   │   </span>samples[<span style=\"color: #808000; text-decoration-color: #808000\">\"prompt\"</span>] = text_input                                                     <span style=\"color: #800000; text-decoration-color: #800000\">│</span>\n",
       "<span style=\"color: #800000; text-decoration-color: #800000\">│</span>   <span style=\"color: #7f7f7f; text-decoration-color: #7f7f7f\">468 </span><span style=\"color: #7f7f7f; text-decoration-color: #7f7f7f\">│   │   </span>                                                                                   <span style=\"color: #800000; text-decoration-color: #800000\">│</span>\n",
       "<span style=\"color: #800000; text-decoration-color: #800000\">│</span> <span style=\"color: #800000; text-decoration-color: #800000\">❱ </span>469 <span style=\"color: #7f7f7f; text-decoration-color: #7f7f7f\">│   │   </span>output_text = <span style=\"color: #00ffff; text-decoration-color: #00ffff\">self</span>.generate(                                                       <span style=\"color: #800000; text-decoration-color: #800000\">│</span>\n",
       "<span style=\"color: #800000; text-decoration-color: #800000\">│</span>   <span style=\"color: #7f7f7f; text-decoration-color: #7f7f7f\">470 </span><span style=\"color: #7f7f7f; text-decoration-color: #7f7f7f\">│   │   │   </span>samples,                                                                       <span style=\"color: #800000; text-decoration-color: #800000\">│</span>\n",
       "<span style=\"color: #800000; text-decoration-color: #800000\">│</span>   <span style=\"color: #7f7f7f; text-decoration-color: #7f7f7f\">471 </span><span style=\"color: #7f7f7f; text-decoration-color: #7f7f7f\">│   │   │   </span>num_beams=num_beams,                                                           <span style=\"color: #800000; text-decoration-color: #800000\">│</span>\n",
       "<span style=\"color: #800000; text-decoration-color: #800000\">│</span>   <span style=\"color: #7f7f7f; text-decoration-color: #7f7f7f\">472 </span><span style=\"color: #7f7f7f; text-decoration-color: #7f7f7f\">│   │   │   </span>max_length=max_len,                                                            <span style=\"color: #800000; text-decoration-color: #800000\">│</span>\n",
       "<span style=\"color: #800000; text-decoration-color: #800000\">│</span>                                                                                                  <span style=\"color: #800000; text-decoration-color: #800000\">│</span>\n",
       "<span style=\"color: #800000; text-decoration-color: #800000\">│</span> <span style=\"color: #bfbf7f; text-decoration-color: #bfbf7f\">/home/denny/anaconda3/envs/instblip/lib/python3.9/site-packages/torch/utils/</span><span style=\"color: #808000; text-decoration-color: #808000; font-weight: bold\">_contextlib.py</span>:<span style=\"color: #0000ff; text-decoration-color: #0000ff\">115</span>   <span style=\"color: #800000; text-decoration-color: #800000\">│</span>\n",
       "<span style=\"color: #800000; text-decoration-color: #800000\">│</span> in <span style=\"color: #00ff00; text-decoration-color: #00ff00\">decorate_context</span>                                                                              <span style=\"color: #800000; text-decoration-color: #800000\">│</span>\n",
       "<span style=\"color: #800000; text-decoration-color: #800000\">│</span>                                                                                                  <span style=\"color: #800000; text-decoration-color: #800000\">│</span>\n",
       "<span style=\"color: #800000; text-decoration-color: #800000\">│</span>   <span style=\"color: #7f7f7f; text-decoration-color: #7f7f7f\">112 </span><span style=\"color: #7f7f7f; text-decoration-color: #7f7f7f\">│   </span><span style=\"color: #ff00ff; text-decoration-color: #ff00ff; font-weight: bold\">@functools</span>.wraps(func)                                                                 <span style=\"color: #800000; text-decoration-color: #800000\">│</span>\n",
       "<span style=\"color: #800000; text-decoration-color: #800000\">│</span>   <span style=\"color: #7f7f7f; text-decoration-color: #7f7f7f\">113 </span><span style=\"color: #7f7f7f; text-decoration-color: #7f7f7f\">│   </span><span style=\"color: #0000ff; text-decoration-color: #0000ff\">def</span> <span style=\"color: #00ff00; text-decoration-color: #00ff00\">decorate_context</span>(*args, **kwargs):                                                 <span style=\"color: #800000; text-decoration-color: #800000\">│</span>\n",
       "<span style=\"color: #800000; text-decoration-color: #800000\">│</span>   <span style=\"color: #7f7f7f; text-decoration-color: #7f7f7f\">114 </span><span style=\"color: #7f7f7f; text-decoration-color: #7f7f7f\">│   │   </span><span style=\"color: #0000ff; text-decoration-color: #0000ff\">with</span> ctx_factory():                                                                <span style=\"color: #800000; text-decoration-color: #800000\">│</span>\n",
       "<span style=\"color: #800000; text-decoration-color: #800000\">│</span> <span style=\"color: #800000; text-decoration-color: #800000\">❱ </span>115 <span style=\"color: #7f7f7f; text-decoration-color: #7f7f7f\">│   │   │   </span><span style=\"color: #0000ff; text-decoration-color: #0000ff\">return</span> func(*args, **kwargs)                                                   <span style=\"color: #800000; text-decoration-color: #800000\">│</span>\n",
       "<span style=\"color: #800000; text-decoration-color: #800000\">│</span>   <span style=\"color: #7f7f7f; text-decoration-color: #7f7f7f\">116 </span><span style=\"color: #7f7f7f; text-decoration-color: #7f7f7f\">│   </span>                                                                                       <span style=\"color: #800000; text-decoration-color: #800000\">│</span>\n",
       "<span style=\"color: #800000; text-decoration-color: #800000\">│</span>   <span style=\"color: #7f7f7f; text-decoration-color: #7f7f7f\">117 </span><span style=\"color: #7f7f7f; text-decoration-color: #7f7f7f\">│   </span><span style=\"color: #0000ff; text-decoration-color: #0000ff\">return</span> decorate_context                                                                <span style=\"color: #800000; text-decoration-color: #800000\">│</span>\n",
       "<span style=\"color: #800000; text-decoration-color: #800000\">│</span>   <span style=\"color: #7f7f7f; text-decoration-color: #7f7f7f\">118 </span>                                                                                           <span style=\"color: #800000; text-decoration-color: #800000\">│</span>\n",
       "<span style=\"color: #800000; text-decoration-color: #800000\">│</span>                                                                                                  <span style=\"color: #800000; text-decoration-color: #800000\">│</span>\n",
       "<span style=\"color: #800000; text-decoration-color: #800000\">│</span> <span style=\"color: #bfbf7f; text-decoration-color: #bfbf7f\">/home/denny/LAVIS/lavis/models/blip2_models/</span><span style=\"color: #808000; text-decoration-color: #808000; font-weight: bold\">blip2_vicuna_instruct_lora.py</span>:<span style=\"color: #0000ff; text-decoration-color: #0000ff\">413</span> in <span style=\"color: #00ff00; text-decoration-color: #00ff00\">generate</span>        <span style=\"color: #800000; text-decoration-color: #800000\">│</span>\n",
       "<span style=\"color: #800000; text-decoration-color: #800000\">│</span>                                                                                                  <span style=\"color: #800000; text-decoration-color: #800000\">│</span>\n",
       "<span style=\"color: #800000; text-decoration-color: #800000\">│</span>   <span style=\"color: #7f7f7f; text-decoration-color: #7f7f7f\">410 </span><span style=\"color: #7f7f7f; text-decoration-color: #7f7f7f\">│   │   │   </span>inputs_embeds = torch.cat([inputs_llm, inputs_embeds], dim=<span style=\"color: #0000ff; text-decoration-color: #0000ff\">1</span>)                  <span style=\"color: #800000; text-decoration-color: #800000\">│</span>\n",
       "<span style=\"color: #800000; text-decoration-color: #800000\">│</span>   <span style=\"color: #7f7f7f; text-decoration-color: #7f7f7f\">411 </span><span style=\"color: #7f7f7f; text-decoration-color: #7f7f7f\">│   │   │   </span>attention_mask = torch.cat([atts_llm, llm_tokens.attention_mask], dim=<span style=\"color: #0000ff; text-decoration-color: #0000ff\">1</span>)       <span style=\"color: #800000; text-decoration-color: #800000\">│</span>\n",
       "<span style=\"color: #800000; text-decoration-color: #800000\">│</span>   <span style=\"color: #7f7f7f; text-decoration-color: #7f7f7f\">412 </span><span style=\"color: #7f7f7f; text-decoration-color: #7f7f7f\">│   │   │   </span>                                                                               <span style=\"color: #800000; text-decoration-color: #800000\">│</span>\n",
       "<span style=\"color: #800000; text-decoration-color: #800000\">│</span> <span style=\"color: #800000; text-decoration-color: #800000\">❱ </span>413 <span style=\"color: #7f7f7f; text-decoration-color: #7f7f7f\">│   │   │   </span>outputs = <span style=\"color: #00ffff; text-decoration-color: #00ffff\">self</span>.llm_model.generate(                                             <span style=\"color: #800000; text-decoration-color: #800000\">│</span>\n",
       "<span style=\"color: #800000; text-decoration-color: #800000\">│</span>   <span style=\"color: #7f7f7f; text-decoration-color: #7f7f7f\">414 </span><span style=\"color: #7f7f7f; text-decoration-color: #7f7f7f\">│   │   │   │   </span>inputs_embeds=inputs_embeds,                                               <span style=\"color: #800000; text-decoration-color: #800000\">│</span>\n",
       "<span style=\"color: #800000; text-decoration-color: #800000\">│</span>   <span style=\"color: #7f7f7f; text-decoration-color: #7f7f7f\">415 </span><span style=\"color: #7f7f7f; text-decoration-color: #7f7f7f\">│   │   │   │   </span>attention_mask=attention_mask,                                             <span style=\"color: #800000; text-decoration-color: #800000\">│</span>\n",
       "<span style=\"color: #800000; text-decoration-color: #800000\">│</span>   <span style=\"color: #7f7f7f; text-decoration-color: #7f7f7f\">416 </span><span style=\"color: #7f7f7f; text-decoration-color: #7f7f7f\">│   │   │   │   </span>do_sample=use_nucleus_sampling,                                            <span style=\"color: #800000; text-decoration-color: #800000\">│</span>\n",
       "<span style=\"color: #800000; text-decoration-color: #800000\">│</span>                                                                                                  <span style=\"color: #800000; text-decoration-color: #800000\">│</span>\n",
       "<span style=\"color: #800000; text-decoration-color: #800000\">│</span> <span style=\"color: #bfbf7f; text-decoration-color: #bfbf7f\">/home/denny/anaconda3/envs/instblip/lib/python3.9/site-packages/peft/</span><span style=\"color: #808000; text-decoration-color: #808000; font-weight: bold\">peft_model.py</span>:<span style=\"color: #0000ff; text-decoration-color: #0000ff\">731</span> in        <span style=\"color: #800000; text-decoration-color: #800000\">│</span>\n",
       "<span style=\"color: #800000; text-decoration-color: #800000\">│</span> <span style=\"color: #00ff00; text-decoration-color: #00ff00\">generate</span>                                                                                         <span style=\"color: #800000; text-decoration-color: #800000\">│</span>\n",
       "<span style=\"color: #800000; text-decoration-color: #800000\">│</span>                                                                                                  <span style=\"color: #800000; text-decoration-color: #800000\">│</span>\n",
       "<span style=\"color: #800000; text-decoration-color: #800000\">│</span>   <span style=\"color: #7f7f7f; text-decoration-color: #7f7f7f\"> 728 </span><span style=\"color: #7f7f7f; text-decoration-color: #7f7f7f\">│   │   </span><span style=\"color: #00ffff; text-decoration-color: #00ffff\">self</span>.base_model.prepare_inputs_for_generation = <span style=\"color: #00ffff; text-decoration-color: #00ffff\">self</span>.prepare_inputs_for_generati  <span style=\"color: #800000; text-decoration-color: #800000\">│</span>\n",
       "<span style=\"color: #800000; text-decoration-color: #800000\">│</span>   <span style=\"color: #7f7f7f; text-decoration-color: #7f7f7f\"> 729 </span><span style=\"color: #7f7f7f; text-decoration-color: #7f7f7f\">│   │   </span><span style=\"color: #0000ff; text-decoration-color: #0000ff\">try</span>:                                                                              <span style=\"color: #800000; text-decoration-color: #800000\">│</span>\n",
       "<span style=\"color: #800000; text-decoration-color: #800000\">│</span>   <span style=\"color: #7f7f7f; text-decoration-color: #7f7f7f\"> 730 </span><span style=\"color: #7f7f7f; text-decoration-color: #7f7f7f\">│   │   │   </span><span style=\"color: #0000ff; text-decoration-color: #0000ff\">if</span> <span style=\"color: #ff00ff; text-decoration-color: #ff00ff\">not</span> <span style=\"color: #00ffff; text-decoration-color: #00ffff\">isinstance</span>(peft_config, PromptLearningConfig):                         <span style=\"color: #800000; text-decoration-color: #800000\">│</span>\n",
       "<span style=\"color: #800000; text-decoration-color: #800000\">│</span> <span style=\"color: #800000; text-decoration-color: #800000\">❱ </span> 731 <span style=\"color: #7f7f7f; text-decoration-color: #7f7f7f\">│   │   │   │   </span>outputs = <span style=\"color: #00ffff; text-decoration-color: #00ffff\">self</span>.base_model.generate(**kwargs)                              <span style=\"color: #800000; text-decoration-color: #800000\">│</span>\n",
       "<span style=\"color: #800000; text-decoration-color: #800000\">│</span>   <span style=\"color: #7f7f7f; text-decoration-color: #7f7f7f\"> 732 </span><span style=\"color: #7f7f7f; text-decoration-color: #7f7f7f\">│   │   │   </span><span style=\"color: #0000ff; text-decoration-color: #0000ff\">else</span>:                                                                         <span style=\"color: #800000; text-decoration-color: #800000\">│</span>\n",
       "<span style=\"color: #800000; text-decoration-color: #800000\">│</span>   <span style=\"color: #7f7f7f; text-decoration-color: #7f7f7f\"> 733 </span><span style=\"color: #7f7f7f; text-decoration-color: #7f7f7f\">│   │   │   │   </span><span style=\"color: #0000ff; text-decoration-color: #0000ff\">if</span> <span style=\"color: #808000; text-decoration-color: #808000\">\"input_ids\"</span> <span style=\"color: #ff00ff; text-decoration-color: #ff00ff\">not</span> <span style=\"color: #ff00ff; text-decoration-color: #ff00ff\">in</span> kwargs:                                             <span style=\"color: #800000; text-decoration-color: #800000\">│</span>\n",
       "<span style=\"color: #800000; text-decoration-color: #800000\">│</span>   <span style=\"color: #7f7f7f; text-decoration-color: #7f7f7f\"> 734 </span><span style=\"color: #7f7f7f; text-decoration-color: #7f7f7f\">│   │   │   │   │   </span><span style=\"color: #0000ff; text-decoration-color: #0000ff\">raise</span> <span style=\"color: #00ffff; text-decoration-color: #00ffff\">ValueError</span>(<span style=\"color: #808000; text-decoration-color: #808000\">\"input_ids must be provided for Peft model generati</span>  <span style=\"color: #800000; text-decoration-color: #800000\">│</span>\n",
       "<span style=\"color: #800000; text-decoration-color: #800000\">│</span>                                                                                                  <span style=\"color: #800000; text-decoration-color: #800000\">│</span>\n",
       "<span style=\"color: #800000; text-decoration-color: #800000\">│</span> <span style=\"color: #bfbf7f; text-decoration-color: #bfbf7f\">/home/denny/anaconda3/envs/instblip/lib/python3.9/site-packages/torch/utils/</span><span style=\"color: #808000; text-decoration-color: #808000; font-weight: bold\">_contextlib.py</span>:<span style=\"color: #0000ff; text-decoration-color: #0000ff\">115</span>   <span style=\"color: #800000; text-decoration-color: #800000\">│</span>\n",
       "<span style=\"color: #800000; text-decoration-color: #800000\">│</span> in <span style=\"color: #00ff00; text-decoration-color: #00ff00\">decorate_context</span>                                                                              <span style=\"color: #800000; text-decoration-color: #800000\">│</span>\n",
       "<span style=\"color: #800000; text-decoration-color: #800000\">│</span>                                                                                                  <span style=\"color: #800000; text-decoration-color: #800000\">│</span>\n",
       "<span style=\"color: #800000; text-decoration-color: #800000\">│</span>   <span style=\"color: #7f7f7f; text-decoration-color: #7f7f7f\">112 </span><span style=\"color: #7f7f7f; text-decoration-color: #7f7f7f\">│   </span><span style=\"color: #ff00ff; text-decoration-color: #ff00ff; font-weight: bold\">@functools</span>.wraps(func)                                                                 <span style=\"color: #800000; text-decoration-color: #800000\">│</span>\n",
       "<span style=\"color: #800000; text-decoration-color: #800000\">│</span>   <span style=\"color: #7f7f7f; text-decoration-color: #7f7f7f\">113 </span><span style=\"color: #7f7f7f; text-decoration-color: #7f7f7f\">│   </span><span style=\"color: #0000ff; text-decoration-color: #0000ff\">def</span> <span style=\"color: #00ff00; text-decoration-color: #00ff00\">decorate_context</span>(*args, **kwargs):                                                 <span style=\"color: #800000; text-decoration-color: #800000\">│</span>\n",
       "<span style=\"color: #800000; text-decoration-color: #800000\">│</span>   <span style=\"color: #7f7f7f; text-decoration-color: #7f7f7f\">114 </span><span style=\"color: #7f7f7f; text-decoration-color: #7f7f7f\">│   │   </span><span style=\"color: #0000ff; text-decoration-color: #0000ff\">with</span> ctx_factory():                                                                <span style=\"color: #800000; text-decoration-color: #800000\">│</span>\n",
       "<span style=\"color: #800000; text-decoration-color: #800000\">│</span> <span style=\"color: #800000; text-decoration-color: #800000\">❱ </span>115 <span style=\"color: #7f7f7f; text-decoration-color: #7f7f7f\">│   │   │   </span><span style=\"color: #0000ff; text-decoration-color: #0000ff\">return</span> func(*args, **kwargs)                                                   <span style=\"color: #800000; text-decoration-color: #800000\">│</span>\n",
       "<span style=\"color: #800000; text-decoration-color: #800000\">│</span>   <span style=\"color: #7f7f7f; text-decoration-color: #7f7f7f\">116 </span><span style=\"color: #7f7f7f; text-decoration-color: #7f7f7f\">│   </span>                                                                                       <span style=\"color: #800000; text-decoration-color: #800000\">│</span>\n",
       "<span style=\"color: #800000; text-decoration-color: #800000\">│</span>   <span style=\"color: #7f7f7f; text-decoration-color: #7f7f7f\">117 </span><span style=\"color: #7f7f7f; text-decoration-color: #7f7f7f\">│   </span><span style=\"color: #0000ff; text-decoration-color: #0000ff\">return</span> decorate_context                                                                <span style=\"color: #800000; text-decoration-color: #800000\">│</span>\n",
       "<span style=\"color: #800000; text-decoration-color: #800000\">│</span>   <span style=\"color: #7f7f7f; text-decoration-color: #7f7f7f\">118 </span>                                                                                           <span style=\"color: #800000; text-decoration-color: #800000\">│</span>\n",
       "<span style=\"color: #800000; text-decoration-color: #800000\">│</span>                                                                                                  <span style=\"color: #800000; text-decoration-color: #800000\">│</span>\n",
       "<span style=\"color: #800000; text-decoration-color: #800000\">│</span> <span style=\"color: #bfbf7f; text-decoration-color: #bfbf7f\">/home/denny/anaconda3/envs/instblip/lib/python3.9/site-packages/transformers/generation/</span><span style=\"color: #808000; text-decoration-color: #808000; font-weight: bold\">utils.py</span> <span style=\"color: #800000; text-decoration-color: #800000\">│</span>\n",
       "<span style=\"color: #800000; text-decoration-color: #800000\">│</span> :<span style=\"color: #0000ff; text-decoration-color: #0000ff\">1611</span> in <span style=\"color: #00ff00; text-decoration-color: #00ff00\">generate</span>                                                                                <span style=\"color: #800000; text-decoration-color: #800000\">│</span>\n",
       "<span style=\"color: #800000; text-decoration-color: #800000\">│</span>                                                                                                  <span style=\"color: #800000; text-decoration-color: #800000\">│</span>\n",
       "<span style=\"color: #800000; text-decoration-color: #800000\">│</span>   <span style=\"color: #7f7f7f; text-decoration-color: #7f7f7f\">1608 </span><span style=\"color: #7f7f7f; text-decoration-color: #7f7f7f\">│   │   │   │   </span>**model_kwargs,                                                           <span style=\"color: #800000; text-decoration-color: #800000\">│</span>\n",
       "<span style=\"color: #800000; text-decoration-color: #800000\">│</span>   <span style=\"color: #7f7f7f; text-decoration-color: #7f7f7f\">1609 </span><span style=\"color: #7f7f7f; text-decoration-color: #7f7f7f\">│   │   │   </span>)                                                                             <span style=\"color: #800000; text-decoration-color: #800000\">│</span>\n",
       "<span style=\"color: #800000; text-decoration-color: #800000\">│</span>   <span style=\"color: #7f7f7f; text-decoration-color: #7f7f7f\">1610 </span><span style=\"color: #7f7f7f; text-decoration-color: #7f7f7f\">│   │   │   </span><span style=\"color: #7f7f7f; text-decoration-color: #7f7f7f\"># 13. run beam search</span>                                                         <span style=\"color: #800000; text-decoration-color: #800000\">│</span>\n",
       "<span style=\"color: #800000; text-decoration-color: #800000\">│</span> <span style=\"color: #800000; text-decoration-color: #800000\">❱ </span>1611 <span style=\"color: #7f7f7f; text-decoration-color: #7f7f7f\">│   │   │   </span><span style=\"color: #0000ff; text-decoration-color: #0000ff\">return</span> <span style=\"color: #00ffff; text-decoration-color: #00ffff\">self</span>.beam_search(                                                      <span style=\"color: #800000; text-decoration-color: #800000\">│</span>\n",
       "<span style=\"color: #800000; text-decoration-color: #800000\">│</span>   <span style=\"color: #7f7f7f; text-decoration-color: #7f7f7f\">1612 </span><span style=\"color: #7f7f7f; text-decoration-color: #7f7f7f\">│   │   │   │   </span>input_ids,                                                                <span style=\"color: #800000; text-decoration-color: #800000\">│</span>\n",
       "<span style=\"color: #800000; text-decoration-color: #800000\">│</span>   <span style=\"color: #7f7f7f; text-decoration-color: #7f7f7f\">1613 </span><span style=\"color: #7f7f7f; text-decoration-color: #7f7f7f\">│   │   │   │   </span>beam_scorer,                                                              <span style=\"color: #800000; text-decoration-color: #800000\">│</span>\n",
       "<span style=\"color: #800000; text-decoration-color: #800000\">│</span>   <span style=\"color: #7f7f7f; text-decoration-color: #7f7f7f\">1614 </span><span style=\"color: #7f7f7f; text-decoration-color: #7f7f7f\">│   │   │   │   </span>logits_processor=logits_processor,                                        <span style=\"color: #800000; text-decoration-color: #800000\">│</span>\n",
       "<span style=\"color: #800000; text-decoration-color: #800000\">│</span>                                                                                                  <span style=\"color: #800000; text-decoration-color: #800000\">│</span>\n",
       "<span style=\"color: #800000; text-decoration-color: #800000\">│</span> <span style=\"color: #bfbf7f; text-decoration-color: #bfbf7f\">/home/denny/anaconda3/envs/instblip/lib/python3.9/site-packages/transformers/generation/</span><span style=\"color: #808000; text-decoration-color: #808000; font-weight: bold\">utils.py</span> <span style=\"color: #800000; text-decoration-color: #800000\">│</span>\n",
       "<span style=\"color: #800000; text-decoration-color: #800000\">│</span> :<span style=\"color: #0000ff; text-decoration-color: #0000ff\">2909</span> in <span style=\"color: #00ff00; text-decoration-color: #00ff00\">beam_search</span>                                                                             <span style=\"color: #800000; text-decoration-color: #800000\">│</span>\n",
       "<span style=\"color: #800000; text-decoration-color: #800000\">│</span>                                                                                                  <span style=\"color: #800000; text-decoration-color: #800000\">│</span>\n",
       "<span style=\"color: #800000; text-decoration-color: #800000\">│</span>   <span style=\"color: #7f7f7f; text-decoration-color: #7f7f7f\">2906 </span><span style=\"color: #7f7f7f; text-decoration-color: #7f7f7f\">│   │   │   </span>                                                                              <span style=\"color: #800000; text-decoration-color: #800000\">│</span>\n",
       "<span style=\"color: #800000; text-decoration-color: #800000\">│</span>   <span style=\"color: #7f7f7f; text-decoration-color: #7f7f7f\">2907 </span><span style=\"color: #7f7f7f; text-decoration-color: #7f7f7f\">│   │   │   </span>model_inputs = <span style=\"color: #00ffff; text-decoration-color: #00ffff\">self</span>.prepare_inputs_for_generation(input_ids, **model_kwargs)  <span style=\"color: #800000; text-decoration-color: #800000\">│</span>\n",
       "<span style=\"color: #800000; text-decoration-color: #800000\">│</span>   <span style=\"color: #7f7f7f; text-decoration-color: #7f7f7f\">2908 </span><span style=\"color: #7f7f7f; text-decoration-color: #7f7f7f\">│   │   │   </span>                                                                              <span style=\"color: #800000; text-decoration-color: #800000\">│</span>\n",
       "<span style=\"color: #800000; text-decoration-color: #800000\">│</span> <span style=\"color: #800000; text-decoration-color: #800000\">❱ </span>2909 <span style=\"color: #7f7f7f; text-decoration-color: #7f7f7f\">│   │   │   </span>outputs = <span style=\"color: #00ffff; text-decoration-color: #00ffff\">self</span>(                                                               <span style=\"color: #800000; text-decoration-color: #800000\">│</span>\n",
       "<span style=\"color: #800000; text-decoration-color: #800000\">│</span>   <span style=\"color: #7f7f7f; text-decoration-color: #7f7f7f\">2910 </span><span style=\"color: #7f7f7f; text-decoration-color: #7f7f7f\">│   │   │   │   </span>**model_inputs,                                                           <span style=\"color: #800000; text-decoration-color: #800000\">│</span>\n",
       "<span style=\"color: #800000; text-decoration-color: #800000\">│</span>   <span style=\"color: #7f7f7f; text-decoration-color: #7f7f7f\">2911 </span><span style=\"color: #7f7f7f; text-decoration-color: #7f7f7f\">│   │   │   │   </span>return_dict=<span style=\"color: #0000ff; text-decoration-color: #0000ff\">True</span>,                                                         <span style=\"color: #800000; text-decoration-color: #800000\">│</span>\n",
       "<span style=\"color: #800000; text-decoration-color: #800000\">│</span>   <span style=\"color: #7f7f7f; text-decoration-color: #7f7f7f\">2912 </span><span style=\"color: #7f7f7f; text-decoration-color: #7f7f7f\">│   │   │   │   </span>output_attentions=output_attentions,                                      <span style=\"color: #800000; text-decoration-color: #800000\">│</span>\n",
       "<span style=\"color: #800000; text-decoration-color: #800000\">│</span>                                                                                                  <span style=\"color: #800000; text-decoration-color: #800000\">│</span>\n",
       "<span style=\"color: #800000; text-decoration-color: #800000\">│</span> <span style=\"color: #bfbf7f; text-decoration-color: #bfbf7f\">/home/denny/anaconda3/envs/instblip/lib/python3.9/site-packages/torch/nn/modules/</span><span style=\"color: #808000; text-decoration-color: #808000; font-weight: bold\">module.py</span>:<span style=\"color: #0000ff; text-decoration-color: #0000ff\">1501</span>  <span style=\"color: #800000; text-decoration-color: #800000\">│</span>\n",
       "<span style=\"color: #800000; text-decoration-color: #800000\">│</span> in <span style=\"color: #00ff00; text-decoration-color: #00ff00\">_call_impl</span>                                                                                    <span style=\"color: #800000; text-decoration-color: #800000\">│</span>\n",
       "<span style=\"color: #800000; text-decoration-color: #800000\">│</span>                                                                                                  <span style=\"color: #800000; text-decoration-color: #800000\">│</span>\n",
       "<span style=\"color: #800000; text-decoration-color: #800000\">│</span>   <span style=\"color: #7f7f7f; text-decoration-color: #7f7f7f\">1498 </span><span style=\"color: #7f7f7f; text-decoration-color: #7f7f7f\">│   │   </span><span style=\"color: #0000ff; text-decoration-color: #0000ff\">if</span> <span style=\"color: #ff00ff; text-decoration-color: #ff00ff\">not</span> (<span style=\"color: #00ffff; text-decoration-color: #00ffff\">self</span>._backward_hooks <span style=\"color: #ff00ff; text-decoration-color: #ff00ff\">or</span> <span style=\"color: #00ffff; text-decoration-color: #00ffff\">self</span>._backward_pre_hooks <span style=\"color: #ff00ff; text-decoration-color: #ff00ff\">or</span> <span style=\"color: #00ffff; text-decoration-color: #00ffff\">self</span>._forward_hooks   <span style=\"color: #800000; text-decoration-color: #800000\">│</span>\n",
       "<span style=\"color: #800000; text-decoration-color: #800000\">│</span>   <span style=\"color: #7f7f7f; text-decoration-color: #7f7f7f\">1499 </span><span style=\"color: #7f7f7f; text-decoration-color: #7f7f7f\">│   │   │   │   </span><span style=\"color: #ff00ff; text-decoration-color: #ff00ff\">or</span> _global_backward_pre_hooks <span style=\"color: #ff00ff; text-decoration-color: #ff00ff\">or</span> _global_backward_hooks                   <span style=\"color: #800000; text-decoration-color: #800000\">│</span>\n",
       "<span style=\"color: #800000; text-decoration-color: #800000\">│</span>   <span style=\"color: #7f7f7f; text-decoration-color: #7f7f7f\">1500 </span><span style=\"color: #7f7f7f; text-decoration-color: #7f7f7f\">│   │   │   │   </span><span style=\"color: #ff00ff; text-decoration-color: #ff00ff\">or</span> _global_forward_hooks <span style=\"color: #ff00ff; text-decoration-color: #ff00ff\">or</span> _global_forward_pre_hooks):                   <span style=\"color: #800000; text-decoration-color: #800000\">│</span>\n",
       "<span style=\"color: #800000; text-decoration-color: #800000\">│</span> <span style=\"color: #800000; text-decoration-color: #800000\">❱ </span>1501 <span style=\"color: #7f7f7f; text-decoration-color: #7f7f7f\">│   │   │   </span><span style=\"color: #0000ff; text-decoration-color: #0000ff\">return</span> forward_call(*args, **kwargs)                                          <span style=\"color: #800000; text-decoration-color: #800000\">│</span>\n",
       "<span style=\"color: #800000; text-decoration-color: #800000\">│</span>   <span style=\"color: #7f7f7f; text-decoration-color: #7f7f7f\">1502 </span><span style=\"color: #7f7f7f; text-decoration-color: #7f7f7f\">│   │   </span><span style=\"color: #7f7f7f; text-decoration-color: #7f7f7f\"># Do not call functions when jit is used</span>                                          <span style=\"color: #800000; text-decoration-color: #800000\">│</span>\n",
       "<span style=\"color: #800000; text-decoration-color: #800000\">│</span>   <span style=\"color: #7f7f7f; text-decoration-color: #7f7f7f\">1503 </span><span style=\"color: #7f7f7f; text-decoration-color: #7f7f7f\">│   │   </span>full_backward_hooks, non_full_backward_hooks = [], []                             <span style=\"color: #800000; text-decoration-color: #800000\">│</span>\n",
       "<span style=\"color: #800000; text-decoration-color: #800000\">│</span>   <span style=\"color: #7f7f7f; text-decoration-color: #7f7f7f\">1504 </span><span style=\"color: #7f7f7f; text-decoration-color: #7f7f7f\">│   │   </span>backward_pre_hooks = []                                                           <span style=\"color: #800000; text-decoration-color: #800000\">│</span>\n",
       "<span style=\"color: #800000; text-decoration-color: #800000\">│</span>                                                                                                  <span style=\"color: #800000; text-decoration-color: #800000\">│</span>\n",
       "<span style=\"color: #800000; text-decoration-color: #800000\">│</span> <span style=\"color: #bfbf7f; text-decoration-color: #bfbf7f\">/home/denny/LAVIS/lavis/models/blip2_models/</span><span style=\"color: #808000; text-decoration-color: #808000; font-weight: bold\">modeling_llama.py</span>:<span style=\"color: #0000ff; text-decoration-color: #0000ff\">895</span> in <span style=\"color: #00ff00; text-decoration-color: #00ff00\">forward</span>                     <span style=\"color: #800000; text-decoration-color: #800000\">│</span>\n",
       "<span style=\"color: #800000; text-decoration-color: #800000\">│</span>                                                                                                  <span style=\"color: #800000; text-decoration-color: #800000\">│</span>\n",
       "<span style=\"color: #800000; text-decoration-color: #800000\">│</span>   <span style=\"color: #7f7f7f; text-decoration-color: #7f7f7f\"> 892 </span><span style=\"color: #7f7f7f; text-decoration-color: #7f7f7f\">│   │   </span>return_dict = return_dict <span style=\"color: #0000ff; text-decoration-color: #0000ff\">if</span> return_dict <span style=\"color: #ff00ff; text-decoration-color: #ff00ff\">is</span> <span style=\"color: #ff00ff; text-decoration-color: #ff00ff\">not</span> <span style=\"color: #0000ff; text-decoration-color: #0000ff\">None</span> <span style=\"color: #0000ff; text-decoration-color: #0000ff\">else</span> <span style=\"color: #00ffff; text-decoration-color: #00ffff\">self</span>.config.use_return  <span style=\"color: #800000; text-decoration-color: #800000\">│</span>\n",
       "<span style=\"color: #800000; text-decoration-color: #800000\">│</span>   <span style=\"color: #7f7f7f; text-decoration-color: #7f7f7f\"> 893 </span><span style=\"color: #7f7f7f; text-decoration-color: #7f7f7f\">│   │   </span>                                                                                  <span style=\"color: #800000; text-decoration-color: #800000\">│</span>\n",
       "<span style=\"color: #800000; text-decoration-color: #800000\">│</span>   <span style=\"color: #7f7f7f; text-decoration-color: #7f7f7f\"> 894 </span><span style=\"color: #7f7f7f; text-decoration-color: #7f7f7f\">│   │   </span><span style=\"color: #7f7f7f; text-decoration-color: #7f7f7f\"># decoder outputs consists of (dec_features, layer_state, dec_hidden, dec_attn)</span>   <span style=\"color: #800000; text-decoration-color: #800000\">│</span>\n",
       "<span style=\"color: #800000; text-decoration-color: #800000\">│</span> <span style=\"color: #800000; text-decoration-color: #800000\">❱ </span> 895 <span style=\"color: #7f7f7f; text-decoration-color: #7f7f7f\">│   │   </span>outputs = <span style=\"color: #00ffff; text-decoration-color: #00ffff\">self</span>.model(                                                             <span style=\"color: #800000; text-decoration-color: #800000\">│</span>\n",
       "<span style=\"color: #800000; text-decoration-color: #800000\">│</span>   <span style=\"color: #7f7f7f; text-decoration-color: #7f7f7f\"> 896 </span><span style=\"color: #7f7f7f; text-decoration-color: #7f7f7f\">│   │   │   </span>input_ids=input_ids,                                                          <span style=\"color: #800000; text-decoration-color: #800000\">│</span>\n",
       "<span style=\"color: #800000; text-decoration-color: #800000\">│</span>   <span style=\"color: #7f7f7f; text-decoration-color: #7f7f7f\"> 897 </span><span style=\"color: #7f7f7f; text-decoration-color: #7f7f7f\">│   │   │   </span>attention_mask=attention_mask,                                                <span style=\"color: #800000; text-decoration-color: #800000\">│</span>\n",
       "<span style=\"color: #800000; text-decoration-color: #800000\">│</span>   <span style=\"color: #7f7f7f; text-decoration-color: #7f7f7f\"> 898 </span><span style=\"color: #7f7f7f; text-decoration-color: #7f7f7f\">│   │   │   </span>position_ids=position_ids,                                                    <span style=\"color: #800000; text-decoration-color: #800000\">│</span>\n",
       "<span style=\"color: #800000; text-decoration-color: #800000\">│</span>                                                                                                  <span style=\"color: #800000; text-decoration-color: #800000\">│</span>\n",
       "<span style=\"color: #800000; text-decoration-color: #800000\">│</span> <span style=\"color: #bfbf7f; text-decoration-color: #bfbf7f\">/home/denny/anaconda3/envs/instblip/lib/python3.9/site-packages/torch/nn/modules/</span><span style=\"color: #808000; text-decoration-color: #808000; font-weight: bold\">module.py</span>:<span style=\"color: #0000ff; text-decoration-color: #0000ff\">1501</span>  <span style=\"color: #800000; text-decoration-color: #800000\">│</span>\n",
       "<span style=\"color: #800000; text-decoration-color: #800000\">│</span> in <span style=\"color: #00ff00; text-decoration-color: #00ff00\">_call_impl</span>                                                                                    <span style=\"color: #800000; text-decoration-color: #800000\">│</span>\n",
       "<span style=\"color: #800000; text-decoration-color: #800000\">│</span>                                                                                                  <span style=\"color: #800000; text-decoration-color: #800000\">│</span>\n",
       "<span style=\"color: #800000; text-decoration-color: #800000\">│</span>   <span style=\"color: #7f7f7f; text-decoration-color: #7f7f7f\">1498 </span><span style=\"color: #7f7f7f; text-decoration-color: #7f7f7f\">│   │   </span><span style=\"color: #0000ff; text-decoration-color: #0000ff\">if</span> <span style=\"color: #ff00ff; text-decoration-color: #ff00ff\">not</span> (<span style=\"color: #00ffff; text-decoration-color: #00ffff\">self</span>._backward_hooks <span style=\"color: #ff00ff; text-decoration-color: #ff00ff\">or</span> <span style=\"color: #00ffff; text-decoration-color: #00ffff\">self</span>._backward_pre_hooks <span style=\"color: #ff00ff; text-decoration-color: #ff00ff\">or</span> <span style=\"color: #00ffff; text-decoration-color: #00ffff\">self</span>._forward_hooks   <span style=\"color: #800000; text-decoration-color: #800000\">│</span>\n",
       "<span style=\"color: #800000; text-decoration-color: #800000\">│</span>   <span style=\"color: #7f7f7f; text-decoration-color: #7f7f7f\">1499 </span><span style=\"color: #7f7f7f; text-decoration-color: #7f7f7f\">│   │   │   │   </span><span style=\"color: #ff00ff; text-decoration-color: #ff00ff\">or</span> _global_backward_pre_hooks <span style=\"color: #ff00ff; text-decoration-color: #ff00ff\">or</span> _global_backward_hooks                   <span style=\"color: #800000; text-decoration-color: #800000\">│</span>\n",
       "<span style=\"color: #800000; text-decoration-color: #800000\">│</span>   <span style=\"color: #7f7f7f; text-decoration-color: #7f7f7f\">1500 </span><span style=\"color: #7f7f7f; text-decoration-color: #7f7f7f\">│   │   │   │   </span><span style=\"color: #ff00ff; text-decoration-color: #ff00ff\">or</span> _global_forward_hooks <span style=\"color: #ff00ff; text-decoration-color: #ff00ff\">or</span> _global_forward_pre_hooks):                   <span style=\"color: #800000; text-decoration-color: #800000\">│</span>\n",
       "<span style=\"color: #800000; text-decoration-color: #800000\">│</span> <span style=\"color: #800000; text-decoration-color: #800000\">❱ </span>1501 <span style=\"color: #7f7f7f; text-decoration-color: #7f7f7f\">│   │   │   </span><span style=\"color: #0000ff; text-decoration-color: #0000ff\">return</span> forward_call(*args, **kwargs)                                          <span style=\"color: #800000; text-decoration-color: #800000\">│</span>\n",
       "<span style=\"color: #800000; text-decoration-color: #800000\">│</span>   <span style=\"color: #7f7f7f; text-decoration-color: #7f7f7f\">1502 </span><span style=\"color: #7f7f7f; text-decoration-color: #7f7f7f\">│   │   </span><span style=\"color: #7f7f7f; text-decoration-color: #7f7f7f\"># Do not call functions when jit is used</span>                                          <span style=\"color: #800000; text-decoration-color: #800000\">│</span>\n",
       "<span style=\"color: #800000; text-decoration-color: #800000\">│</span>   <span style=\"color: #7f7f7f; text-decoration-color: #7f7f7f\">1503 </span><span style=\"color: #7f7f7f; text-decoration-color: #7f7f7f\">│   │   </span>full_backward_hooks, non_full_backward_hooks = [], []                             <span style=\"color: #800000; text-decoration-color: #800000\">│</span>\n",
       "<span style=\"color: #800000; text-decoration-color: #800000\">│</span>   <span style=\"color: #7f7f7f; text-decoration-color: #7f7f7f\">1504 </span><span style=\"color: #7f7f7f; text-decoration-color: #7f7f7f\">│   │   </span>backward_pre_hooks = []                                                           <span style=\"color: #800000; text-decoration-color: #800000\">│</span>\n",
       "<span style=\"color: #800000; text-decoration-color: #800000\">│</span>                                                                                                  <span style=\"color: #800000; text-decoration-color: #800000\">│</span>\n",
       "<span style=\"color: #800000; text-decoration-color: #800000\">│</span> <span style=\"color: #bfbf7f; text-decoration-color: #bfbf7f\">/home/denny/LAVIS/lavis/models/blip2_models/</span><span style=\"color: #808000; text-decoration-color: #808000; font-weight: bold\">modeling_llama.py</span>:<span style=\"color: #0000ff; text-decoration-color: #0000ff\">577</span> in <span style=\"color: #00ff00; text-decoration-color: #00ff00\">forward</span>                     <span style=\"color: #800000; text-decoration-color: #800000\">│</span>\n",
       "<span style=\"color: #800000; text-decoration-color: #800000\">│</span>                                                                                                  <span style=\"color: #800000; text-decoration-color: #800000\">│</span>\n",
       "<span style=\"color: #800000; text-decoration-color: #800000\">│</span>   <span style=\"color: #7f7f7f; text-decoration-color: #7f7f7f\"> 574 </span><span style=\"color: #7f7f7f; text-decoration-color: #7f7f7f\">│   │   │   │   │   </span><span style=\"color: #0000ff; text-decoration-color: #0000ff\">None</span>,                                                                 <span style=\"color: #800000; text-decoration-color: #800000\">│</span>\n",
       "<span style=\"color: #800000; text-decoration-color: #800000\">│</span>   <span style=\"color: #7f7f7f; text-decoration-color: #7f7f7f\"> 575 </span><span style=\"color: #7f7f7f; text-decoration-color: #7f7f7f\">│   │   │   │   </span>)                                                                         <span style=\"color: #800000; text-decoration-color: #800000\">│</span>\n",
       "<span style=\"color: #800000; text-decoration-color: #800000\">│</span>   <span style=\"color: #7f7f7f; text-decoration-color: #7f7f7f\"> 576 </span><span style=\"color: #7f7f7f; text-decoration-color: #7f7f7f\">│   │   │   </span><span style=\"color: #0000ff; text-decoration-color: #0000ff\">else</span>:                                                                         <span style=\"color: #800000; text-decoration-color: #800000\">│</span>\n",
       "<span style=\"color: #800000; text-decoration-color: #800000\">│</span> <span style=\"color: #800000; text-decoration-color: #800000\">❱ </span> 577 <span style=\"color: #7f7f7f; text-decoration-color: #7f7f7f\">│   │   │   │   </span>layer_outputs = decoder_layer(                                            <span style=\"color: #800000; text-decoration-color: #800000\">│</span>\n",
       "<span style=\"color: #800000; text-decoration-color: #800000\">│</span>   <span style=\"color: #7f7f7f; text-decoration-color: #7f7f7f\"> 578 </span><span style=\"color: #7f7f7f; text-decoration-color: #7f7f7f\">│   │   │   │   │   </span>hidden_states,                                                        <span style=\"color: #800000; text-decoration-color: #800000\">│</span>\n",
       "<span style=\"color: #800000; text-decoration-color: #800000\">│</span>   <span style=\"color: #7f7f7f; text-decoration-color: #7f7f7f\"> 579 </span><span style=\"color: #7f7f7f; text-decoration-color: #7f7f7f\">│   │   │   │   │   </span>attention_mask=attention_mask,                                        <span style=\"color: #800000; text-decoration-color: #800000\">│</span>\n",
       "<span style=\"color: #800000; text-decoration-color: #800000\">│</span>   <span style=\"color: #7f7f7f; text-decoration-color: #7f7f7f\"> 580 </span><span style=\"color: #7f7f7f; text-decoration-color: #7f7f7f\">│   │   │   │   │   </span>position_ids=position_ids,                                            <span style=\"color: #800000; text-decoration-color: #800000\">│</span>\n",
       "<span style=\"color: #800000; text-decoration-color: #800000\">│</span>                                                                                                  <span style=\"color: #800000; text-decoration-color: #800000\">│</span>\n",
       "<span style=\"color: #800000; text-decoration-color: #800000\">│</span> <span style=\"color: #bfbf7f; text-decoration-color: #bfbf7f\">/home/denny/anaconda3/envs/instblip/lib/python3.9/site-packages/torch/nn/modules/</span><span style=\"color: #808000; text-decoration-color: #808000; font-weight: bold\">module.py</span>:<span style=\"color: #0000ff; text-decoration-color: #0000ff\">1501</span>  <span style=\"color: #800000; text-decoration-color: #800000\">│</span>\n",
       "<span style=\"color: #800000; text-decoration-color: #800000\">│</span> in <span style=\"color: #00ff00; text-decoration-color: #00ff00\">_call_impl</span>                                                                                    <span style=\"color: #800000; text-decoration-color: #800000\">│</span>\n",
       "<span style=\"color: #800000; text-decoration-color: #800000\">│</span>                                                                                                  <span style=\"color: #800000; text-decoration-color: #800000\">│</span>\n",
       "<span style=\"color: #800000; text-decoration-color: #800000\">│</span>   <span style=\"color: #7f7f7f; text-decoration-color: #7f7f7f\">1498 </span><span style=\"color: #7f7f7f; text-decoration-color: #7f7f7f\">│   │   </span><span style=\"color: #0000ff; text-decoration-color: #0000ff\">if</span> <span style=\"color: #ff00ff; text-decoration-color: #ff00ff\">not</span> (<span style=\"color: #00ffff; text-decoration-color: #00ffff\">self</span>._backward_hooks <span style=\"color: #ff00ff; text-decoration-color: #ff00ff\">or</span> <span style=\"color: #00ffff; text-decoration-color: #00ffff\">self</span>._backward_pre_hooks <span style=\"color: #ff00ff; text-decoration-color: #ff00ff\">or</span> <span style=\"color: #00ffff; text-decoration-color: #00ffff\">self</span>._forward_hooks   <span style=\"color: #800000; text-decoration-color: #800000\">│</span>\n",
       "<span style=\"color: #800000; text-decoration-color: #800000\">│</span>   <span style=\"color: #7f7f7f; text-decoration-color: #7f7f7f\">1499 </span><span style=\"color: #7f7f7f; text-decoration-color: #7f7f7f\">│   │   │   │   </span><span style=\"color: #ff00ff; text-decoration-color: #ff00ff\">or</span> _global_backward_pre_hooks <span style=\"color: #ff00ff; text-decoration-color: #ff00ff\">or</span> _global_backward_hooks                   <span style=\"color: #800000; text-decoration-color: #800000\">│</span>\n",
       "<span style=\"color: #800000; text-decoration-color: #800000\">│</span>   <span style=\"color: #7f7f7f; text-decoration-color: #7f7f7f\">1500 </span><span style=\"color: #7f7f7f; text-decoration-color: #7f7f7f\">│   │   │   │   </span><span style=\"color: #ff00ff; text-decoration-color: #ff00ff\">or</span> _global_forward_hooks <span style=\"color: #ff00ff; text-decoration-color: #ff00ff\">or</span> _global_forward_pre_hooks):                   <span style=\"color: #800000; text-decoration-color: #800000\">│</span>\n",
       "<span style=\"color: #800000; text-decoration-color: #800000\">│</span> <span style=\"color: #800000; text-decoration-color: #800000\">❱ </span>1501 <span style=\"color: #7f7f7f; text-decoration-color: #7f7f7f\">│   │   │   </span><span style=\"color: #0000ff; text-decoration-color: #0000ff\">return</span> forward_call(*args, **kwargs)                                          <span style=\"color: #800000; text-decoration-color: #800000\">│</span>\n",
       "<span style=\"color: #800000; text-decoration-color: #800000\">│</span>   <span style=\"color: #7f7f7f; text-decoration-color: #7f7f7f\">1502 </span><span style=\"color: #7f7f7f; text-decoration-color: #7f7f7f\">│   │   </span><span style=\"color: #7f7f7f; text-decoration-color: #7f7f7f\"># Do not call functions when jit is used</span>                                          <span style=\"color: #800000; text-decoration-color: #800000\">│</span>\n",
       "<span style=\"color: #800000; text-decoration-color: #800000\">│</span>   <span style=\"color: #7f7f7f; text-decoration-color: #7f7f7f\">1503 </span><span style=\"color: #7f7f7f; text-decoration-color: #7f7f7f\">│   │   </span>full_backward_hooks, non_full_backward_hooks = [], []                             <span style=\"color: #800000; text-decoration-color: #800000\">│</span>\n",
       "<span style=\"color: #800000; text-decoration-color: #800000\">│</span>   <span style=\"color: #7f7f7f; text-decoration-color: #7f7f7f\">1504 </span><span style=\"color: #7f7f7f; text-decoration-color: #7f7f7f\">│   │   </span>backward_pre_hooks = []                                                           <span style=\"color: #800000; text-decoration-color: #800000\">│</span>\n",
       "<span style=\"color: #800000; text-decoration-color: #800000\">│</span>                                                                                                  <span style=\"color: #800000; text-decoration-color: #800000\">│</span>\n",
       "<span style=\"color: #800000; text-decoration-color: #800000\">│</span> <span style=\"color: #bfbf7f; text-decoration-color: #bfbf7f\">/home/denny/LAVIS/lavis/models/blip2_models/</span><span style=\"color: #808000; text-decoration-color: #808000; font-weight: bold\">modeling_llama.py</span>:<span style=\"color: #0000ff; text-decoration-color: #0000ff\">292</span> in <span style=\"color: #00ff00; text-decoration-color: #00ff00\">forward</span>                     <span style=\"color: #800000; text-decoration-color: #800000\">│</span>\n",
       "<span style=\"color: #800000; text-decoration-color: #800000\">│</span>                                                                                                  <span style=\"color: #800000; text-decoration-color: #800000\">│</span>\n",
       "<span style=\"color: #800000; text-decoration-color: #800000\">│</span>   <span style=\"color: #7f7f7f; text-decoration-color: #7f7f7f\"> 289 </span><span style=\"color: #7f7f7f; text-decoration-color: #7f7f7f\">│   │   </span>hidden_states = <span style=\"color: #00ffff; text-decoration-color: #00ffff\">self</span>.input_layernorm(hidden_states)                               <span style=\"color: #800000; text-decoration-color: #800000\">│</span>\n",
       "<span style=\"color: #800000; text-decoration-color: #800000\">│</span>   <span style=\"color: #7f7f7f; text-decoration-color: #7f7f7f\"> 290 </span><span style=\"color: #7f7f7f; text-decoration-color: #7f7f7f\">│   │   </span>                                                                                  <span style=\"color: #800000; text-decoration-color: #800000\">│</span>\n",
       "<span style=\"color: #800000; text-decoration-color: #800000\">│</span>   <span style=\"color: #7f7f7f; text-decoration-color: #7f7f7f\"> 291 </span><span style=\"color: #7f7f7f; text-decoration-color: #7f7f7f\">│   │   </span><span style=\"color: #7f7f7f; text-decoration-color: #7f7f7f\"># Self Attention</span>                                                                  <span style=\"color: #800000; text-decoration-color: #800000\">│</span>\n",
       "<span style=\"color: #800000; text-decoration-color: #800000\">│</span> <span style=\"color: #800000; text-decoration-color: #800000\">❱ </span> 292 <span style=\"color: #7f7f7f; text-decoration-color: #7f7f7f\">│   │   </span>hidden_states, self_attn_weights, present_key_value = <span style=\"color: #00ffff; text-decoration-color: #00ffff\">self</span>.self_attn(             <span style=\"color: #800000; text-decoration-color: #800000\">│</span>\n",
       "<span style=\"color: #800000; text-decoration-color: #800000\">│</span>   <span style=\"color: #7f7f7f; text-decoration-color: #7f7f7f\"> 293 </span><span style=\"color: #7f7f7f; text-decoration-color: #7f7f7f\">│   │   │   </span>hidden_states=hidden_states,                                                  <span style=\"color: #800000; text-decoration-color: #800000\">│</span>\n",
       "<span style=\"color: #800000; text-decoration-color: #800000\">│</span>   <span style=\"color: #7f7f7f; text-decoration-color: #7f7f7f\"> 294 </span><span style=\"color: #7f7f7f; text-decoration-color: #7f7f7f\">│   │   │   </span>attention_mask=attention_mask,                                                <span style=\"color: #800000; text-decoration-color: #800000\">│</span>\n",
       "<span style=\"color: #800000; text-decoration-color: #800000\">│</span>   <span style=\"color: #7f7f7f; text-decoration-color: #7f7f7f\"> 295 </span><span style=\"color: #7f7f7f; text-decoration-color: #7f7f7f\">│   │   │   </span>position_ids=position_ids,                                                    <span style=\"color: #800000; text-decoration-color: #800000\">│</span>\n",
       "<span style=\"color: #800000; text-decoration-color: #800000\">│</span>                                                                                                  <span style=\"color: #800000; text-decoration-color: #800000\">│</span>\n",
       "<span style=\"color: #800000; text-decoration-color: #800000\">│</span> <span style=\"color: #bfbf7f; text-decoration-color: #bfbf7f\">/home/denny/anaconda3/envs/instblip/lib/python3.9/site-packages/torch/nn/modules/</span><span style=\"color: #808000; text-decoration-color: #808000; font-weight: bold\">module.py</span>:<span style=\"color: #0000ff; text-decoration-color: #0000ff\">1501</span>  <span style=\"color: #800000; text-decoration-color: #800000\">│</span>\n",
       "<span style=\"color: #800000; text-decoration-color: #800000\">│</span> in <span style=\"color: #00ff00; text-decoration-color: #00ff00\">_call_impl</span>                                                                                    <span style=\"color: #800000; text-decoration-color: #800000\">│</span>\n",
       "<span style=\"color: #800000; text-decoration-color: #800000\">│</span>                                                                                                  <span style=\"color: #800000; text-decoration-color: #800000\">│</span>\n",
       "<span style=\"color: #800000; text-decoration-color: #800000\">│</span>   <span style=\"color: #7f7f7f; text-decoration-color: #7f7f7f\">1498 </span><span style=\"color: #7f7f7f; text-decoration-color: #7f7f7f\">│   │   </span><span style=\"color: #0000ff; text-decoration-color: #0000ff\">if</span> <span style=\"color: #ff00ff; text-decoration-color: #ff00ff\">not</span> (<span style=\"color: #00ffff; text-decoration-color: #00ffff\">self</span>._backward_hooks <span style=\"color: #ff00ff; text-decoration-color: #ff00ff\">or</span> <span style=\"color: #00ffff; text-decoration-color: #00ffff\">self</span>._backward_pre_hooks <span style=\"color: #ff00ff; text-decoration-color: #ff00ff\">or</span> <span style=\"color: #00ffff; text-decoration-color: #00ffff\">self</span>._forward_hooks   <span style=\"color: #800000; text-decoration-color: #800000\">│</span>\n",
       "<span style=\"color: #800000; text-decoration-color: #800000\">│</span>   <span style=\"color: #7f7f7f; text-decoration-color: #7f7f7f\">1499 </span><span style=\"color: #7f7f7f; text-decoration-color: #7f7f7f\">│   │   │   │   </span><span style=\"color: #ff00ff; text-decoration-color: #ff00ff\">or</span> _global_backward_pre_hooks <span style=\"color: #ff00ff; text-decoration-color: #ff00ff\">or</span> _global_backward_hooks                   <span style=\"color: #800000; text-decoration-color: #800000\">│</span>\n",
       "<span style=\"color: #800000; text-decoration-color: #800000\">│</span>   <span style=\"color: #7f7f7f; text-decoration-color: #7f7f7f\">1500 </span><span style=\"color: #7f7f7f; text-decoration-color: #7f7f7f\">│   │   │   │   </span><span style=\"color: #ff00ff; text-decoration-color: #ff00ff\">or</span> _global_forward_hooks <span style=\"color: #ff00ff; text-decoration-color: #ff00ff\">or</span> _global_forward_pre_hooks):                   <span style=\"color: #800000; text-decoration-color: #800000\">│</span>\n",
       "<span style=\"color: #800000; text-decoration-color: #800000\">│</span> <span style=\"color: #800000; text-decoration-color: #800000\">❱ </span>1501 <span style=\"color: #7f7f7f; text-decoration-color: #7f7f7f\">│   │   │   </span><span style=\"color: #0000ff; text-decoration-color: #0000ff\">return</span> forward_call(*args, **kwargs)                                          <span style=\"color: #800000; text-decoration-color: #800000\">│</span>\n",
       "<span style=\"color: #800000; text-decoration-color: #800000\">│</span>   <span style=\"color: #7f7f7f; text-decoration-color: #7f7f7f\">1502 </span><span style=\"color: #7f7f7f; text-decoration-color: #7f7f7f\">│   │   </span><span style=\"color: #7f7f7f; text-decoration-color: #7f7f7f\"># Do not call functions when jit is used</span>                                          <span style=\"color: #800000; text-decoration-color: #800000\">│</span>\n",
       "<span style=\"color: #800000; text-decoration-color: #800000\">│</span>   <span style=\"color: #7f7f7f; text-decoration-color: #7f7f7f\">1503 </span><span style=\"color: #7f7f7f; text-decoration-color: #7f7f7f\">│   │   </span>full_backward_hooks, non_full_backward_hooks = [], []                             <span style=\"color: #800000; text-decoration-color: #800000\">│</span>\n",
       "<span style=\"color: #800000; text-decoration-color: #800000\">│</span>   <span style=\"color: #7f7f7f; text-decoration-color: #7f7f7f\">1504 </span><span style=\"color: #7f7f7f; text-decoration-color: #7f7f7f\">│   │   </span>backward_pre_hooks = []                                                           <span style=\"color: #800000; text-decoration-color: #800000\">│</span>\n",
       "<span style=\"color: #800000; text-decoration-color: #800000\">│</span>                                                                                                  <span style=\"color: #800000; text-decoration-color: #800000\">│</span>\n",
       "<span style=\"color: #800000; text-decoration-color: #800000\">│</span> <span style=\"color: #bfbf7f; text-decoration-color: #bfbf7f\">/home/denny/LAVIS/lavis/models/blip2_models/</span><span style=\"color: #808000; text-decoration-color: #808000; font-weight: bold\">modeling_llama.py</span>:<span style=\"color: #0000ff; text-decoration-color: #0000ff\">198</span> in <span style=\"color: #00ff00; text-decoration-color: #00ff00\">forward</span>                     <span style=\"color: #800000; text-decoration-color: #800000\">│</span>\n",
       "<span style=\"color: #800000; text-decoration-color: #800000\">│</span>                                                                                                  <span style=\"color: #800000; text-decoration-color: #800000\">│</span>\n",
       "<span style=\"color: #800000; text-decoration-color: #800000\">│</span>   <span style=\"color: #7f7f7f; text-decoration-color: #7f7f7f\"> 195 </span><span style=\"color: #7f7f7f; text-decoration-color: #7f7f7f\">│   │   </span>                                                                                  <span style=\"color: #800000; text-decoration-color: #800000\">│</span>\n",
       "<span style=\"color: #800000; text-decoration-color: #800000\">│</span>   <span style=\"color: #7f7f7f; text-decoration-color: #7f7f7f\"> 196 </span><span style=\"color: #7f7f7f; text-decoration-color: #7f7f7f\">│   │   </span>query_states = <span style=\"color: #00ffff; text-decoration-color: #00ffff\">self</span>.q_proj(hidden_states).view(bsz, q_len, <span style=\"color: #00ffff; text-decoration-color: #00ffff\">self</span>.num_heads, <span style=\"color: #00ffff; text-decoration-color: #00ffff\">self</span>.  <span style=\"color: #800000; text-decoration-color: #800000\">│</span>\n",
       "<span style=\"color: #800000; text-decoration-color: #800000\">│</span>   <span style=\"color: #7f7f7f; text-decoration-color: #7f7f7f\"> 197 </span><span style=\"color: #7f7f7f; text-decoration-color: #7f7f7f\">│   │   </span>key_states = <span style=\"color: #00ffff; text-decoration-color: #00ffff\">self</span>.k_proj(hidden_states).view(bsz, q_len, <span style=\"color: #00ffff; text-decoration-color: #00ffff\">self</span>.num_heads, <span style=\"color: #00ffff; text-decoration-color: #00ffff\">self</span>.he  <span style=\"color: #800000; text-decoration-color: #800000\">│</span>\n",
       "<span style=\"color: #800000; text-decoration-color: #800000\">│</span> <span style=\"color: #800000; text-decoration-color: #800000\">❱ </span> 198 <span style=\"color: #7f7f7f; text-decoration-color: #7f7f7f\">│   │   </span>value_states = <span style=\"color: #00ffff; text-decoration-color: #00ffff\">self</span>.v_proj(hidden_states).view(bsz, q_len, <span style=\"color: #00ffff; text-decoration-color: #00ffff\">self</span>.num_heads, <span style=\"color: #00ffff; text-decoration-color: #00ffff\">self</span>.  <span style=\"color: #800000; text-decoration-color: #800000\">│</span>\n",
       "<span style=\"color: #800000; text-decoration-color: #800000\">│</span>   <span style=\"color: #7f7f7f; text-decoration-color: #7f7f7f\"> 199 </span><span style=\"color: #7f7f7f; text-decoration-color: #7f7f7f\">│   │   </span>                                                                                  <span style=\"color: #800000; text-decoration-color: #800000\">│</span>\n",
       "<span style=\"color: #800000; text-decoration-color: #800000\">│</span>   <span style=\"color: #7f7f7f; text-decoration-color: #7f7f7f\"> 200 </span><span style=\"color: #7f7f7f; text-decoration-color: #7f7f7f\">│   │   </span>kv_seq_len = key_states.shape[-<span style=\"color: #0000ff; text-decoration-color: #0000ff\">2</span>]                                                 <span style=\"color: #800000; text-decoration-color: #800000\">│</span>\n",
       "<span style=\"color: #800000; text-decoration-color: #800000\">│</span>   <span style=\"color: #7f7f7f; text-decoration-color: #7f7f7f\"> 201 </span><span style=\"color: #7f7f7f; text-decoration-color: #7f7f7f\">│   │   </span><span style=\"color: #0000ff; text-decoration-color: #0000ff\">if</span> past_key_value <span style=\"color: #ff00ff; text-decoration-color: #ff00ff\">is</span> <span style=\"color: #ff00ff; text-decoration-color: #ff00ff\">not</span> <span style=\"color: #0000ff; text-decoration-color: #0000ff\">None</span>:                                                    <span style=\"color: #800000; text-decoration-color: #800000\">│</span>\n",
       "<span style=\"color: #800000; text-decoration-color: #800000\">│</span>                                                                                                  <span style=\"color: #800000; text-decoration-color: #800000\">│</span>\n",
       "<span style=\"color: #800000; text-decoration-color: #800000\">│</span> <span style=\"color: #bfbf7f; text-decoration-color: #bfbf7f\">/home/denny/anaconda3/envs/instblip/lib/python3.9/site-packages/torch/nn/modules/</span><span style=\"color: #808000; text-decoration-color: #808000; font-weight: bold\">module.py</span>:<span style=\"color: #0000ff; text-decoration-color: #0000ff\">1501</span>  <span style=\"color: #800000; text-decoration-color: #800000\">│</span>\n",
       "<span style=\"color: #800000; text-decoration-color: #800000\">│</span> in <span style=\"color: #00ff00; text-decoration-color: #00ff00\">_call_impl</span>                                                                                    <span style=\"color: #800000; text-decoration-color: #800000\">│</span>\n",
       "<span style=\"color: #800000; text-decoration-color: #800000\">│</span>                                                                                                  <span style=\"color: #800000; text-decoration-color: #800000\">│</span>\n",
       "<span style=\"color: #800000; text-decoration-color: #800000\">│</span>   <span style=\"color: #7f7f7f; text-decoration-color: #7f7f7f\">1498 </span><span style=\"color: #7f7f7f; text-decoration-color: #7f7f7f\">│   │   </span><span style=\"color: #0000ff; text-decoration-color: #0000ff\">if</span> <span style=\"color: #ff00ff; text-decoration-color: #ff00ff\">not</span> (<span style=\"color: #00ffff; text-decoration-color: #00ffff\">self</span>._backward_hooks <span style=\"color: #ff00ff; text-decoration-color: #ff00ff\">or</span> <span style=\"color: #00ffff; text-decoration-color: #00ffff\">self</span>._backward_pre_hooks <span style=\"color: #ff00ff; text-decoration-color: #ff00ff\">or</span> <span style=\"color: #00ffff; text-decoration-color: #00ffff\">self</span>._forward_hooks   <span style=\"color: #800000; text-decoration-color: #800000\">│</span>\n",
       "<span style=\"color: #800000; text-decoration-color: #800000\">│</span>   <span style=\"color: #7f7f7f; text-decoration-color: #7f7f7f\">1499 </span><span style=\"color: #7f7f7f; text-decoration-color: #7f7f7f\">│   │   │   │   </span><span style=\"color: #ff00ff; text-decoration-color: #ff00ff\">or</span> _global_backward_pre_hooks <span style=\"color: #ff00ff; text-decoration-color: #ff00ff\">or</span> _global_backward_hooks                   <span style=\"color: #800000; text-decoration-color: #800000\">│</span>\n",
       "<span style=\"color: #800000; text-decoration-color: #800000\">│</span>   <span style=\"color: #7f7f7f; text-decoration-color: #7f7f7f\">1500 </span><span style=\"color: #7f7f7f; text-decoration-color: #7f7f7f\">│   │   │   │   </span><span style=\"color: #ff00ff; text-decoration-color: #ff00ff\">or</span> _global_forward_hooks <span style=\"color: #ff00ff; text-decoration-color: #ff00ff\">or</span> _global_forward_pre_hooks):                   <span style=\"color: #800000; text-decoration-color: #800000\">│</span>\n",
       "<span style=\"color: #800000; text-decoration-color: #800000\">│</span> <span style=\"color: #800000; text-decoration-color: #800000\">❱ </span>1501 <span style=\"color: #7f7f7f; text-decoration-color: #7f7f7f\">│   │   │   </span><span style=\"color: #0000ff; text-decoration-color: #0000ff\">return</span> forward_call(*args, **kwargs)                                          <span style=\"color: #800000; text-decoration-color: #800000\">│</span>\n",
       "<span style=\"color: #800000; text-decoration-color: #800000\">│</span>   <span style=\"color: #7f7f7f; text-decoration-color: #7f7f7f\">1502 </span><span style=\"color: #7f7f7f; text-decoration-color: #7f7f7f\">│   │   </span><span style=\"color: #7f7f7f; text-decoration-color: #7f7f7f\"># Do not call functions when jit is used</span>                                          <span style=\"color: #800000; text-decoration-color: #800000\">│</span>\n",
       "<span style=\"color: #800000; text-decoration-color: #800000\">│</span>   <span style=\"color: #7f7f7f; text-decoration-color: #7f7f7f\">1503 </span><span style=\"color: #7f7f7f; text-decoration-color: #7f7f7f\">│   │   </span>full_backward_hooks, non_full_backward_hooks = [], []                             <span style=\"color: #800000; text-decoration-color: #800000\">│</span>\n",
       "<span style=\"color: #800000; text-decoration-color: #800000\">│</span>   <span style=\"color: #7f7f7f; text-decoration-color: #7f7f7f\">1504 </span><span style=\"color: #7f7f7f; text-decoration-color: #7f7f7f\">│   │   </span>backward_pre_hooks = []                                                           <span style=\"color: #800000; text-decoration-color: #800000\">│</span>\n",
       "<span style=\"color: #800000; text-decoration-color: #800000\">│</span>                                                                                                  <span style=\"color: #800000; text-decoration-color: #800000\">│</span>\n",
       "<span style=\"color: #800000; text-decoration-color: #800000\">│</span> <span style=\"color: #bfbf7f; text-decoration-color: #bfbf7f\">/home/denny/anaconda3/envs/instblip/lib/python3.9/site-packages/peft/tuners/</span><span style=\"color: #808000; text-decoration-color: #808000; font-weight: bold\">lora.py</span>:<span style=\"color: #0000ff; text-decoration-color: #0000ff\">570</span> in       <span style=\"color: #800000; text-decoration-color: #800000\">│</span>\n",
       "<span style=\"color: #800000; text-decoration-color: #800000\">│</span> <span style=\"color: #00ff00; text-decoration-color: #00ff00\">forward</span>                                                                                          <span style=\"color: #800000; text-decoration-color: #800000\">│</span>\n",
       "<span style=\"color: #800000; text-decoration-color: #800000\">│</span>                                                                                                  <span style=\"color: #800000; text-decoration-color: #800000\">│</span>\n",
       "<span style=\"color: #800000; text-decoration-color: #800000\">│</span>   <span style=\"color: #7f7f7f; text-decoration-color: #7f7f7f\">567 </span><span style=\"color: #7f7f7f; text-decoration-color: #7f7f7f\">│   │   │   </span>x = x.to(<span style=\"color: #00ffff; text-decoration-color: #00ffff\">self</span>.lora_A[<span style=\"color: #00ffff; text-decoration-color: #00ffff\">self</span>.active_adapter].weight.dtype)                        <span style=\"color: #800000; text-decoration-color: #800000\">│</span>\n",
       "<span style=\"color: #800000; text-decoration-color: #800000\">│</span>   <span style=\"color: #7f7f7f; text-decoration-color: #7f7f7f\">568 </span><span style=\"color: #7f7f7f; text-decoration-color: #7f7f7f\">│   │   │   </span>                                                                               <span style=\"color: #800000; text-decoration-color: #800000\">│</span>\n",
       "<span style=\"color: #800000; text-decoration-color: #800000\">│</span>   <span style=\"color: #7f7f7f; text-decoration-color: #7f7f7f\">569 </span><span style=\"color: #7f7f7f; text-decoration-color: #7f7f7f\">│   │   │   </span>result += (                                                                    <span style=\"color: #800000; text-decoration-color: #800000\">│</span>\n",
       "<span style=\"color: #800000; text-decoration-color: #800000\">│</span> <span style=\"color: #800000; text-decoration-color: #800000\">❱ </span>570 <span style=\"color: #7f7f7f; text-decoration-color: #7f7f7f\">│   │   │   │   </span><span style=\"color: #00ffff; text-decoration-color: #00ffff\">self</span>.lora_B[<span style=\"color: #00ffff; text-decoration-color: #00ffff\">self</span>.active_adapter](                                          <span style=\"color: #800000; text-decoration-color: #800000\">│</span>\n",
       "<span style=\"color: #800000; text-decoration-color: #800000\">│</span>   <span style=\"color: #7f7f7f; text-decoration-color: #7f7f7f\">571 </span><span style=\"color: #7f7f7f; text-decoration-color: #7f7f7f\">│   │   │   │   │   </span><span style=\"color: #00ffff; text-decoration-color: #00ffff\">self</span>.lora_A[<span style=\"color: #00ffff; text-decoration-color: #00ffff\">self</span>.active_adapter](<span style=\"color: #00ffff; text-decoration-color: #00ffff\">self</span>.lora_dropout[<span style=\"color: #00ffff; text-decoration-color: #00ffff\">self</span>.active_adapt   <span style=\"color: #800000; text-decoration-color: #800000\">│</span>\n",
       "<span style=\"color: #800000; text-decoration-color: #800000\">│</span>   <span style=\"color: #7f7f7f; text-decoration-color: #7f7f7f\">572 </span><span style=\"color: #7f7f7f; text-decoration-color: #7f7f7f\">│   │   │   │   </span>)                                                                          <span style=\"color: #800000; text-decoration-color: #800000\">│</span>\n",
       "<span style=\"color: #800000; text-decoration-color: #800000\">│</span>   <span style=\"color: #7f7f7f; text-decoration-color: #7f7f7f\">573 </span><span style=\"color: #7f7f7f; text-decoration-color: #7f7f7f\">│   │   │   │   </span>* <span style=\"color: #00ffff; text-decoration-color: #00ffff\">self</span>.scaling[<span style=\"color: #00ffff; text-decoration-color: #00ffff\">self</span>.active_adapter]                                        <span style=\"color: #800000; text-decoration-color: #800000\">│</span>\n",
       "<span style=\"color: #800000; text-decoration-color: #800000\">╰──────────────────────────────────────────────────────────────────────────────────────────────────╯</span>\n",
       "<span style=\"color: #ff0000; text-decoration-color: #ff0000; font-weight: bold\">KeyboardInterrupt</span>\n",
       "</pre>\n"
      ],
      "text/plain": [
       "\u001b[31m╭─\u001b[0m\u001b[31m──────────────────────────────\u001b[0m\u001b[31m \u001b[0m\u001b[1;31mTraceback \u001b[0m\u001b[1;2;31m(most recent call last)\u001b[0m\u001b[31m \u001b[0m\u001b[31m───────────────────────────────\u001b[0m\u001b[31m─╮\u001b[0m\n",
       "\u001b[31m│\u001b[0m in \u001b[92m<module>\u001b[0m:\u001b[94m45\u001b[0m                                                                                   \u001b[31m│\u001b[0m\n",
       "\u001b[31m│\u001b[0m                                                                                                  \u001b[31m│\u001b[0m\n",
       "\u001b[31m│\u001b[0m   \u001b[2m42 \u001b[0m\u001b[2m│   \u001b[0m\u001b[96mprint\u001b[0m(\u001b[33mf\u001b[0m\u001b[33m'\u001b[0m\u001b[33mLoad data from \u001b[0m\u001b[33m{\u001b[0mcsv_path\u001b[33m}\u001b[0m\u001b[33m'\u001b[0m)                                                     \u001b[31m│\u001b[0m\n",
       "\u001b[31m│\u001b[0m   \u001b[2m43 \u001b[0m\u001b[2m│   \u001b[0m                                                                                        \u001b[31m│\u001b[0m\n",
       "\u001b[31m│\u001b[0m   \u001b[2m44 \u001b[0m\u001b[2m│   \u001b[0mquestion = q1                                                                           \u001b[31m│\u001b[0m\n",
       "\u001b[31m│\u001b[0m \u001b[31m❱ \u001b[0m45 \u001b[2m│   \u001b[0macc, confusion_mat, pretrained_ans_list, labels, label_3class = instruct.QueryImgs_b    \u001b[31m│\u001b[0m\n",
       "\u001b[31m│\u001b[0m   \u001b[2m46 \u001b[0m\u001b[2m│   \u001b[0m\u001b[96mprint\u001b[0m(\u001b[33mf\u001b[0m\u001b[33m'\u001b[0m\u001b[33mQuestion: \u001b[0m\u001b[33m{\u001b[0mquestion\u001b[33m}\u001b[0m\u001b[33m'\u001b[0m)                                                          \u001b[31m│\u001b[0m\n",
       "\u001b[31m│\u001b[0m   \u001b[2m47 \u001b[0m\u001b[2m│   \u001b[0m\u001b[96mprint\u001b[0m(\u001b[33mf\u001b[0m\u001b[33m'\u001b[0m\u001b[33mAcc: \u001b[0m\u001b[33m{\u001b[0macc*\u001b[94m100\u001b[0m\u001b[33m:\u001b[0m\u001b[33m.2f\u001b[0m\u001b[33m}\u001b[0m\u001b[33m%\u001b[0m\u001b[33m'\u001b[0m)                                                           \u001b[31m│\u001b[0m\n",
       "\u001b[31m│\u001b[0m   \u001b[2m48 \u001b[0m                                                                                            \u001b[31m│\u001b[0m\n",
       "\u001b[31m│\u001b[0m                                                                                                  \u001b[31m│\u001b[0m\n",
       "\u001b[31m│\u001b[0m in \u001b[92mQueryImgs_batch\u001b[0m:\u001b[94m156\u001b[0m                                                                           \u001b[31m│\u001b[0m\n",
       "\u001b[31m│\u001b[0m                                                                                                  \u001b[31m│\u001b[0m\n",
       "\u001b[31m│\u001b[0m   \u001b[2m153 \u001b[0m\u001b[2m│   │   │   \u001b[0mquestions = [\u001b[96mself\u001b[0m.question] * image.shape[\u001b[94m0\u001b[0m]                                   \u001b[31m│\u001b[0m\n",
       "\u001b[31m│\u001b[0m   \u001b[2m154 \u001b[0m\u001b[2m│   │   │   \u001b[0msamples = {\u001b[33m\"\u001b[0m\u001b[33mimage\u001b[0m\u001b[33m\"\u001b[0m: image, \u001b[33m\"\u001b[0m\u001b[33mtext_input\u001b[0m\u001b[33m\"\u001b[0m: questions}                            \u001b[31m│\u001b[0m\n",
       "\u001b[31m│\u001b[0m   \u001b[2m155 \u001b[0m\u001b[2m│   │   │   \u001b[0m                                                                               \u001b[31m│\u001b[0m\n",
       "\u001b[31m│\u001b[0m \u001b[31m❱ \u001b[0m156 \u001b[2m│   │   │   \u001b[0mans = \u001b[96mself\u001b[0m.model.predict_answers(samples=samples, inference_method=\u001b[33m\"\u001b[0m\u001b[33mgenerate\u001b[0m   \u001b[31m│\u001b[0m\n",
       "\u001b[31m│\u001b[0m   \u001b[2m157 \u001b[0m\u001b[2m│   │   │   \u001b[0mpred_label = [\u001b[94m0\u001b[0m \u001b[94mif\u001b[0m a == true_string \u001b[94melse\u001b[0m \u001b[94m1\u001b[0m \u001b[94mfor\u001b[0m a \u001b[95min\u001b[0m ans]                       \u001b[31m│\u001b[0m\n",
       "\u001b[31m│\u001b[0m   \u001b[2m158 \u001b[0m\u001b[2m│   │   │   \u001b[0m\u001b[96mself\u001b[0m.ans_list += pred_label                                                    \u001b[31m│\u001b[0m\n",
       "\u001b[31m│\u001b[0m   \u001b[2m159 \u001b[0m                                                                                           \u001b[31m│\u001b[0m\n",
       "\u001b[31m│\u001b[0m                                                                                                  \u001b[31m│\u001b[0m\n",
       "\u001b[31m│\u001b[0m \u001b[2;33m/home/denny/LAVIS/lavis/models/blip2_models/\u001b[0m\u001b[1;33mblip2_vicuna_instruct_lora.py\u001b[0m:\u001b[94m469\u001b[0m in \u001b[92mpredict_answers\u001b[0m \u001b[31m│\u001b[0m\n",
       "\u001b[31m│\u001b[0m                                                                                                  \u001b[31m│\u001b[0m\n",
       "\u001b[31m│\u001b[0m   \u001b[2m466 \u001b[0m\u001b[2m│   │   \u001b[0m                                                                                   \u001b[31m│\u001b[0m\n",
       "\u001b[31m│\u001b[0m   \u001b[2m467 \u001b[0m\u001b[2m│   │   \u001b[0msamples[\u001b[33m\"\u001b[0m\u001b[33mprompt\u001b[0m\u001b[33m\"\u001b[0m] = text_input                                                     \u001b[31m│\u001b[0m\n",
       "\u001b[31m│\u001b[0m   \u001b[2m468 \u001b[0m\u001b[2m│   │   \u001b[0m                                                                                   \u001b[31m│\u001b[0m\n",
       "\u001b[31m│\u001b[0m \u001b[31m❱ \u001b[0m469 \u001b[2m│   │   \u001b[0moutput_text = \u001b[96mself\u001b[0m.generate(                                                       \u001b[31m│\u001b[0m\n",
       "\u001b[31m│\u001b[0m   \u001b[2m470 \u001b[0m\u001b[2m│   │   │   \u001b[0msamples,                                                                       \u001b[31m│\u001b[0m\n",
       "\u001b[31m│\u001b[0m   \u001b[2m471 \u001b[0m\u001b[2m│   │   │   \u001b[0mnum_beams=num_beams,                                                           \u001b[31m│\u001b[0m\n",
       "\u001b[31m│\u001b[0m   \u001b[2m472 \u001b[0m\u001b[2m│   │   │   \u001b[0mmax_length=max_len,                                                            \u001b[31m│\u001b[0m\n",
       "\u001b[31m│\u001b[0m                                                                                                  \u001b[31m│\u001b[0m\n",
       "\u001b[31m│\u001b[0m \u001b[2;33m/home/denny/anaconda3/envs/instblip/lib/python3.9/site-packages/torch/utils/\u001b[0m\u001b[1;33m_contextlib.py\u001b[0m:\u001b[94m115\u001b[0m   \u001b[31m│\u001b[0m\n",
       "\u001b[31m│\u001b[0m in \u001b[92mdecorate_context\u001b[0m                                                                              \u001b[31m│\u001b[0m\n",
       "\u001b[31m│\u001b[0m                                                                                                  \u001b[31m│\u001b[0m\n",
       "\u001b[31m│\u001b[0m   \u001b[2m112 \u001b[0m\u001b[2m│   \u001b[0m\u001b[1;95m@functools\u001b[0m.wraps(func)                                                                 \u001b[31m│\u001b[0m\n",
       "\u001b[31m│\u001b[0m   \u001b[2m113 \u001b[0m\u001b[2m│   \u001b[0m\u001b[94mdef\u001b[0m \u001b[92mdecorate_context\u001b[0m(*args, **kwargs):                                                 \u001b[31m│\u001b[0m\n",
       "\u001b[31m│\u001b[0m   \u001b[2m114 \u001b[0m\u001b[2m│   │   \u001b[0m\u001b[94mwith\u001b[0m ctx_factory():                                                                \u001b[31m│\u001b[0m\n",
       "\u001b[31m│\u001b[0m \u001b[31m❱ \u001b[0m115 \u001b[2m│   │   │   \u001b[0m\u001b[94mreturn\u001b[0m func(*args, **kwargs)                                                   \u001b[31m│\u001b[0m\n",
       "\u001b[31m│\u001b[0m   \u001b[2m116 \u001b[0m\u001b[2m│   \u001b[0m                                                                                       \u001b[31m│\u001b[0m\n",
       "\u001b[31m│\u001b[0m   \u001b[2m117 \u001b[0m\u001b[2m│   \u001b[0m\u001b[94mreturn\u001b[0m decorate_context                                                                \u001b[31m│\u001b[0m\n",
       "\u001b[31m│\u001b[0m   \u001b[2m118 \u001b[0m                                                                                           \u001b[31m│\u001b[0m\n",
       "\u001b[31m│\u001b[0m                                                                                                  \u001b[31m│\u001b[0m\n",
       "\u001b[31m│\u001b[0m \u001b[2;33m/home/denny/LAVIS/lavis/models/blip2_models/\u001b[0m\u001b[1;33mblip2_vicuna_instruct_lora.py\u001b[0m:\u001b[94m413\u001b[0m in \u001b[92mgenerate\u001b[0m        \u001b[31m│\u001b[0m\n",
       "\u001b[31m│\u001b[0m                                                                                                  \u001b[31m│\u001b[0m\n",
       "\u001b[31m│\u001b[0m   \u001b[2m410 \u001b[0m\u001b[2m│   │   │   \u001b[0minputs_embeds = torch.cat([inputs_llm, inputs_embeds], dim=\u001b[94m1\u001b[0m)                  \u001b[31m│\u001b[0m\n",
       "\u001b[31m│\u001b[0m   \u001b[2m411 \u001b[0m\u001b[2m│   │   │   \u001b[0mattention_mask = torch.cat([atts_llm, llm_tokens.attention_mask], dim=\u001b[94m1\u001b[0m)       \u001b[31m│\u001b[0m\n",
       "\u001b[31m│\u001b[0m   \u001b[2m412 \u001b[0m\u001b[2m│   │   │   \u001b[0m                                                                               \u001b[31m│\u001b[0m\n",
       "\u001b[31m│\u001b[0m \u001b[31m❱ \u001b[0m413 \u001b[2m│   │   │   \u001b[0moutputs = \u001b[96mself\u001b[0m.llm_model.generate(                                             \u001b[31m│\u001b[0m\n",
       "\u001b[31m│\u001b[0m   \u001b[2m414 \u001b[0m\u001b[2m│   │   │   │   \u001b[0minputs_embeds=inputs_embeds,                                               \u001b[31m│\u001b[0m\n",
       "\u001b[31m│\u001b[0m   \u001b[2m415 \u001b[0m\u001b[2m│   │   │   │   \u001b[0mattention_mask=attention_mask,                                             \u001b[31m│\u001b[0m\n",
       "\u001b[31m│\u001b[0m   \u001b[2m416 \u001b[0m\u001b[2m│   │   │   │   \u001b[0mdo_sample=use_nucleus_sampling,                                            \u001b[31m│\u001b[0m\n",
       "\u001b[31m│\u001b[0m                                                                                                  \u001b[31m│\u001b[0m\n",
       "\u001b[31m│\u001b[0m \u001b[2;33m/home/denny/anaconda3/envs/instblip/lib/python3.9/site-packages/peft/\u001b[0m\u001b[1;33mpeft_model.py\u001b[0m:\u001b[94m731\u001b[0m in        \u001b[31m│\u001b[0m\n",
       "\u001b[31m│\u001b[0m \u001b[92mgenerate\u001b[0m                                                                                         \u001b[31m│\u001b[0m\n",
       "\u001b[31m│\u001b[0m                                                                                                  \u001b[31m│\u001b[0m\n",
       "\u001b[31m│\u001b[0m   \u001b[2m 728 \u001b[0m\u001b[2m│   │   \u001b[0m\u001b[96mself\u001b[0m.base_model.prepare_inputs_for_generation = \u001b[96mself\u001b[0m.prepare_inputs_for_generati  \u001b[31m│\u001b[0m\n",
       "\u001b[31m│\u001b[0m   \u001b[2m 729 \u001b[0m\u001b[2m│   │   \u001b[0m\u001b[94mtry\u001b[0m:                                                                              \u001b[31m│\u001b[0m\n",
       "\u001b[31m│\u001b[0m   \u001b[2m 730 \u001b[0m\u001b[2m│   │   │   \u001b[0m\u001b[94mif\u001b[0m \u001b[95mnot\u001b[0m \u001b[96misinstance\u001b[0m(peft_config, PromptLearningConfig):                         \u001b[31m│\u001b[0m\n",
       "\u001b[31m│\u001b[0m \u001b[31m❱ \u001b[0m 731 \u001b[2m│   │   │   │   \u001b[0moutputs = \u001b[96mself\u001b[0m.base_model.generate(**kwargs)                              \u001b[31m│\u001b[0m\n",
       "\u001b[31m│\u001b[0m   \u001b[2m 732 \u001b[0m\u001b[2m│   │   │   \u001b[0m\u001b[94melse\u001b[0m:                                                                         \u001b[31m│\u001b[0m\n",
       "\u001b[31m│\u001b[0m   \u001b[2m 733 \u001b[0m\u001b[2m│   │   │   │   \u001b[0m\u001b[94mif\u001b[0m \u001b[33m\"\u001b[0m\u001b[33minput_ids\u001b[0m\u001b[33m\"\u001b[0m \u001b[95mnot\u001b[0m \u001b[95min\u001b[0m kwargs:                                             \u001b[31m│\u001b[0m\n",
       "\u001b[31m│\u001b[0m   \u001b[2m 734 \u001b[0m\u001b[2m│   │   │   │   │   \u001b[0m\u001b[94mraise\u001b[0m \u001b[96mValueError\u001b[0m(\u001b[33m\"\u001b[0m\u001b[33minput_ids must be provided for Peft model generati\u001b[0m  \u001b[31m│\u001b[0m\n",
       "\u001b[31m│\u001b[0m                                                                                                  \u001b[31m│\u001b[0m\n",
       "\u001b[31m│\u001b[0m \u001b[2;33m/home/denny/anaconda3/envs/instblip/lib/python3.9/site-packages/torch/utils/\u001b[0m\u001b[1;33m_contextlib.py\u001b[0m:\u001b[94m115\u001b[0m   \u001b[31m│\u001b[0m\n",
       "\u001b[31m│\u001b[0m in \u001b[92mdecorate_context\u001b[0m                                                                              \u001b[31m│\u001b[0m\n",
       "\u001b[31m│\u001b[0m                                                                                                  \u001b[31m│\u001b[0m\n",
       "\u001b[31m│\u001b[0m   \u001b[2m112 \u001b[0m\u001b[2m│   \u001b[0m\u001b[1;95m@functools\u001b[0m.wraps(func)                                                                 \u001b[31m│\u001b[0m\n",
       "\u001b[31m│\u001b[0m   \u001b[2m113 \u001b[0m\u001b[2m│   \u001b[0m\u001b[94mdef\u001b[0m \u001b[92mdecorate_context\u001b[0m(*args, **kwargs):                                                 \u001b[31m│\u001b[0m\n",
       "\u001b[31m│\u001b[0m   \u001b[2m114 \u001b[0m\u001b[2m│   │   \u001b[0m\u001b[94mwith\u001b[0m ctx_factory():                                                                \u001b[31m│\u001b[0m\n",
       "\u001b[31m│\u001b[0m \u001b[31m❱ \u001b[0m115 \u001b[2m│   │   │   \u001b[0m\u001b[94mreturn\u001b[0m func(*args, **kwargs)                                                   \u001b[31m│\u001b[0m\n",
       "\u001b[31m│\u001b[0m   \u001b[2m116 \u001b[0m\u001b[2m│   \u001b[0m                                                                                       \u001b[31m│\u001b[0m\n",
       "\u001b[31m│\u001b[0m   \u001b[2m117 \u001b[0m\u001b[2m│   \u001b[0m\u001b[94mreturn\u001b[0m decorate_context                                                                \u001b[31m│\u001b[0m\n",
       "\u001b[31m│\u001b[0m   \u001b[2m118 \u001b[0m                                                                                           \u001b[31m│\u001b[0m\n",
       "\u001b[31m│\u001b[0m                                                                                                  \u001b[31m│\u001b[0m\n",
       "\u001b[31m│\u001b[0m \u001b[2;33m/home/denny/anaconda3/envs/instblip/lib/python3.9/site-packages/transformers/generation/\u001b[0m\u001b[1;33mutils.py\u001b[0m \u001b[31m│\u001b[0m\n",
       "\u001b[31m│\u001b[0m :\u001b[94m1611\u001b[0m in \u001b[92mgenerate\u001b[0m                                                                                \u001b[31m│\u001b[0m\n",
       "\u001b[31m│\u001b[0m                                                                                                  \u001b[31m│\u001b[0m\n",
       "\u001b[31m│\u001b[0m   \u001b[2m1608 \u001b[0m\u001b[2m│   │   │   │   \u001b[0m**model_kwargs,                                                           \u001b[31m│\u001b[0m\n",
       "\u001b[31m│\u001b[0m   \u001b[2m1609 \u001b[0m\u001b[2m│   │   │   \u001b[0m)                                                                             \u001b[31m│\u001b[0m\n",
       "\u001b[31m│\u001b[0m   \u001b[2m1610 \u001b[0m\u001b[2m│   │   │   \u001b[0m\u001b[2m# 13. run beam search\u001b[0m                                                         \u001b[31m│\u001b[0m\n",
       "\u001b[31m│\u001b[0m \u001b[31m❱ \u001b[0m1611 \u001b[2m│   │   │   \u001b[0m\u001b[94mreturn\u001b[0m \u001b[96mself\u001b[0m.beam_search(                                                      \u001b[31m│\u001b[0m\n",
       "\u001b[31m│\u001b[0m   \u001b[2m1612 \u001b[0m\u001b[2m│   │   │   │   \u001b[0minput_ids,                                                                \u001b[31m│\u001b[0m\n",
       "\u001b[31m│\u001b[0m   \u001b[2m1613 \u001b[0m\u001b[2m│   │   │   │   \u001b[0mbeam_scorer,                                                              \u001b[31m│\u001b[0m\n",
       "\u001b[31m│\u001b[0m   \u001b[2m1614 \u001b[0m\u001b[2m│   │   │   │   \u001b[0mlogits_processor=logits_processor,                                        \u001b[31m│\u001b[0m\n",
       "\u001b[31m│\u001b[0m                                                                                                  \u001b[31m│\u001b[0m\n",
       "\u001b[31m│\u001b[0m \u001b[2;33m/home/denny/anaconda3/envs/instblip/lib/python3.9/site-packages/transformers/generation/\u001b[0m\u001b[1;33mutils.py\u001b[0m \u001b[31m│\u001b[0m\n",
       "\u001b[31m│\u001b[0m :\u001b[94m2909\u001b[0m in \u001b[92mbeam_search\u001b[0m                                                                             \u001b[31m│\u001b[0m\n",
       "\u001b[31m│\u001b[0m                                                                                                  \u001b[31m│\u001b[0m\n",
       "\u001b[31m│\u001b[0m   \u001b[2m2906 \u001b[0m\u001b[2m│   │   │   \u001b[0m                                                                              \u001b[31m│\u001b[0m\n",
       "\u001b[31m│\u001b[0m   \u001b[2m2907 \u001b[0m\u001b[2m│   │   │   \u001b[0mmodel_inputs = \u001b[96mself\u001b[0m.prepare_inputs_for_generation(input_ids, **model_kwargs)  \u001b[31m│\u001b[0m\n",
       "\u001b[31m│\u001b[0m   \u001b[2m2908 \u001b[0m\u001b[2m│   │   │   \u001b[0m                                                                              \u001b[31m│\u001b[0m\n",
       "\u001b[31m│\u001b[0m \u001b[31m❱ \u001b[0m2909 \u001b[2m│   │   │   \u001b[0moutputs = \u001b[96mself\u001b[0m(                                                               \u001b[31m│\u001b[0m\n",
       "\u001b[31m│\u001b[0m   \u001b[2m2910 \u001b[0m\u001b[2m│   │   │   │   \u001b[0m**model_inputs,                                                           \u001b[31m│\u001b[0m\n",
       "\u001b[31m│\u001b[0m   \u001b[2m2911 \u001b[0m\u001b[2m│   │   │   │   \u001b[0mreturn_dict=\u001b[94mTrue\u001b[0m,                                                         \u001b[31m│\u001b[0m\n",
       "\u001b[31m│\u001b[0m   \u001b[2m2912 \u001b[0m\u001b[2m│   │   │   │   \u001b[0moutput_attentions=output_attentions,                                      \u001b[31m│\u001b[0m\n",
       "\u001b[31m│\u001b[0m                                                                                                  \u001b[31m│\u001b[0m\n",
       "\u001b[31m│\u001b[0m \u001b[2;33m/home/denny/anaconda3/envs/instblip/lib/python3.9/site-packages/torch/nn/modules/\u001b[0m\u001b[1;33mmodule.py\u001b[0m:\u001b[94m1501\u001b[0m  \u001b[31m│\u001b[0m\n",
       "\u001b[31m│\u001b[0m in \u001b[92m_call_impl\u001b[0m                                                                                    \u001b[31m│\u001b[0m\n",
       "\u001b[31m│\u001b[0m                                                                                                  \u001b[31m│\u001b[0m\n",
       "\u001b[31m│\u001b[0m   \u001b[2m1498 \u001b[0m\u001b[2m│   │   \u001b[0m\u001b[94mif\u001b[0m \u001b[95mnot\u001b[0m (\u001b[96mself\u001b[0m._backward_hooks \u001b[95mor\u001b[0m \u001b[96mself\u001b[0m._backward_pre_hooks \u001b[95mor\u001b[0m \u001b[96mself\u001b[0m._forward_hooks   \u001b[31m│\u001b[0m\n",
       "\u001b[31m│\u001b[0m   \u001b[2m1499 \u001b[0m\u001b[2m│   │   │   │   \u001b[0m\u001b[95mor\u001b[0m _global_backward_pre_hooks \u001b[95mor\u001b[0m _global_backward_hooks                   \u001b[31m│\u001b[0m\n",
       "\u001b[31m│\u001b[0m   \u001b[2m1500 \u001b[0m\u001b[2m│   │   │   │   \u001b[0m\u001b[95mor\u001b[0m _global_forward_hooks \u001b[95mor\u001b[0m _global_forward_pre_hooks):                   \u001b[31m│\u001b[0m\n",
       "\u001b[31m│\u001b[0m \u001b[31m❱ \u001b[0m1501 \u001b[2m│   │   │   \u001b[0m\u001b[94mreturn\u001b[0m forward_call(*args, **kwargs)                                          \u001b[31m│\u001b[0m\n",
       "\u001b[31m│\u001b[0m   \u001b[2m1502 \u001b[0m\u001b[2m│   │   \u001b[0m\u001b[2m# Do not call functions when jit is used\u001b[0m                                          \u001b[31m│\u001b[0m\n",
       "\u001b[31m│\u001b[0m   \u001b[2m1503 \u001b[0m\u001b[2m│   │   \u001b[0mfull_backward_hooks, non_full_backward_hooks = [], []                             \u001b[31m│\u001b[0m\n",
       "\u001b[31m│\u001b[0m   \u001b[2m1504 \u001b[0m\u001b[2m│   │   \u001b[0mbackward_pre_hooks = []                                                           \u001b[31m│\u001b[0m\n",
       "\u001b[31m│\u001b[0m                                                                                                  \u001b[31m│\u001b[0m\n",
       "\u001b[31m│\u001b[0m \u001b[2;33m/home/denny/LAVIS/lavis/models/blip2_models/\u001b[0m\u001b[1;33mmodeling_llama.py\u001b[0m:\u001b[94m895\u001b[0m in \u001b[92mforward\u001b[0m                     \u001b[31m│\u001b[0m\n",
       "\u001b[31m│\u001b[0m                                                                                                  \u001b[31m│\u001b[0m\n",
       "\u001b[31m│\u001b[0m   \u001b[2m 892 \u001b[0m\u001b[2m│   │   \u001b[0mreturn_dict = return_dict \u001b[94mif\u001b[0m return_dict \u001b[95mis\u001b[0m \u001b[95mnot\u001b[0m \u001b[94mNone\u001b[0m \u001b[94melse\u001b[0m \u001b[96mself\u001b[0m.config.use_return  \u001b[31m│\u001b[0m\n",
       "\u001b[31m│\u001b[0m   \u001b[2m 893 \u001b[0m\u001b[2m│   │   \u001b[0m                                                                                  \u001b[31m│\u001b[0m\n",
       "\u001b[31m│\u001b[0m   \u001b[2m 894 \u001b[0m\u001b[2m│   │   \u001b[0m\u001b[2m# decoder outputs consists of (dec_features, layer_state, dec_hidden, dec_attn)\u001b[0m   \u001b[31m│\u001b[0m\n",
       "\u001b[31m│\u001b[0m \u001b[31m❱ \u001b[0m 895 \u001b[2m│   │   \u001b[0moutputs = \u001b[96mself\u001b[0m.model(                                                             \u001b[31m│\u001b[0m\n",
       "\u001b[31m│\u001b[0m   \u001b[2m 896 \u001b[0m\u001b[2m│   │   │   \u001b[0minput_ids=input_ids,                                                          \u001b[31m│\u001b[0m\n",
       "\u001b[31m│\u001b[0m   \u001b[2m 897 \u001b[0m\u001b[2m│   │   │   \u001b[0mattention_mask=attention_mask,                                                \u001b[31m│\u001b[0m\n",
       "\u001b[31m│\u001b[0m   \u001b[2m 898 \u001b[0m\u001b[2m│   │   │   \u001b[0mposition_ids=position_ids,                                                    \u001b[31m│\u001b[0m\n",
       "\u001b[31m│\u001b[0m                                                                                                  \u001b[31m│\u001b[0m\n",
       "\u001b[31m│\u001b[0m \u001b[2;33m/home/denny/anaconda3/envs/instblip/lib/python3.9/site-packages/torch/nn/modules/\u001b[0m\u001b[1;33mmodule.py\u001b[0m:\u001b[94m1501\u001b[0m  \u001b[31m│\u001b[0m\n",
       "\u001b[31m│\u001b[0m in \u001b[92m_call_impl\u001b[0m                                                                                    \u001b[31m│\u001b[0m\n",
       "\u001b[31m│\u001b[0m                                                                                                  \u001b[31m│\u001b[0m\n",
       "\u001b[31m│\u001b[0m   \u001b[2m1498 \u001b[0m\u001b[2m│   │   \u001b[0m\u001b[94mif\u001b[0m \u001b[95mnot\u001b[0m (\u001b[96mself\u001b[0m._backward_hooks \u001b[95mor\u001b[0m \u001b[96mself\u001b[0m._backward_pre_hooks \u001b[95mor\u001b[0m \u001b[96mself\u001b[0m._forward_hooks   \u001b[31m│\u001b[0m\n",
       "\u001b[31m│\u001b[0m   \u001b[2m1499 \u001b[0m\u001b[2m│   │   │   │   \u001b[0m\u001b[95mor\u001b[0m _global_backward_pre_hooks \u001b[95mor\u001b[0m _global_backward_hooks                   \u001b[31m│\u001b[0m\n",
       "\u001b[31m│\u001b[0m   \u001b[2m1500 \u001b[0m\u001b[2m│   │   │   │   \u001b[0m\u001b[95mor\u001b[0m _global_forward_hooks \u001b[95mor\u001b[0m _global_forward_pre_hooks):                   \u001b[31m│\u001b[0m\n",
       "\u001b[31m│\u001b[0m \u001b[31m❱ \u001b[0m1501 \u001b[2m│   │   │   \u001b[0m\u001b[94mreturn\u001b[0m forward_call(*args, **kwargs)                                          \u001b[31m│\u001b[0m\n",
       "\u001b[31m│\u001b[0m   \u001b[2m1502 \u001b[0m\u001b[2m│   │   \u001b[0m\u001b[2m# Do not call functions when jit is used\u001b[0m                                          \u001b[31m│\u001b[0m\n",
       "\u001b[31m│\u001b[0m   \u001b[2m1503 \u001b[0m\u001b[2m│   │   \u001b[0mfull_backward_hooks, non_full_backward_hooks = [], []                             \u001b[31m│\u001b[0m\n",
       "\u001b[31m│\u001b[0m   \u001b[2m1504 \u001b[0m\u001b[2m│   │   \u001b[0mbackward_pre_hooks = []                                                           \u001b[31m│\u001b[0m\n",
       "\u001b[31m│\u001b[0m                                                                                                  \u001b[31m│\u001b[0m\n",
       "\u001b[31m│\u001b[0m \u001b[2;33m/home/denny/LAVIS/lavis/models/blip2_models/\u001b[0m\u001b[1;33mmodeling_llama.py\u001b[0m:\u001b[94m577\u001b[0m in \u001b[92mforward\u001b[0m                     \u001b[31m│\u001b[0m\n",
       "\u001b[31m│\u001b[0m                                                                                                  \u001b[31m│\u001b[0m\n",
       "\u001b[31m│\u001b[0m   \u001b[2m 574 \u001b[0m\u001b[2m│   │   │   │   │   \u001b[0m\u001b[94mNone\u001b[0m,                                                                 \u001b[31m│\u001b[0m\n",
       "\u001b[31m│\u001b[0m   \u001b[2m 575 \u001b[0m\u001b[2m│   │   │   │   \u001b[0m)                                                                         \u001b[31m│\u001b[0m\n",
       "\u001b[31m│\u001b[0m   \u001b[2m 576 \u001b[0m\u001b[2m│   │   │   \u001b[0m\u001b[94melse\u001b[0m:                                                                         \u001b[31m│\u001b[0m\n",
       "\u001b[31m│\u001b[0m \u001b[31m❱ \u001b[0m 577 \u001b[2m│   │   │   │   \u001b[0mlayer_outputs = decoder_layer(                                            \u001b[31m│\u001b[0m\n",
       "\u001b[31m│\u001b[0m   \u001b[2m 578 \u001b[0m\u001b[2m│   │   │   │   │   \u001b[0mhidden_states,                                                        \u001b[31m│\u001b[0m\n",
       "\u001b[31m│\u001b[0m   \u001b[2m 579 \u001b[0m\u001b[2m│   │   │   │   │   \u001b[0mattention_mask=attention_mask,                                        \u001b[31m│\u001b[0m\n",
       "\u001b[31m│\u001b[0m   \u001b[2m 580 \u001b[0m\u001b[2m│   │   │   │   │   \u001b[0mposition_ids=position_ids,                                            \u001b[31m│\u001b[0m\n",
       "\u001b[31m│\u001b[0m                                                                                                  \u001b[31m│\u001b[0m\n",
       "\u001b[31m│\u001b[0m \u001b[2;33m/home/denny/anaconda3/envs/instblip/lib/python3.9/site-packages/torch/nn/modules/\u001b[0m\u001b[1;33mmodule.py\u001b[0m:\u001b[94m1501\u001b[0m  \u001b[31m│\u001b[0m\n",
       "\u001b[31m│\u001b[0m in \u001b[92m_call_impl\u001b[0m                                                                                    \u001b[31m│\u001b[0m\n",
       "\u001b[31m│\u001b[0m                                                                                                  \u001b[31m│\u001b[0m\n",
       "\u001b[31m│\u001b[0m   \u001b[2m1498 \u001b[0m\u001b[2m│   │   \u001b[0m\u001b[94mif\u001b[0m \u001b[95mnot\u001b[0m (\u001b[96mself\u001b[0m._backward_hooks \u001b[95mor\u001b[0m \u001b[96mself\u001b[0m._backward_pre_hooks \u001b[95mor\u001b[0m \u001b[96mself\u001b[0m._forward_hooks   \u001b[31m│\u001b[0m\n",
       "\u001b[31m│\u001b[0m   \u001b[2m1499 \u001b[0m\u001b[2m│   │   │   │   \u001b[0m\u001b[95mor\u001b[0m _global_backward_pre_hooks \u001b[95mor\u001b[0m _global_backward_hooks                   \u001b[31m│\u001b[0m\n",
       "\u001b[31m│\u001b[0m   \u001b[2m1500 \u001b[0m\u001b[2m│   │   │   │   \u001b[0m\u001b[95mor\u001b[0m _global_forward_hooks \u001b[95mor\u001b[0m _global_forward_pre_hooks):                   \u001b[31m│\u001b[0m\n",
       "\u001b[31m│\u001b[0m \u001b[31m❱ \u001b[0m1501 \u001b[2m│   │   │   \u001b[0m\u001b[94mreturn\u001b[0m forward_call(*args, **kwargs)                                          \u001b[31m│\u001b[0m\n",
       "\u001b[31m│\u001b[0m   \u001b[2m1502 \u001b[0m\u001b[2m│   │   \u001b[0m\u001b[2m# Do not call functions when jit is used\u001b[0m                                          \u001b[31m│\u001b[0m\n",
       "\u001b[31m│\u001b[0m   \u001b[2m1503 \u001b[0m\u001b[2m│   │   \u001b[0mfull_backward_hooks, non_full_backward_hooks = [], []                             \u001b[31m│\u001b[0m\n",
       "\u001b[31m│\u001b[0m   \u001b[2m1504 \u001b[0m\u001b[2m│   │   \u001b[0mbackward_pre_hooks = []                                                           \u001b[31m│\u001b[0m\n",
       "\u001b[31m│\u001b[0m                                                                                                  \u001b[31m│\u001b[0m\n",
       "\u001b[31m│\u001b[0m \u001b[2;33m/home/denny/LAVIS/lavis/models/blip2_models/\u001b[0m\u001b[1;33mmodeling_llama.py\u001b[0m:\u001b[94m292\u001b[0m in \u001b[92mforward\u001b[0m                     \u001b[31m│\u001b[0m\n",
       "\u001b[31m│\u001b[0m                                                                                                  \u001b[31m│\u001b[0m\n",
       "\u001b[31m│\u001b[0m   \u001b[2m 289 \u001b[0m\u001b[2m│   │   \u001b[0mhidden_states = \u001b[96mself\u001b[0m.input_layernorm(hidden_states)                               \u001b[31m│\u001b[0m\n",
       "\u001b[31m│\u001b[0m   \u001b[2m 290 \u001b[0m\u001b[2m│   │   \u001b[0m                                                                                  \u001b[31m│\u001b[0m\n",
       "\u001b[31m│\u001b[0m   \u001b[2m 291 \u001b[0m\u001b[2m│   │   \u001b[0m\u001b[2m# Self Attention\u001b[0m                                                                  \u001b[31m│\u001b[0m\n",
       "\u001b[31m│\u001b[0m \u001b[31m❱ \u001b[0m 292 \u001b[2m│   │   \u001b[0mhidden_states, self_attn_weights, present_key_value = \u001b[96mself\u001b[0m.self_attn(             \u001b[31m│\u001b[0m\n",
       "\u001b[31m│\u001b[0m   \u001b[2m 293 \u001b[0m\u001b[2m│   │   │   \u001b[0mhidden_states=hidden_states,                                                  \u001b[31m│\u001b[0m\n",
       "\u001b[31m│\u001b[0m   \u001b[2m 294 \u001b[0m\u001b[2m│   │   │   \u001b[0mattention_mask=attention_mask,                                                \u001b[31m│\u001b[0m\n",
       "\u001b[31m│\u001b[0m   \u001b[2m 295 \u001b[0m\u001b[2m│   │   │   \u001b[0mposition_ids=position_ids,                                                    \u001b[31m│\u001b[0m\n",
       "\u001b[31m│\u001b[0m                                                                                                  \u001b[31m│\u001b[0m\n",
       "\u001b[31m│\u001b[0m \u001b[2;33m/home/denny/anaconda3/envs/instblip/lib/python3.9/site-packages/torch/nn/modules/\u001b[0m\u001b[1;33mmodule.py\u001b[0m:\u001b[94m1501\u001b[0m  \u001b[31m│\u001b[0m\n",
       "\u001b[31m│\u001b[0m in \u001b[92m_call_impl\u001b[0m                                                                                    \u001b[31m│\u001b[0m\n",
       "\u001b[31m│\u001b[0m                                                                                                  \u001b[31m│\u001b[0m\n",
       "\u001b[31m│\u001b[0m   \u001b[2m1498 \u001b[0m\u001b[2m│   │   \u001b[0m\u001b[94mif\u001b[0m \u001b[95mnot\u001b[0m (\u001b[96mself\u001b[0m._backward_hooks \u001b[95mor\u001b[0m \u001b[96mself\u001b[0m._backward_pre_hooks \u001b[95mor\u001b[0m \u001b[96mself\u001b[0m._forward_hooks   \u001b[31m│\u001b[0m\n",
       "\u001b[31m│\u001b[0m   \u001b[2m1499 \u001b[0m\u001b[2m│   │   │   │   \u001b[0m\u001b[95mor\u001b[0m _global_backward_pre_hooks \u001b[95mor\u001b[0m _global_backward_hooks                   \u001b[31m│\u001b[0m\n",
       "\u001b[31m│\u001b[0m   \u001b[2m1500 \u001b[0m\u001b[2m│   │   │   │   \u001b[0m\u001b[95mor\u001b[0m _global_forward_hooks \u001b[95mor\u001b[0m _global_forward_pre_hooks):                   \u001b[31m│\u001b[0m\n",
       "\u001b[31m│\u001b[0m \u001b[31m❱ \u001b[0m1501 \u001b[2m│   │   │   \u001b[0m\u001b[94mreturn\u001b[0m forward_call(*args, **kwargs)                                          \u001b[31m│\u001b[0m\n",
       "\u001b[31m│\u001b[0m   \u001b[2m1502 \u001b[0m\u001b[2m│   │   \u001b[0m\u001b[2m# Do not call functions when jit is used\u001b[0m                                          \u001b[31m│\u001b[0m\n",
       "\u001b[31m│\u001b[0m   \u001b[2m1503 \u001b[0m\u001b[2m│   │   \u001b[0mfull_backward_hooks, non_full_backward_hooks = [], []                             \u001b[31m│\u001b[0m\n",
       "\u001b[31m│\u001b[0m   \u001b[2m1504 \u001b[0m\u001b[2m│   │   \u001b[0mbackward_pre_hooks = []                                                           \u001b[31m│\u001b[0m\n",
       "\u001b[31m│\u001b[0m                                                                                                  \u001b[31m│\u001b[0m\n",
       "\u001b[31m│\u001b[0m \u001b[2;33m/home/denny/LAVIS/lavis/models/blip2_models/\u001b[0m\u001b[1;33mmodeling_llama.py\u001b[0m:\u001b[94m198\u001b[0m in \u001b[92mforward\u001b[0m                     \u001b[31m│\u001b[0m\n",
       "\u001b[31m│\u001b[0m                                                                                                  \u001b[31m│\u001b[0m\n",
       "\u001b[31m│\u001b[0m   \u001b[2m 195 \u001b[0m\u001b[2m│   │   \u001b[0m                                                                                  \u001b[31m│\u001b[0m\n",
       "\u001b[31m│\u001b[0m   \u001b[2m 196 \u001b[0m\u001b[2m│   │   \u001b[0mquery_states = \u001b[96mself\u001b[0m.q_proj(hidden_states).view(bsz, q_len, \u001b[96mself\u001b[0m.num_heads, \u001b[96mself\u001b[0m.  \u001b[31m│\u001b[0m\n",
       "\u001b[31m│\u001b[0m   \u001b[2m 197 \u001b[0m\u001b[2m│   │   \u001b[0mkey_states = \u001b[96mself\u001b[0m.k_proj(hidden_states).view(bsz, q_len, \u001b[96mself\u001b[0m.num_heads, \u001b[96mself\u001b[0m.he  \u001b[31m│\u001b[0m\n",
       "\u001b[31m│\u001b[0m \u001b[31m❱ \u001b[0m 198 \u001b[2m│   │   \u001b[0mvalue_states = \u001b[96mself\u001b[0m.v_proj(hidden_states).view(bsz, q_len, \u001b[96mself\u001b[0m.num_heads, \u001b[96mself\u001b[0m.  \u001b[31m│\u001b[0m\n",
       "\u001b[31m│\u001b[0m   \u001b[2m 199 \u001b[0m\u001b[2m│   │   \u001b[0m                                                                                  \u001b[31m│\u001b[0m\n",
       "\u001b[31m│\u001b[0m   \u001b[2m 200 \u001b[0m\u001b[2m│   │   \u001b[0mkv_seq_len = key_states.shape[-\u001b[94m2\u001b[0m]                                                 \u001b[31m│\u001b[0m\n",
       "\u001b[31m│\u001b[0m   \u001b[2m 201 \u001b[0m\u001b[2m│   │   \u001b[0m\u001b[94mif\u001b[0m past_key_value \u001b[95mis\u001b[0m \u001b[95mnot\u001b[0m \u001b[94mNone\u001b[0m:                                                    \u001b[31m│\u001b[0m\n",
       "\u001b[31m│\u001b[0m                                                                                                  \u001b[31m│\u001b[0m\n",
       "\u001b[31m│\u001b[0m \u001b[2;33m/home/denny/anaconda3/envs/instblip/lib/python3.9/site-packages/torch/nn/modules/\u001b[0m\u001b[1;33mmodule.py\u001b[0m:\u001b[94m1501\u001b[0m  \u001b[31m│\u001b[0m\n",
       "\u001b[31m│\u001b[0m in \u001b[92m_call_impl\u001b[0m                                                                                    \u001b[31m│\u001b[0m\n",
       "\u001b[31m│\u001b[0m                                                                                                  \u001b[31m│\u001b[0m\n",
       "\u001b[31m│\u001b[0m   \u001b[2m1498 \u001b[0m\u001b[2m│   │   \u001b[0m\u001b[94mif\u001b[0m \u001b[95mnot\u001b[0m (\u001b[96mself\u001b[0m._backward_hooks \u001b[95mor\u001b[0m \u001b[96mself\u001b[0m._backward_pre_hooks \u001b[95mor\u001b[0m \u001b[96mself\u001b[0m._forward_hooks   \u001b[31m│\u001b[0m\n",
       "\u001b[31m│\u001b[0m   \u001b[2m1499 \u001b[0m\u001b[2m│   │   │   │   \u001b[0m\u001b[95mor\u001b[0m _global_backward_pre_hooks \u001b[95mor\u001b[0m _global_backward_hooks                   \u001b[31m│\u001b[0m\n",
       "\u001b[31m│\u001b[0m   \u001b[2m1500 \u001b[0m\u001b[2m│   │   │   │   \u001b[0m\u001b[95mor\u001b[0m _global_forward_hooks \u001b[95mor\u001b[0m _global_forward_pre_hooks):                   \u001b[31m│\u001b[0m\n",
       "\u001b[31m│\u001b[0m \u001b[31m❱ \u001b[0m1501 \u001b[2m│   │   │   \u001b[0m\u001b[94mreturn\u001b[0m forward_call(*args, **kwargs)                                          \u001b[31m│\u001b[0m\n",
       "\u001b[31m│\u001b[0m   \u001b[2m1502 \u001b[0m\u001b[2m│   │   \u001b[0m\u001b[2m# Do not call functions when jit is used\u001b[0m                                          \u001b[31m│\u001b[0m\n",
       "\u001b[31m│\u001b[0m   \u001b[2m1503 \u001b[0m\u001b[2m│   │   \u001b[0mfull_backward_hooks, non_full_backward_hooks = [], []                             \u001b[31m│\u001b[0m\n",
       "\u001b[31m│\u001b[0m   \u001b[2m1504 \u001b[0m\u001b[2m│   │   \u001b[0mbackward_pre_hooks = []                                                           \u001b[31m│\u001b[0m\n",
       "\u001b[31m│\u001b[0m                                                                                                  \u001b[31m│\u001b[0m\n",
       "\u001b[31m│\u001b[0m \u001b[2;33m/home/denny/anaconda3/envs/instblip/lib/python3.9/site-packages/peft/tuners/\u001b[0m\u001b[1;33mlora.py\u001b[0m:\u001b[94m570\u001b[0m in       \u001b[31m│\u001b[0m\n",
       "\u001b[31m│\u001b[0m \u001b[92mforward\u001b[0m                                                                                          \u001b[31m│\u001b[0m\n",
       "\u001b[31m│\u001b[0m                                                                                                  \u001b[31m│\u001b[0m\n",
       "\u001b[31m│\u001b[0m   \u001b[2m567 \u001b[0m\u001b[2m│   │   │   \u001b[0mx = x.to(\u001b[96mself\u001b[0m.lora_A[\u001b[96mself\u001b[0m.active_adapter].weight.dtype)                        \u001b[31m│\u001b[0m\n",
       "\u001b[31m│\u001b[0m   \u001b[2m568 \u001b[0m\u001b[2m│   │   │   \u001b[0m                                                                               \u001b[31m│\u001b[0m\n",
       "\u001b[31m│\u001b[0m   \u001b[2m569 \u001b[0m\u001b[2m│   │   │   \u001b[0mresult += (                                                                    \u001b[31m│\u001b[0m\n",
       "\u001b[31m│\u001b[0m \u001b[31m❱ \u001b[0m570 \u001b[2m│   │   │   │   \u001b[0m\u001b[96mself\u001b[0m.lora_B[\u001b[96mself\u001b[0m.active_adapter](                                          \u001b[31m│\u001b[0m\n",
       "\u001b[31m│\u001b[0m   \u001b[2m571 \u001b[0m\u001b[2m│   │   │   │   │   \u001b[0m\u001b[96mself\u001b[0m.lora_A[\u001b[96mself\u001b[0m.active_adapter](\u001b[96mself\u001b[0m.lora_dropout[\u001b[96mself\u001b[0m.active_adapt   \u001b[31m│\u001b[0m\n",
       "\u001b[31m│\u001b[0m   \u001b[2m572 \u001b[0m\u001b[2m│   │   │   │   \u001b[0m)                                                                          \u001b[31m│\u001b[0m\n",
       "\u001b[31m│\u001b[0m   \u001b[2m573 \u001b[0m\u001b[2m│   │   │   │   \u001b[0m* \u001b[96mself\u001b[0m.scaling[\u001b[96mself\u001b[0m.active_adapter]                                        \u001b[31m│\u001b[0m\n",
       "\u001b[31m╰──────────────────────────────────────────────────────────────────────────────────────────────────╯\u001b[0m\n",
       "\u001b[1;91mKeyboardInterrupt\u001b[0m\n"
      ]
     },
     "metadata": {},
     "output_type": "display_data"
    }
   ],
   "source": [
    "# logPath = '/home/denny/LAVIS/deepfake-detection/log/log.txt'\n",
    "logPath = '/home/denny/LAVIS/deepfake-detection/log/log2.txt'\n",
    "# logPath = '/home/denny/LAVIS/deepfake-detection/log/SD2_SD2IP_90k_lora_onlyCommon.txt'\n",
    "# logPath = '/home/denny/LAVIS/deepfake-detection/log/SD2_SD2IP_90k_lora_onlyCommon2.txt'\n",
    "\n",
    "q1 = \"Is this photo real?\"\n",
    "# q1 = \"Is this photo fake?\"\n",
    "# q2 = \"Is this photo real?\"\n",
    "\n",
    "file = open(logPath, 'a')\n",
    "file.close()\n",
    "\n",
    "instruct = InstructBLIP()\n",
    "instruct.LoadModels(model, vis_processors, txt_processors, device)\n",
    "\n",
    "print(f'Log path: {logPath}')\n",
    "print(f'Q1: {q1}')\n",
    "# print(f'Q2: {q2}')\n",
    "\n",
    "csvfiles = [\n",
    "# \"/eva_data0/denny/textual_inversion/debug_label.csv\",\n",
    "# \"/eva_data0/denny/textual_inversion/60k_6k_6k/test_COCO_label.csv\",\n",
    "# \"/eva_data0/denny/textual_inversion/60k_6k_6k/test_Flickr_label.csv\",\n",
    "# \"/eva_data0/denny/textual_inversion/60k_6k_6k/test_SD2_label.csv\",\n",
    "# \"/eva_data0/denny/textual_inversion/60k_6k_6k/test_SDXL_label.csv\", \n",
    "# \"/eva_data0/denny/textual_inversion/60k_6k_6k/test_IF_label.csv\",\n",
    "# \"/eva_data0/denny/textual_inversion/60k_6k_6k/test_DALLE_label.csv\",\n",
    "# \"/eva_data0/denny/textual_inversion/60k_6k_6k/test_SGXL_label.csv\",\n",
    "# \"/eva_data0/denny/textual_inversion/60k_6k_6k/test_Control_COCO_label.csv\",\n",
    "\"/eva_data0/iammingggg/textual_inversion/60k_6k_6k/test_lama_label.csv\",\n",
    "\"/eva_data0/iammingggg/textual_inversion/60k_6k_6k/test_SD2IP_label.csv\",\n",
    "\"/eva_data0/iammingggg/textual_inversion/60k_6k_6k/test_lte_label.csv\",\n",
    "\"/eva_data0/iammingggg/textual_inversion/60k_6k_6k/test_SD2SR_label.csv\",\n",
    "\"/eva_data0/iammingggg/textual_inversion/60k_6k_6k/test_deeperforensics_faceOnly_label.csv\",\n",
    "\"/eva_data0/denny/textual_inversion/60k_6k_6k/test_AdvAtk_Imagenet_label.csv\",\n",
    "\"/eva_data0/denny/textual_inversion/60k_6k_6k/test_Backdoor_Imagenet_label.csv\",\n",
    "\"/eva_data0/denny/textual_inversion/60k_6k_6k/test_DataPoison_Imagenet_label.csv\",\n",
    "]\n",
    "\n",
    "for csv_path in csvfiles:\n",
    "    instruct.LoadData_batch(csv_path=csv_path)\n",
    "    print(f'Load data from {csv_path}')\n",
    "\n",
    "    question = q1\n",
    "    acc, confusion_mat, pretrained_ans_list, labels, label_3class = instruct.QueryImgs_batch(question=question, true_string=\"yes\", logPath=logPath)\n",
    "    print(f'Question: {question}')\n",
    "    print(f'Acc: {acc*100:.2f}%')\n",
    "\n",
    "    # question = q2\n",
    "    # acc, confusion_mat, finetuned_ans_list, labels, label_3class = instruct.QueryImgs_batch(question=question, true_string=\"yes\", logPath=logPath)\n",
    "    # print(f'Question: {question}')\n",
    "    # print(f'Acc: {acc*100:.2f}%')\n",
    "\n",
    "    # comb_acc, comb_confusion_mat, comb_ans = print_combine_result(pretrained_ans_list, finetuned_ans_list, labels, logPath=logPath)\n",
    "    # print(f'[Combination]')\n",
    "    # print(f'Acc: {comb_acc*100:.2f}%')"
   ]
  },
  {
   "cell_type": "code",
   "execution_count": 3,
   "metadata": {},
   "outputs": [],
   "source": [
    "class TextInvDataset(Dataset):\n",
    "    def __init__(self, csv, vis_processors=None, txt_processors=None):\n",
    "        \n",
    "        self.path_and_labels = pd.read_csv(csv, index_col=\"img_path\")\n",
    "        self.vis_processors = vis_processors\n",
    "        self.txt_processors = txt_processors\n",
    "\n",
    "    def __len__(self):\n",
    "        \n",
    "        return len(list(self.path_and_labels.index))\n",
    "\n",
    "    def __getitem__(self, index):\n",
    "\n",
    "        image_path = list(self.path_and_labels.index)[index]\n",
    "        image = Image.open(image_path).convert(\"RGB\")\n",
    "        if self.vis_processors:\n",
    "            image = self.vis_processors(image)\n",
    "        \n",
    "        label = self.path_and_labels.loc[image_path, \"label\"]\n",
    "        \n",
    "        is_uncommon = \"uncommon\" in image_path\n",
    "\n",
    "        return image, label, is_uncommon"
   ]
  },
  {
   "attachments": {},
   "cell_type": "markdown",
   "metadata": {},
   "source": [
    "#### Query batch of images"
   ]
  },
  {
   "cell_type": "code",
   "execution_count": 4,
   "metadata": {},
   "outputs": [],
   "source": [
    "\n",
    "# This is for query lost of images\n",
    "\n",
    "from os import listdir\n",
    "from os.path import isfile, join\n",
    "from tqdm import tqdm\n",
    "from sklearn.metrics import accuracy_score, confusion_matrix\n",
    "import time\n",
    "\n",
    "class InstructBLIP():\n",
    "    def __init__(self, name=\"blip2_vicuna_instruct_textinv\", model_type=\"vicuna7b\", is_eval=True, device=\"cpu\") -> None:\n",
    "        print(f'Loading model...')\n",
    "        #self.model, self.vis_processors, self.txt_processors = load_model_and_preprocess(name, model_type, is_eval, device)\n",
    "        self.imgs = []\n",
    "        self.labels = []\n",
    "        \n",
    "        # QA\n",
    "        self.question = \"\"\n",
    "        \n",
    "        # results\n",
    "        self.acc = None\n",
    "        self.confusion_mat = None\n",
    "        \n",
    "        self.acc_3class = None\n",
    "        self.confusion_mat_3class = None\n",
    "        \n",
    "        self.com_acc = None\n",
    "        self.com_confusion_mat = None\n",
    "        self.uncom_acc = None\n",
    "        self.uncom_confusion_mat = None\n",
    "\n",
    "    def LoadModels(self, model, vis_processors, txt_processors, device):\n",
    "        self.model = model\n",
    "        self.vis_processors = vis_processors\n",
    "        self.txt_processors = txt_processors\n",
    "        self.device = device\n",
    "    \n",
    "    def LoadImages(self, dir, num):\n",
    "        onlyfiles = []\n",
    "        \n",
    "        for f in sorted(listdir(dir)):\n",
    "            if isfile(join(dir, f)):\n",
    "                onlyfiles.append(join(dir, f))\n",
    "        \n",
    "        onlyfiles = random.sample(onlyfiles, num)\n",
    "        \n",
    "        raw_img_list = []\n",
    "        with tqdm(total=len(onlyfiles), desc=f'Loading imgs from {dir}') as pbar:\n",
    "            for f in onlyfiles:\n",
    "                raw_img = Image.open(f).convert(\"RGB\")\n",
    "                raw_img_list.append(raw_img)\n",
    "                pbar.update(1)\n",
    "        \n",
    "        return raw_img_list\n",
    "\n",
    "    def LoadData(self, real_dir, fake_dir, num=1000):\n",
    "        #real_imgs = LoadImages(join(root_dir, \"0_real\"))\n",
    "        #fake_imgs = LoadImages(join(root_dir, \"1_fake\"))\n",
    "        real_imgs = self.LoadImages(real_dir, num)\n",
    "        fake_imgs = self.LoadImages(fake_dir, num)\n",
    "        \n",
    "        self.imgs = real_imgs + fake_imgs\n",
    "        self.labels = [0]*len(real_imgs) + [1]*len(fake_imgs)\n",
    "        #return self.imgs, self.labels\n",
    "      \n",
    "    def LoadData_batch(self, csv_path):\n",
    "        self.csv = csv_path\n",
    "        self.dataset = TextInvDataset(csv=csv_path, vis_processors=self.vis_processors[\"eval\"])\n",
    "        self.dataloader = DataLoader(dataset=self.dataset, batch_size=8, shuffle=False, num_workers=8)    \n",
    "        \n",
    "    def LoadData3Class(self, real_dir, fake_common_dir, fake_uncommon_dir, num=[1000, 500, 500]):\n",
    "        #real_imgs = LoadImages(join(root_dir, \"0_real\"))\n",
    "        #fake_imgs = LoadImages(join(root_dir, \"1_fake\"))\n",
    "        self.num = num\n",
    "        real_imgs = self.LoadImages(real_dir, num[0])\n",
    "        fake_common_imgs = self.LoadImages(fake_common_dir, num[1])\n",
    "        fake_uncommon_imgs = self.LoadImages(fake_uncommon_dir, num[2])\n",
    "        \n",
    "        self.imgs = real_imgs + fake_common_imgs + fake_uncommon_imgs\n",
    "        self.labels = [0]*len(real_imgs) + [1]*(len(fake_common_imgs)+len(fake_uncommon_imgs))\n",
    "        self.label_3class = [0]*len(real_imgs) + [1]*len(fake_common_imgs) + [2]*len(fake_uncommon_imgs)\n",
    "        #return self.imgs, self.labels, self.label_3class\n",
    "\n",
    "    def QueryImgs(self, question, true_string=\"yes\"):\n",
    "        self.ans_list = []\n",
    "        self.question = question\n",
    "        \n",
    "        with tqdm(total=len(self.imgs), desc=f'Answering') as pbar:\n",
    "            for idx, img in enumerate(self.imgs):\n",
    "                image = self.vis_processors[\"eval\"](img).unsqueeze(0).to(self.device)\n",
    "\n",
    "                samples = {\"image\": image, \"text_input\": question}\n",
    "                \n",
    "                ans = self.model.predict_answers(samples=samples, inference_method=\"generate\")[0]\n",
    "                self.ans_list.append(0 if ans == true_string else 1)\n",
    "                \n",
    "                pbar.update(1)\n",
    "        \n",
    "        self.acc = accuracy_score(self.labels, self.ans_list)\n",
    "        self.confusion_mat = confusion_matrix(self.labels, self.ans_list)\n",
    "        \n",
    "        self.PrintResult()\n",
    "        \n",
    "        return self.acc, self.confusion_mat, self.ans_list\n",
    "    \n",
    "    def QueryImgs_batch(self, question, true_string=\"yes\", logPath='log.txt'):\n",
    "        self.labels = []\n",
    "        self.label_3class = []\n",
    "        self.ans_list = []\n",
    "        self.question = question\n",
    "        \n",
    "        for image, label, is_uncommon in tqdm(self.dataloader):\n",
    "            \n",
    "            image = image.to(self.device)\n",
    "            \n",
    "            questions = [self.question] * image.shape[0]\n",
    "            samples = {\"image\": image, \"text_input\": questions}\n",
    "\n",
    "            ans = self.model.predict_answers(samples=samples, inference_method=\"generate\")\n",
    "            pred_label = [0 if a == true_string else 1 for a in ans]\n",
    "            self.ans_list += pred_label\n",
    "            \n",
    "            label = [0 if l == true_string else 1 for l in label]\n",
    "            self.labels += label\n",
    "            \n",
    "            label_3class = label.copy()\n",
    "            label_3class = [2 if is_uncommon[idx] else l for idx, l in enumerate(label)]\n",
    "            \n",
    "            self.label_3class += label_3class\n",
    "        \n",
    "        self.acc = accuracy_score(self.labels, self.ans_list)\n",
    "        self.confusion_mat = confusion_matrix(self.labels, self.ans_list)\n",
    "        \n",
    "        self.ans_list = np.array(self.ans_list)\n",
    "        self.labels = np.array(self.labels)\n",
    "        self.label_3class = np.array(self.label_3class)\n",
    "        \n",
    "        self.PrintResult(three_class=True, logPath=logPath)\n",
    "        \n",
    "        return self.acc, self.confusion_mat, self.ans_list, self.labels, self.label_3class\n",
    "    \n",
    "    def Query(self, image, question):\n",
    "        image = self.vis_processors[\"eval\"](image).unsqueeze(0).to(self.device)\n",
    "        \n",
    "        samples = {\"image\": image, \"text_input\": question}\n",
    "        ans = self.model.predict_answers(samples=samples, inference_method=\"generate\")[0]\n",
    "        return ans\n",
    "\n",
    "    def PrintResult(self, three_class=False, acc=None, confusion_mat=None, ans_list=None, labels=None, label_3class=None, logPath=None):\n",
    "        \n",
    "        if acc:\n",
    "            self.acc = acc\n",
    "        if confusion_mat:\n",
    "            self.confusion_mat = confusion_mat\n",
    "        if ans_list:\n",
    "            self.ans_list = ans_list\n",
    "        if labels:\n",
    "            self.labels = labels\n",
    "        if label_3class:\n",
    "            self.label_3class = label_3class\n",
    "        \n",
    "        if logPath:\n",
    "            logfile = open(logPath, 'a')\n",
    "        \n",
    "        if three_class:\n",
    "            #assert type(self.num) == list, \"Type of num should be list.\"\n",
    "            \n",
    "            print(f'[TIME]      : {time.ctime()}', file=logfile)\n",
    "            print(f'[Finetuned] : {self.model.finetuned}', file=logfile)\n",
    "            print(f'[Data csv]  : {self.csv}', file=logfile)\n",
    "            print(f'[Question]  : {self.question}\\n', file=logfile)\n",
    "            \n",
    "            print(f'=== Overall ===', file=logfile)\n",
    "            print(f'Acc: {self.acc*100:.2f}%', file=logfile)\n",
    "            self.PrintConfusion(self.confusion_mat, logfile=logfile)\n",
    "            print('\\n', file=logfile)\n",
    "            \n",
    "            real_ans_list = self.ans_list[self.label_3class==0]\n",
    "            real_label = [0] * len(real_ans_list)\n",
    "            self.real_acc = accuracy_score(real_label, real_ans_list)\n",
    "            self.real_confusion_mat = confusion_matrix(real_label, real_ans_list, labels=[0,1])\n",
    "            print(f'=== Real images ===', file=logfile)\n",
    "            print(f'Acc: {self.real_acc*100:.2f}%', file=logfile)\n",
    "            self.PrintConfusion(self.real_confusion_mat, logfile=logfile)\n",
    "            print('\\n', file=logfile)\n",
    "            \n",
    "            com_ans_list = self.ans_list[self.label_3class==1]\n",
    "            com_label = [1] * len(com_ans_list)\n",
    "            self.com_acc = accuracy_score(com_label, com_ans_list)\n",
    "            self.com_confusion_mat = confusion_matrix(com_label, com_ans_list, labels=[0,1])\n",
    "            print(f'=== Common fake images ===', file=logfile)\n",
    "            print(f'Acc: {self.com_acc*100:.2f}%', file=logfile)\n",
    "            self.PrintConfusion(self.com_confusion_mat, logfile=logfile)\n",
    "            print('\\n', file=logfile)\n",
    "            \n",
    "            uncom_ans_list = self.ans_list[self.label_3class==2]\n",
    "            uncom_label = [1] * len(uncom_ans_list)\n",
    "            self.uncom_acc = accuracy_score(uncom_label, uncom_ans_list)\n",
    "            self.uncom_confusion_mat = confusion_matrix(uncom_label, uncom_ans_list, labels=[0,1])\n",
    "            print(f'=== Uncommon fake images ===', file=logfile)\n",
    "            print(f'Acc: {self.uncom_acc*100:.2f}%', file=logfile)\n",
    "            self.PrintConfusion(self.uncom_confusion_mat, logfile=logfile)\n",
    "            print('\\n', file=logfile)\n",
    "        else:\n",
    "            print(f'Question: {self.question}\\n', file=logfile)\n",
    "            print(f'Acc: {self.acc*100:.2f}%', file=logfile)\n",
    "            self.PrintConfusion(self.confusion_mat, logfile=logfile)\n",
    "            print('\\n', file=logfile)\n",
    "        \n",
    "        logfile.close()\n",
    "    \n",
    "    def PrintConfusion(self, mat, logfile):\n",
    "        padding = ' '\n",
    "        print(f'        | Pred real | Pred fake |', file=logfile)\n",
    "        print(f'GT real | {mat[0, 0]:{padding}<{10}}| {mat[0, 1]:{padding}<{11}}|', file=logfile)\n",
    "        print(f'GT fake | {mat[1, 0]:{padding}<{10}}| {mat[1, 1]:{padding}<{11}}|', file=logfile)\n",
    "        \n",
    "    def MultipleAns(self, ans1, ans2):\n",
    "    \n",
    "        # Q1: Is this photo common in real world?\n",
    "        # Q2: Is this photo generated by a model?\n",
    "        \n",
    "        final_ans = []\n",
    "        for ans in zip(ans1, ans2):\n",
    "            if ans[0] == 0 and ans[1] == 0:\n",
    "                final_ans.append(0)\n",
    "            else:\n",
    "                final_ans.append(1)\n",
    "        \n",
    "        acc = accuracy_score(self.labels, final_ans)\n",
    "        confusion_mat = confusion_matrix(self.labels, final_ans)\n",
    "        print(f'Accuracy: {acc*100:.2f}%')\n",
    "        self.PrintConfusion(confusion_mat)\n",
    "        \n",
    "        self.ans_list = final_ans\n",
    "        self.acc = acc\n",
    "        self.confusion_mat = confusion_mat\n",
    "        \n",
    "        return acc, confusion_mat, final_ans"
   ]
  },
  {
   "cell_type": "code",
   "execution_count": null,
   "metadata": {},
   "outputs": [],
   "source": []
  },
  {
   "cell_type": "code",
   "execution_count": null,
   "metadata": {},
   "outputs": [],
   "source": [
    "# logPath = '/home/denny/LAVIS/deepfake-detection/log/log.txt'\n",
    "# logPath = '/home/denny/LAVIS/deepfake-detection/log/SD2_SD2IP_90k_lora_onlyCommon.txt'\n",
    "logPath = '/home/denny/LAVIS/deepfake-detection/log/SD2_SD2IP_90k_lora_onlyCommon2.txt'\n",
    "\n",
    "q1 = \"Is this photo real?\"\n",
    "# q1 = \"Is this photo fake?\"\n",
    "# q2 = \"Is this photo real?\"\n",
    "\n",
    "file = open(logPath, 'a')\n",
    "file.close()\n",
    "\n",
    "instruct = InstructBLIP()\n",
    "instruct.LoadModels(model, vis_processors, txt_processors, device)\n",
    "\n",
    "print(f'Log path: {logPath}')\n",
    "print(f'Q1: {q1}')\n",
    "# print(f'Q2: {q2}')\n",
    "\n",
    "csvfiles = [\n",
    "# \"/eva_data0/denny/textual_inversion/debug_label.csv\",\n",
    "# \"/eva_data0/denny/textual_inversion/60k_6k_6k/test_COCO_label.csv\",\n",
    "# \"/eva_data0/denny/textual_inversion/60k_6k_6k/test_Flickr_label.csv\",\n",
    "# \"/eva_data0/denny/textual_inversion/60k_6k_6k/test_SD2_label.csv\",\n",
    "# \"/eva_data0/denny/textual_inversion/60k_6k_6k/test_SDXL_label.csv\", \n",
    "# \"/eva_data0/denny/textual_inversion/60k_6k_6k/test_IF_label.csv\",\n",
    "# \"/eva_data0/denny/textual_inversion/60k_6k_6k/test_DALLE_label.csv\",\n",
    "# \"/eva_data0/denny/textual_inversion/60k_6k_6k/test_SGXL_label.csv\",\n",
    "# \"/eva_data0/denny/textual_inversion/60k_6k_6k/test_Control_COCO_label.csv\",\n",
    "\"/eva_data0/iammingggg/textual_inversion/60k_6k_6k/test_lama_label.csv\",\n",
    "\"/eva_data0/iammingggg/textual_inversion/60k_6k_6k/test_SD2IP_label.csv\",\n",
    "\"/eva_data0/iammingggg/textual_inversion/60k_6k_6k/test_lte_label.csv\",\n",
    "\"/eva_data0/iammingggg/textual_inversion/60k_6k_6k/test_SD2SR_label.csv\",\n",
    "\"/eva_data0/iammingggg/textual_inversion/60k_6k_6k/test_deeperforensics_faceOnly_label.csv\",\n",
    "\"/eva_data0/denny/textual_inversion/60k_6k_6k/test_AdvAtk_Imagenet_label.csv\",\n",
    "\"/eva_data0/denny/textual_inversion/60k_6k_6k/test_Backdoor_Imagenet_label.csv\",\n",
    "\"/eva_data0/denny/textual_inversion/60k_6k_6k/test_DataPoison_Imagenet_label.csv\",\n",
    "]\n",
    "\n",
    "for csv_path in csvfiles:\n",
    "instruct.LoadData_batch(csv_path=csv_path)\n",
    "print(f'Load data from {csv_path}')\n",
    "\n",
    "question = q1\n",
    "acc, confusion_mat, pretrained_ans_list, labels, label_3class = instruct.QueryImgs_batch(question=question, true_string=\"yes\", logPath=logPath)\n",
    "print(f'Question: {question}')\n",
    "print(f'Acc: {acc*100:.2f}%')\n",
    "\n",
    "# question = q2\n",
    "# acc, confusion_mat, finetuned_ans_list, labels, label_3class = instruct.QueryImgs_batch(question=question, true_string=\"yes\", logPath=logPath)\n",
    "# print(f'Question: {question}')\n",
    "# print(f'Acc: {acc*100:.2f}%')\n",
    "\n",
    "# comb_acc, comb_confusion_mat, comb_ans = print_combine_result(pretrained_ans_list, finetuned_ans_list, labels, logPath=logPath)\n",
    "# print(f'[Combination]')\n",
    "# print(f'Acc: {comb_acc*100:.2f}%')"
   ]
  },
  {
   "cell_type": "code",
   "execution_count": 5,
   "metadata": {},
   "outputs": [
    {
     "name": "stdout",
     "output_type": "stream",
     "text": [
      "tokenizer OK!\n",
      "visual encoder OK!\n",
      "Q-former OK!\n"
     ]
    },
    {
     "name": "stderr",
     "output_type": "stream",
     "text": [
      "Loading checkpoint shards: 100%|██████████| 2/2 [00:12<00:00,  6.38s/it]\n"
     ]
    },
    {
     "name": "stdout",
     "output_type": "stream",
     "text": [
      "LLM OK!\n",
      "Added 1 tokens to Qformer tokenizer.\n",
      "Added 1 tokens to llm tokenizer.\n",
      "Qformer.bert.embeddings.train_word_embeddings.weight True\n",
      "llm_model.model.train_embed_tokens.weight True\n"
     ]
    }
   ],
   "source": [
    "device = torch.device(\"cuda\" if torch.cuda.is_available() else \"cpu\")\n",
    "#device = \"cpu\"\n",
    "# model, vis_processors, txt_processors = load_model_and_preprocess(name=\"blip2_vicuna_instruct\", model_type=\"vicuna7b\", is_eval=True, device=device)\n",
    "model, vis_processors, txt_processors = load_model_and_preprocess(name=\"blip2_vicuna_instruct_textinv\", model_type=\"vicuna7b\", is_eval=True, device=device)"
   ]
  },
  {
   "cell_type": "code",
   "execution_count": 8,
   "metadata": {},
   "outputs": [
    {
     "name": "stdout",
     "output_type": "stream",
     "text": [
      "Loading model...\n"
     ]
    }
   ],
   "source": [
    "instruct = InstructBLIP()\n",
    "instruct.LoadModels(model, vis_processors, txt_processors, device)\n",
    "\n",
    "# logPath = 'log/SDXL_postfix_onlyCommon.txt'\n",
    "logPath = 'log/log.txt'\n",
    "q1 = \"Is this photo real?\"\n",
    "q2 = \"Is this photo real [*]?\""
   ]
  },
  {
   "cell_type": "code",
   "execution_count": 9,
   "metadata": {},
   "outputs": [
    {
     "name": "stderr",
     "output_type": "stream",
     "text": [
      "  0%|          | 0/750 [00:00<?, ?it/s]"
     ]
    },
    {
     "name": "stderr",
     "output_type": "stream",
     "text": [
      "  0%|          | 0/750 [00:01<?, ?it/s]\n"
     ]
    },
    {
     "data": {
      "text/html": [
       "<pre style=\"white-space:pre;overflow-x:auto;line-height:normal;font-family:Menlo,'DejaVu Sans Mono',consolas,'Courier New',monospace\"><span style=\"color: #800000; text-decoration-color: #800000\">╭─────────────────────────────── </span><span style=\"color: #800000; text-decoration-color: #800000; font-weight: bold\">Traceback </span><span style=\"color: #bf7f7f; text-decoration-color: #bf7f7f; font-weight: bold\">(most recent call last)</span><span style=\"color: #800000; text-decoration-color: #800000\"> ────────────────────────────────╮</span>\n",
       "<span style=\"color: #800000; text-decoration-color: #800000\">│</span> in <span style=\"color: #00ff00; text-decoration-color: #00ff00\">&lt;module&gt;</span>:<span style=\"color: #0000ff; text-decoration-color: #0000ff\">5</span>                                                                                    <span style=\"color: #800000; text-decoration-color: #800000\">│</span>\n",
       "<span style=\"color: #800000; text-decoration-color: #800000\">│</span>                                                                                                  <span style=\"color: #800000; text-decoration-color: #800000\">│</span>\n",
       "<span style=\"color: #800000; text-decoration-color: #800000\">│</span>   <span style=\"color: #7f7f7f; text-decoration-color: #7f7f7f\">2 </span>instruct.LoadData_batch(csv_path=csv_path)                                                   <span style=\"color: #800000; text-decoration-color: #800000\">│</span>\n",
       "<span style=\"color: #800000; text-decoration-color: #800000\">│</span>   <span style=\"color: #7f7f7f; text-decoration-color: #7f7f7f\">3 </span>                                                                                             <span style=\"color: #800000; text-decoration-color: #800000\">│</span>\n",
       "<span style=\"color: #800000; text-decoration-color: #800000\">│</span>   <span style=\"color: #7f7f7f; text-decoration-color: #7f7f7f\">4 </span>question = q1                                                                                <span style=\"color: #800000; text-decoration-color: #800000\">│</span>\n",
       "<span style=\"color: #800000; text-decoration-color: #800000\">│</span> <span style=\"color: #800000; text-decoration-color: #800000\">❱ </span>5 acc, confusion_mat, ans_list, labels, label_3class = instruct.QueryImgs_batch(question=q     <span style=\"color: #800000; text-decoration-color: #800000\">│</span>\n",
       "<span style=\"color: #800000; text-decoration-color: #800000\">│</span>   <span style=\"color: #7f7f7f; text-decoration-color: #7f7f7f\">6 </span>                                                                                             <span style=\"color: #800000; text-decoration-color: #800000\">│</span>\n",
       "<span style=\"color: #800000; text-decoration-color: #800000\">│</span>   <span style=\"color: #7f7f7f; text-decoration-color: #7f7f7f\">7 </span>question = q2                                                                                <span style=\"color: #800000; text-decoration-color: #800000\">│</span>\n",
       "<span style=\"color: #800000; text-decoration-color: #800000\">│</span>   <span style=\"color: #7f7f7f; text-decoration-color: #7f7f7f\">8 </span>acc, confusion_mat, ans_list, labels, label_3class = instruct.QueryImgs_batch(question=q     <span style=\"color: #800000; text-decoration-color: #800000\">│</span>\n",
       "<span style=\"color: #800000; text-decoration-color: #800000\">│</span>                                                                                                  <span style=\"color: #800000; text-decoration-color: #800000\">│</span>\n",
       "<span style=\"color: #800000; text-decoration-color: #800000\">│</span> in <span style=\"color: #00ff00; text-decoration-color: #00ff00\">QueryImgs_batch</span>:<span style=\"color: #0000ff; text-decoration-color: #0000ff\">119</span>                                                                           <span style=\"color: #800000; text-decoration-color: #800000\">│</span>\n",
       "<span style=\"color: #800000; text-decoration-color: #800000\">│</span>                                                                                                  <span style=\"color: #800000; text-decoration-color: #800000\">│</span>\n",
       "<span style=\"color: #800000; text-decoration-color: #800000\">│</span>   <span style=\"color: #7f7f7f; text-decoration-color: #7f7f7f\">116 </span><span style=\"color: #7f7f7f; text-decoration-color: #7f7f7f\">│   │   │   </span>samples = {<span style=\"color: #808000; text-decoration-color: #808000\">\"image\"</span>: image, <span style=\"color: #808000; text-decoration-color: #808000\">\"text_input\"</span>: questions}                            <span style=\"color: #800000; text-decoration-color: #800000\">│</span>\n",
       "<span style=\"color: #800000; text-decoration-color: #800000\">│</span>   <span style=\"color: #7f7f7f; text-decoration-color: #7f7f7f\">117 </span><span style=\"color: #7f7f7f; text-decoration-color: #7f7f7f\">│   │   │   </span>samplesForOut = {<span style=\"color: #808000; text-decoration-color: #808000\">\"image\"</span>: image, <span style=\"color: #808000; text-decoration-color: #808000\">\"text_input\"</span>: questions, <span style=\"color: #808000; text-decoration-color: #808000\">\"text_output\"</span>: lab   <span style=\"color: #800000; text-decoration-color: #800000\">│</span>\n",
       "<span style=\"color: #800000; text-decoration-color: #800000\">│</span>   <span style=\"color: #7f7f7f; text-decoration-color: #7f7f7f\">118 </span><span style=\"color: #7f7f7f; text-decoration-color: #7f7f7f\">│   │   │   </span>                                                                               <span style=\"color: #800000; text-decoration-color: #800000\">│</span>\n",
       "<span style=\"color: #800000; text-decoration-color: #800000\">│</span> <span style=\"color: #800000; text-decoration-color: #800000\">❱ </span>119 <span style=\"color: #7f7f7f; text-decoration-color: #7f7f7f\">│   │   │   </span>out = <span style=\"color: #00ffff; text-decoration-color: #00ffff\">self</span>.model(samplesForOut) <span style=\"color: #7f7f7f; text-decoration-color: #7f7f7f\"># for debug</span>                                    <span style=\"color: #800000; text-decoration-color: #800000\">│</span>\n",
       "<span style=\"color: #800000; text-decoration-color: #800000\">│</span>   <span style=\"color: #7f7f7f; text-decoration-color: #7f7f7f\">120 </span><span style=\"color: #7f7f7f; text-decoration-color: #7f7f7f\">│   │   │   </span>ans = <span style=\"color: #00ffff; text-decoration-color: #00ffff\">self</span>.model.predict_answers(samples=samples, inference_method=<span style=\"color: #808000; text-decoration-color: #808000\">\"generate</span>   <span style=\"color: #800000; text-decoration-color: #800000\">│</span>\n",
       "<span style=\"color: #800000; text-decoration-color: #800000\">│</span>   <span style=\"color: #7f7f7f; text-decoration-color: #7f7f7f\">121 </span><span style=\"color: #7f7f7f; text-decoration-color: #7f7f7f\">│   │   │   </span>pred_label = [<span style=\"color: #0000ff; text-decoration-color: #0000ff\">0</span> <span style=\"color: #0000ff; text-decoration-color: #0000ff\">if</span> a == true_string <span style=\"color: #0000ff; text-decoration-color: #0000ff\">else</span> <span style=\"color: #0000ff; text-decoration-color: #0000ff\">1</span> <span style=\"color: #0000ff; text-decoration-color: #0000ff\">for</span> a <span style=\"color: #ff00ff; text-decoration-color: #ff00ff\">in</span> ans]                       <span style=\"color: #800000; text-decoration-color: #800000\">│</span>\n",
       "<span style=\"color: #800000; text-decoration-color: #800000\">│</span>   <span style=\"color: #7f7f7f; text-decoration-color: #7f7f7f\">122 </span><span style=\"color: #7f7f7f; text-decoration-color: #7f7f7f\">│   │   │   </span><span style=\"color: #00ffff; text-decoration-color: #00ffff\">self</span>.ans_list += pred_label                                                    <span style=\"color: #800000; text-decoration-color: #800000\">│</span>\n",
       "<span style=\"color: #800000; text-decoration-color: #800000\">│</span>                                                                                                  <span style=\"color: #800000; text-decoration-color: #800000\">│</span>\n",
       "<span style=\"color: #800000; text-decoration-color: #800000\">│</span> <span style=\"color: #bfbf7f; text-decoration-color: #bfbf7f\">/home/denny/anaconda3/envs/instblip/lib/python3.9/site-packages/torch/nn/modules/</span><span style=\"color: #808000; text-decoration-color: #808000; font-weight: bold\">module.py</span>:<span style=\"color: #0000ff; text-decoration-color: #0000ff\">1501</span>  <span style=\"color: #800000; text-decoration-color: #800000\">│</span>\n",
       "<span style=\"color: #800000; text-decoration-color: #800000\">│</span> in <span style=\"color: #00ff00; text-decoration-color: #00ff00\">_call_impl</span>                                                                                    <span style=\"color: #800000; text-decoration-color: #800000\">│</span>\n",
       "<span style=\"color: #800000; text-decoration-color: #800000\">│</span>                                                                                                  <span style=\"color: #800000; text-decoration-color: #800000\">│</span>\n",
       "<span style=\"color: #800000; text-decoration-color: #800000\">│</span>   <span style=\"color: #7f7f7f; text-decoration-color: #7f7f7f\">1498 </span><span style=\"color: #7f7f7f; text-decoration-color: #7f7f7f\">│   │   </span><span style=\"color: #0000ff; text-decoration-color: #0000ff\">if</span> <span style=\"color: #ff00ff; text-decoration-color: #ff00ff\">not</span> (<span style=\"color: #00ffff; text-decoration-color: #00ffff\">self</span>._backward_hooks <span style=\"color: #ff00ff; text-decoration-color: #ff00ff\">or</span> <span style=\"color: #00ffff; text-decoration-color: #00ffff\">self</span>._backward_pre_hooks <span style=\"color: #ff00ff; text-decoration-color: #ff00ff\">or</span> <span style=\"color: #00ffff; text-decoration-color: #00ffff\">self</span>._forward_hooks   <span style=\"color: #800000; text-decoration-color: #800000\">│</span>\n",
       "<span style=\"color: #800000; text-decoration-color: #800000\">│</span>   <span style=\"color: #7f7f7f; text-decoration-color: #7f7f7f\">1499 </span><span style=\"color: #7f7f7f; text-decoration-color: #7f7f7f\">│   │   │   │   </span><span style=\"color: #ff00ff; text-decoration-color: #ff00ff\">or</span> _global_backward_pre_hooks <span style=\"color: #ff00ff; text-decoration-color: #ff00ff\">or</span> _global_backward_hooks                   <span style=\"color: #800000; text-decoration-color: #800000\">│</span>\n",
       "<span style=\"color: #800000; text-decoration-color: #800000\">│</span>   <span style=\"color: #7f7f7f; text-decoration-color: #7f7f7f\">1500 </span><span style=\"color: #7f7f7f; text-decoration-color: #7f7f7f\">│   │   │   │   </span><span style=\"color: #ff00ff; text-decoration-color: #ff00ff\">or</span> _global_forward_hooks <span style=\"color: #ff00ff; text-decoration-color: #ff00ff\">or</span> _global_forward_pre_hooks):                   <span style=\"color: #800000; text-decoration-color: #800000\">│</span>\n",
       "<span style=\"color: #800000; text-decoration-color: #800000\">│</span> <span style=\"color: #800000; text-decoration-color: #800000\">❱ </span>1501 <span style=\"color: #7f7f7f; text-decoration-color: #7f7f7f\">│   │   │   </span><span style=\"color: #0000ff; text-decoration-color: #0000ff\">return</span> forward_call(*args, **kwargs)                                          <span style=\"color: #800000; text-decoration-color: #800000\">│</span>\n",
       "<span style=\"color: #800000; text-decoration-color: #800000\">│</span>   <span style=\"color: #7f7f7f; text-decoration-color: #7f7f7f\">1502 </span><span style=\"color: #7f7f7f; text-decoration-color: #7f7f7f\">│   │   </span><span style=\"color: #7f7f7f; text-decoration-color: #7f7f7f\"># Do not call functions when jit is used</span>                                          <span style=\"color: #800000; text-decoration-color: #800000\">│</span>\n",
       "<span style=\"color: #800000; text-decoration-color: #800000\">│</span>   <span style=\"color: #7f7f7f; text-decoration-color: #7f7f7f\">1503 </span><span style=\"color: #7f7f7f; text-decoration-color: #7f7f7f\">│   │   </span>full_backward_hooks, non_full_backward_hooks = [], []                             <span style=\"color: #800000; text-decoration-color: #800000\">│</span>\n",
       "<span style=\"color: #800000; text-decoration-color: #800000\">│</span>   <span style=\"color: #7f7f7f; text-decoration-color: #7f7f7f\">1504 </span><span style=\"color: #7f7f7f; text-decoration-color: #7f7f7f\">│   │   </span>backward_pre_hooks = []                                                           <span style=\"color: #800000; text-decoration-color: #800000\">│</span>\n",
       "<span style=\"color: #800000; text-decoration-color: #800000\">│</span>                                                                                                  <span style=\"color: #800000; text-decoration-color: #800000\">│</span>\n",
       "<span style=\"color: #800000; text-decoration-color: #800000\">│</span> <span style=\"color: #bfbf7f; text-decoration-color: #bfbf7f\">/home/denny/LAVIS/lavis/models/blip2_models/</span><span style=\"color: #808000; text-decoration-color: #808000; font-weight: bold\">blip2_vicuna_instruct_textinv.py</span>:<span style=\"color: #0000ff; text-decoration-color: #0000ff\">252</span> in <span style=\"color: #00ff00; text-decoration-color: #00ff00\">forward</span>      <span style=\"color: #800000; text-decoration-color: #800000\">│</span>\n",
       "<span style=\"color: #800000; text-decoration-color: #800000\">│</span>                                                                                                  <span style=\"color: #800000; text-decoration-color: #800000\">│</span>\n",
       "<span style=\"color: #800000; text-decoration-color: #800000\">│</span>   <span style=\"color: #7f7f7f; text-decoration-color: #7f7f7f\">249 </span><span style=\"color: #7f7f7f; text-decoration-color: #7f7f7f\">│   │   </span>                                                                                   <span style=\"color: #800000; text-decoration-color: #800000\">│</span>\n",
       "<span style=\"color: #800000; text-decoration-color: #800000\">│</span>   <span style=\"color: #7f7f7f; text-decoration-color: #7f7f7f\">250 </span><span style=\"color: #7f7f7f; text-decoration-color: #7f7f7f\">│   │   </span>image = samples[<span style=\"color: #808000; text-decoration-color: #808000\">\"image\"</span>]                                                           <span style=\"color: #800000; text-decoration-color: #800000\">│</span>\n",
       "<span style=\"color: #800000; text-decoration-color: #800000\">│</span>   <span style=\"color: #7f7f7f; text-decoration-color: #7f7f7f\">251 </span><span style=\"color: #7f7f7f; text-decoration-color: #7f7f7f\">│   │   </span><span style=\"color: #0000ff; text-decoration-color: #0000ff\">with</span> <span style=\"color: #00ffff; text-decoration-color: #00ffff\">self</span>.maybe_autocast():                                                        <span style=\"color: #800000; text-decoration-color: #800000\">│</span>\n",
       "<span style=\"color: #800000; text-decoration-color: #800000\">│</span> <span style=\"color: #800000; text-decoration-color: #800000\">❱ </span>252 <span style=\"color: #7f7f7f; text-decoration-color: #7f7f7f\">│   │   │   </span>image_embeds = <span style=\"color: #00ffff; text-decoration-color: #00ffff\">self</span>.ln_vision(<span style=\"color: #00ffff; text-decoration-color: #00ffff\">self</span>.visual_encoder(image))                      <span style=\"color: #800000; text-decoration-color: #800000\">│</span>\n",
       "<span style=\"color: #800000; text-decoration-color: #800000\">│</span>   <span style=\"color: #7f7f7f; text-decoration-color: #7f7f7f\">253 </span><span style=\"color: #7f7f7f; text-decoration-color: #7f7f7f\">│   │   </span>image_atts = torch.ones(image_embeds.size()[:-<span style=\"color: #0000ff; text-decoration-color: #0000ff\">1</span>], dtype=torch.long).to(image.dev   <span style=\"color: #800000; text-decoration-color: #800000\">│</span>\n",
       "<span style=\"color: #800000; text-decoration-color: #800000\">│</span>   <span style=\"color: #7f7f7f; text-decoration-color: #7f7f7f\">254 </span><span style=\"color: #7f7f7f; text-decoration-color: #7f7f7f\">│   │   </span>                                                                                   <span style=\"color: #800000; text-decoration-color: #800000\">│</span>\n",
       "<span style=\"color: #800000; text-decoration-color: #800000\">│</span>   <span style=\"color: #7f7f7f; text-decoration-color: #7f7f7f\">255 </span><span style=\"color: #7f7f7f; text-decoration-color: #7f7f7f\">│   │   </span>bs = image.size(<span style=\"color: #0000ff; text-decoration-color: #0000ff\">0</span>)                                                                 <span style=\"color: #800000; text-decoration-color: #800000\">│</span>\n",
       "<span style=\"color: #800000; text-decoration-color: #800000\">│</span>                                                                                                  <span style=\"color: #800000; text-decoration-color: #800000\">│</span>\n",
       "<span style=\"color: #800000; text-decoration-color: #800000\">│</span> <span style=\"color: #bfbf7f; text-decoration-color: #bfbf7f\">/home/denny/anaconda3/envs/instblip/lib/python3.9/site-packages/torch/nn/modules/</span><span style=\"color: #808000; text-decoration-color: #808000; font-weight: bold\">module.py</span>:<span style=\"color: #0000ff; text-decoration-color: #0000ff\">1501</span>  <span style=\"color: #800000; text-decoration-color: #800000\">│</span>\n",
       "<span style=\"color: #800000; text-decoration-color: #800000\">│</span> in <span style=\"color: #00ff00; text-decoration-color: #00ff00\">_call_impl</span>                                                                                    <span style=\"color: #800000; text-decoration-color: #800000\">│</span>\n",
       "<span style=\"color: #800000; text-decoration-color: #800000\">│</span>                                                                                                  <span style=\"color: #800000; text-decoration-color: #800000\">│</span>\n",
       "<span style=\"color: #800000; text-decoration-color: #800000\">│</span>   <span style=\"color: #7f7f7f; text-decoration-color: #7f7f7f\">1498 </span><span style=\"color: #7f7f7f; text-decoration-color: #7f7f7f\">│   │   </span><span style=\"color: #0000ff; text-decoration-color: #0000ff\">if</span> <span style=\"color: #ff00ff; text-decoration-color: #ff00ff\">not</span> (<span style=\"color: #00ffff; text-decoration-color: #00ffff\">self</span>._backward_hooks <span style=\"color: #ff00ff; text-decoration-color: #ff00ff\">or</span> <span style=\"color: #00ffff; text-decoration-color: #00ffff\">self</span>._backward_pre_hooks <span style=\"color: #ff00ff; text-decoration-color: #ff00ff\">or</span> <span style=\"color: #00ffff; text-decoration-color: #00ffff\">self</span>._forward_hooks   <span style=\"color: #800000; text-decoration-color: #800000\">│</span>\n",
       "<span style=\"color: #800000; text-decoration-color: #800000\">│</span>   <span style=\"color: #7f7f7f; text-decoration-color: #7f7f7f\">1499 </span><span style=\"color: #7f7f7f; text-decoration-color: #7f7f7f\">│   │   │   │   </span><span style=\"color: #ff00ff; text-decoration-color: #ff00ff\">or</span> _global_backward_pre_hooks <span style=\"color: #ff00ff; text-decoration-color: #ff00ff\">or</span> _global_backward_hooks                   <span style=\"color: #800000; text-decoration-color: #800000\">│</span>\n",
       "<span style=\"color: #800000; text-decoration-color: #800000\">│</span>   <span style=\"color: #7f7f7f; text-decoration-color: #7f7f7f\">1500 </span><span style=\"color: #7f7f7f; text-decoration-color: #7f7f7f\">│   │   │   │   </span><span style=\"color: #ff00ff; text-decoration-color: #ff00ff\">or</span> _global_forward_hooks <span style=\"color: #ff00ff; text-decoration-color: #ff00ff\">or</span> _global_forward_pre_hooks):                   <span style=\"color: #800000; text-decoration-color: #800000\">│</span>\n",
       "<span style=\"color: #800000; text-decoration-color: #800000\">│</span> <span style=\"color: #800000; text-decoration-color: #800000\">❱ </span>1501 <span style=\"color: #7f7f7f; text-decoration-color: #7f7f7f\">│   │   │   </span><span style=\"color: #0000ff; text-decoration-color: #0000ff\">return</span> forward_call(*args, **kwargs)                                          <span style=\"color: #800000; text-decoration-color: #800000\">│</span>\n",
       "<span style=\"color: #800000; text-decoration-color: #800000\">│</span>   <span style=\"color: #7f7f7f; text-decoration-color: #7f7f7f\">1502 </span><span style=\"color: #7f7f7f; text-decoration-color: #7f7f7f\">│   │   </span><span style=\"color: #7f7f7f; text-decoration-color: #7f7f7f\"># Do not call functions when jit is used</span>                                          <span style=\"color: #800000; text-decoration-color: #800000\">│</span>\n",
       "<span style=\"color: #800000; text-decoration-color: #800000\">│</span>   <span style=\"color: #7f7f7f; text-decoration-color: #7f7f7f\">1503 </span><span style=\"color: #7f7f7f; text-decoration-color: #7f7f7f\">│   │   </span>full_backward_hooks, non_full_backward_hooks = [], []                             <span style=\"color: #800000; text-decoration-color: #800000\">│</span>\n",
       "<span style=\"color: #800000; text-decoration-color: #800000\">│</span>   <span style=\"color: #7f7f7f; text-decoration-color: #7f7f7f\">1504 </span><span style=\"color: #7f7f7f; text-decoration-color: #7f7f7f\">│   │   </span>backward_pre_hooks = []                                                           <span style=\"color: #800000; text-decoration-color: #800000\">│</span>\n",
       "<span style=\"color: #800000; text-decoration-color: #800000\">│</span>                                                                                                  <span style=\"color: #800000; text-decoration-color: #800000\">│</span>\n",
       "<span style=\"color: #800000; text-decoration-color: #800000\">│</span> <span style=\"color: #bfbf7f; text-decoration-color: #bfbf7f\">/home/denny/LAVIS/lavis/models/</span><span style=\"color: #808000; text-decoration-color: #808000; font-weight: bold\">eva_vit.py</span>:<span style=\"color: #0000ff; text-decoration-color: #0000ff\">350</span> in <span style=\"color: #00ff00; text-decoration-color: #00ff00\">forward</span>                                         <span style=\"color: #800000; text-decoration-color: #800000\">│</span>\n",
       "<span style=\"color: #800000; text-decoration-color: #800000\">│</span>                                                                                                  <span style=\"color: #800000; text-decoration-color: #800000\">│</span>\n",
       "<span style=\"color: #800000; text-decoration-color: #800000\">│</span>   <span style=\"color: #7f7f7f; text-decoration-color: #7f7f7f\">347 #             return x[:, 0]</span>                                                               <span style=\"color: #800000; text-decoration-color: #800000\">│</span>\n",
       "<span style=\"color: #800000; text-decoration-color: #800000\">│</span>   <span style=\"color: #7f7f7f; text-decoration-color: #7f7f7f\">348 </span><span style=\"color: #7f7f7f; text-decoration-color: #7f7f7f\">│   </span>                                                                                       <span style=\"color: #800000; text-decoration-color: #800000\">│</span>\n",
       "<span style=\"color: #800000; text-decoration-color: #800000\">│</span>   <span style=\"color: #7f7f7f; text-decoration-color: #7f7f7f\">349 </span><span style=\"color: #7f7f7f; text-decoration-color: #7f7f7f\">│   </span><span style=\"color: #0000ff; text-decoration-color: #0000ff\">def</span> <span style=\"color: #00ff00; text-decoration-color: #00ff00\">forward</span>(<span style=\"color: #00ffff; text-decoration-color: #00ffff\">self</span>, x):                                                                  <span style=\"color: #800000; text-decoration-color: #800000\">│</span>\n",
       "<span style=\"color: #800000; text-decoration-color: #800000\">│</span> <span style=\"color: #800000; text-decoration-color: #800000\">❱ </span>350 <span style=\"color: #7f7f7f; text-decoration-color: #7f7f7f\">│   │   </span>x = <span style=\"color: #00ffff; text-decoration-color: #00ffff\">self</span>.forward_features(x)                                                       <span style=\"color: #800000; text-decoration-color: #800000\">│</span>\n",
       "<span style=\"color: #800000; text-decoration-color: #800000\">│</span>   <span style=\"color: #7f7f7f; text-decoration-color: #7f7f7f\">351 #         x = self.head(x)</span>                                                                 <span style=\"color: #800000; text-decoration-color: #800000\">│</span>\n",
       "<span style=\"color: #800000; text-decoration-color: #800000\">│</span>   <span style=\"color: #7f7f7f; text-decoration-color: #7f7f7f\">352 </span><span style=\"color: #7f7f7f; text-decoration-color: #7f7f7f\">│   │   </span><span style=\"color: #0000ff; text-decoration-color: #0000ff\">return</span> x                                                                           <span style=\"color: #800000; text-decoration-color: #800000\">│</span>\n",
       "<span style=\"color: #800000; text-decoration-color: #800000\">│</span>   <span style=\"color: #7f7f7f; text-decoration-color: #7f7f7f\">353 </span>                                                                                           <span style=\"color: #800000; text-decoration-color: #800000\">│</span>\n",
       "<span style=\"color: #800000; text-decoration-color: #800000\">│</span>                                                                                                  <span style=\"color: #800000; text-decoration-color: #800000\">│</span>\n",
       "<span style=\"color: #800000; text-decoration-color: #800000\">│</span> <span style=\"color: #bfbf7f; text-decoration-color: #bfbf7f\">/home/denny/LAVIS/lavis/models/</span><span style=\"color: #808000; text-decoration-color: #808000; font-weight: bold\">eva_vit.py</span>:<span style=\"color: #0000ff; text-decoration-color: #0000ff\">339</span> in <span style=\"color: #00ff00; text-decoration-color: #00ff00\">forward_features</span>                                <span style=\"color: #800000; text-decoration-color: #800000\">│</span>\n",
       "<span style=\"color: #800000; text-decoration-color: #800000\">│</span>                                                                                                  <span style=\"color: #800000; text-decoration-color: #800000\">│</span>\n",
       "<span style=\"color: #800000; text-decoration-color: #800000\">│</span>   <span style=\"color: #7f7f7f; text-decoration-color: #7f7f7f\">336 </span><span style=\"color: #7f7f7f; text-decoration-color: #7f7f7f\">│   │   │   </span><span style=\"color: #0000ff; text-decoration-color: #0000ff\">if</span> <span style=\"color: #00ffff; text-decoration-color: #00ffff\">self</span>.use_checkpoint:                                                        <span style=\"color: #800000; text-decoration-color: #800000\">│</span>\n",
       "<span style=\"color: #800000; text-decoration-color: #800000\">│</span>   <span style=\"color: #7f7f7f; text-decoration-color: #7f7f7f\">337 </span><span style=\"color: #7f7f7f; text-decoration-color: #7f7f7f\">│   │   │   │   </span>x = checkpoint.checkpoint(blk, x, rel_pos_bias)                            <span style=\"color: #800000; text-decoration-color: #800000\">│</span>\n",
       "<span style=\"color: #800000; text-decoration-color: #800000\">│</span>   <span style=\"color: #7f7f7f; text-decoration-color: #7f7f7f\">338 </span><span style=\"color: #7f7f7f; text-decoration-color: #7f7f7f\">│   │   │   </span><span style=\"color: #0000ff; text-decoration-color: #0000ff\">else</span>:                                                                          <span style=\"color: #800000; text-decoration-color: #800000\">│</span>\n",
       "<span style=\"color: #800000; text-decoration-color: #800000\">│</span> <span style=\"color: #800000; text-decoration-color: #800000\">❱ </span>339 <span style=\"color: #7f7f7f; text-decoration-color: #7f7f7f\">│   │   │   │   </span>x = blk(x, rel_pos_bias)                                                   <span style=\"color: #800000; text-decoration-color: #800000\">│</span>\n",
       "<span style=\"color: #800000; text-decoration-color: #800000\">│</span>   <span style=\"color: #7f7f7f; text-decoration-color: #7f7f7f\">340 </span><span style=\"color: #7f7f7f; text-decoration-color: #7f7f7f\">│   │   </span><span style=\"color: #0000ff; text-decoration-color: #0000ff\">return</span> x                                                                           <span style=\"color: #800000; text-decoration-color: #800000\">│</span>\n",
       "<span style=\"color: #800000; text-decoration-color: #800000\">│</span>   <span style=\"color: #7f7f7f; text-decoration-color: #7f7f7f\">341 #         x = self.norm(x)</span>                                                                 <span style=\"color: #800000; text-decoration-color: #800000\">│</span>\n",
       "<span style=\"color: #800000; text-decoration-color: #800000\">│</span>   <span style=\"color: #7f7f7f; text-decoration-color: #7f7f7f\">342 </span>                                                                                           <span style=\"color: #800000; text-decoration-color: #800000\">│</span>\n",
       "<span style=\"color: #800000; text-decoration-color: #800000\">│</span>                                                                                                  <span style=\"color: #800000; text-decoration-color: #800000\">│</span>\n",
       "<span style=\"color: #800000; text-decoration-color: #800000\">│</span> <span style=\"color: #bfbf7f; text-decoration-color: #bfbf7f\">/home/denny/anaconda3/envs/instblip/lib/python3.9/site-packages/torch/nn/modules/</span><span style=\"color: #808000; text-decoration-color: #808000; font-weight: bold\">module.py</span>:<span style=\"color: #0000ff; text-decoration-color: #0000ff\">1501</span>  <span style=\"color: #800000; text-decoration-color: #800000\">│</span>\n",
       "<span style=\"color: #800000; text-decoration-color: #800000\">│</span> in <span style=\"color: #00ff00; text-decoration-color: #00ff00\">_call_impl</span>                                                                                    <span style=\"color: #800000; text-decoration-color: #800000\">│</span>\n",
       "<span style=\"color: #800000; text-decoration-color: #800000\">│</span>                                                                                                  <span style=\"color: #800000; text-decoration-color: #800000\">│</span>\n",
       "<span style=\"color: #800000; text-decoration-color: #800000\">│</span>   <span style=\"color: #7f7f7f; text-decoration-color: #7f7f7f\">1498 </span><span style=\"color: #7f7f7f; text-decoration-color: #7f7f7f\">│   │   </span><span style=\"color: #0000ff; text-decoration-color: #0000ff\">if</span> <span style=\"color: #ff00ff; text-decoration-color: #ff00ff\">not</span> (<span style=\"color: #00ffff; text-decoration-color: #00ffff\">self</span>._backward_hooks <span style=\"color: #ff00ff; text-decoration-color: #ff00ff\">or</span> <span style=\"color: #00ffff; text-decoration-color: #00ffff\">self</span>._backward_pre_hooks <span style=\"color: #ff00ff; text-decoration-color: #ff00ff\">or</span> <span style=\"color: #00ffff; text-decoration-color: #00ffff\">self</span>._forward_hooks   <span style=\"color: #800000; text-decoration-color: #800000\">│</span>\n",
       "<span style=\"color: #800000; text-decoration-color: #800000\">│</span>   <span style=\"color: #7f7f7f; text-decoration-color: #7f7f7f\">1499 </span><span style=\"color: #7f7f7f; text-decoration-color: #7f7f7f\">│   │   │   │   </span><span style=\"color: #ff00ff; text-decoration-color: #ff00ff\">or</span> _global_backward_pre_hooks <span style=\"color: #ff00ff; text-decoration-color: #ff00ff\">or</span> _global_backward_hooks                   <span style=\"color: #800000; text-decoration-color: #800000\">│</span>\n",
       "<span style=\"color: #800000; text-decoration-color: #800000\">│</span>   <span style=\"color: #7f7f7f; text-decoration-color: #7f7f7f\">1500 </span><span style=\"color: #7f7f7f; text-decoration-color: #7f7f7f\">│   │   │   │   </span><span style=\"color: #ff00ff; text-decoration-color: #ff00ff\">or</span> _global_forward_hooks <span style=\"color: #ff00ff; text-decoration-color: #ff00ff\">or</span> _global_forward_pre_hooks):                   <span style=\"color: #800000; text-decoration-color: #800000\">│</span>\n",
       "<span style=\"color: #800000; text-decoration-color: #800000\">│</span> <span style=\"color: #800000; text-decoration-color: #800000\">❱ </span>1501 <span style=\"color: #7f7f7f; text-decoration-color: #7f7f7f\">│   │   │   </span><span style=\"color: #0000ff; text-decoration-color: #0000ff\">return</span> forward_call(*args, **kwargs)                                          <span style=\"color: #800000; text-decoration-color: #800000\">│</span>\n",
       "<span style=\"color: #800000; text-decoration-color: #800000\">│</span>   <span style=\"color: #7f7f7f; text-decoration-color: #7f7f7f\">1502 </span><span style=\"color: #7f7f7f; text-decoration-color: #7f7f7f\">│   │   </span><span style=\"color: #7f7f7f; text-decoration-color: #7f7f7f\"># Do not call functions when jit is used</span>                                          <span style=\"color: #800000; text-decoration-color: #800000\">│</span>\n",
       "<span style=\"color: #800000; text-decoration-color: #800000\">│</span>   <span style=\"color: #7f7f7f; text-decoration-color: #7f7f7f\">1503 </span><span style=\"color: #7f7f7f; text-decoration-color: #7f7f7f\">│   │   </span>full_backward_hooks, non_full_backward_hooks = [], []                             <span style=\"color: #800000; text-decoration-color: #800000\">│</span>\n",
       "<span style=\"color: #800000; text-decoration-color: #800000\">│</span>   <span style=\"color: #7f7f7f; text-decoration-color: #7f7f7f\">1504 </span><span style=\"color: #7f7f7f; text-decoration-color: #7f7f7f\">│   │   </span>backward_pre_hooks = []                                                           <span style=\"color: #800000; text-decoration-color: #800000\">│</span>\n",
       "<span style=\"color: #800000; text-decoration-color: #800000\">│</span>                                                                                                  <span style=\"color: #800000; text-decoration-color: #800000\">│</span>\n",
       "<span style=\"color: #800000; text-decoration-color: #800000\">│</span> <span style=\"color: #bfbf7f; text-decoration-color: #bfbf7f\">/home/denny/LAVIS/lavis/models/</span><span style=\"color: #808000; text-decoration-color: #808000; font-weight: bold\">eva_vit.py</span>:<span style=\"color: #0000ff; text-decoration-color: #0000ff\">175</span> in <span style=\"color: #00ff00; text-decoration-color: #00ff00\">forward</span>                                         <span style=\"color: #800000; text-decoration-color: #800000\">│</span>\n",
       "<span style=\"color: #800000; text-decoration-color: #800000\">│</span>                                                                                                  <span style=\"color: #800000; text-decoration-color: #800000\">│</span>\n",
       "<span style=\"color: #800000; text-decoration-color: #800000\">│</span>   <span style=\"color: #7f7f7f; text-decoration-color: #7f7f7f\">172 </span><span style=\"color: #7f7f7f; text-decoration-color: #7f7f7f\">│   </span>                                                                                       <span style=\"color: #800000; text-decoration-color: #800000\">│</span>\n",
       "<span style=\"color: #800000; text-decoration-color: #800000\">│</span>   <span style=\"color: #7f7f7f; text-decoration-color: #7f7f7f\">173 </span><span style=\"color: #7f7f7f; text-decoration-color: #7f7f7f\">│   </span><span style=\"color: #0000ff; text-decoration-color: #0000ff\">def</span> <span style=\"color: #00ff00; text-decoration-color: #00ff00\">forward</span>(<span style=\"color: #00ffff; text-decoration-color: #00ffff\">self</span>, x, rel_pos_bias=<span style=\"color: #0000ff; text-decoration-color: #0000ff\">None</span>):                                               <span style=\"color: #800000; text-decoration-color: #800000\">│</span>\n",
       "<span style=\"color: #800000; text-decoration-color: #800000\">│</span>   <span style=\"color: #7f7f7f; text-decoration-color: #7f7f7f\">174 </span><span style=\"color: #7f7f7f; text-decoration-color: #7f7f7f\">│   │   </span><span style=\"color: #0000ff; text-decoration-color: #0000ff\">if</span> <span style=\"color: #00ffff; text-decoration-color: #00ffff\">self</span>.gamma_1 <span style=\"color: #ff00ff; text-decoration-color: #ff00ff\">is</span> <span style=\"color: #0000ff; text-decoration-color: #0000ff\">None</span>:                                                           <span style=\"color: #800000; text-decoration-color: #800000\">│</span>\n",
       "<span style=\"color: #800000; text-decoration-color: #800000\">│</span> <span style=\"color: #800000; text-decoration-color: #800000\">❱ </span>175 <span style=\"color: #7f7f7f; text-decoration-color: #7f7f7f\">│   │   │   </span>x = x + <span style=\"color: #00ffff; text-decoration-color: #00ffff\">self</span>.drop_path(<span style=\"color: #00ffff; text-decoration-color: #00ffff\">self</span>.attn(<span style=\"color: #00ffff; text-decoration-color: #00ffff\">self</span>.norm1(x), rel_pos_bias=rel_pos_bias))    <span style=\"color: #800000; text-decoration-color: #800000\">│</span>\n",
       "<span style=\"color: #800000; text-decoration-color: #800000\">│</span>   <span style=\"color: #7f7f7f; text-decoration-color: #7f7f7f\">176 </span><span style=\"color: #7f7f7f; text-decoration-color: #7f7f7f\">│   │   │   </span>x = x + <span style=\"color: #00ffff; text-decoration-color: #00ffff\">self</span>.drop_path(<span style=\"color: #00ffff; text-decoration-color: #00ffff\">self</span>.mlp(<span style=\"color: #00ffff; text-decoration-color: #00ffff\">self</span>.norm2(x)))                                <span style=\"color: #800000; text-decoration-color: #800000\">│</span>\n",
       "<span style=\"color: #800000; text-decoration-color: #800000\">│</span>   <span style=\"color: #7f7f7f; text-decoration-color: #7f7f7f\">177 </span><span style=\"color: #7f7f7f; text-decoration-color: #7f7f7f\">│   │   </span><span style=\"color: #0000ff; text-decoration-color: #0000ff\">else</span>:                                                                              <span style=\"color: #800000; text-decoration-color: #800000\">│</span>\n",
       "<span style=\"color: #800000; text-decoration-color: #800000\">│</span>   <span style=\"color: #7f7f7f; text-decoration-color: #7f7f7f\">178 </span><span style=\"color: #7f7f7f; text-decoration-color: #7f7f7f\">│   │   │   </span>x = x + <span style=\"color: #00ffff; text-decoration-color: #00ffff\">self</span>.drop_path(<span style=\"color: #00ffff; text-decoration-color: #00ffff\">self</span>.gamma_1 * <span style=\"color: #00ffff; text-decoration-color: #00ffff\">self</span>.attn(<span style=\"color: #00ffff; text-decoration-color: #00ffff\">self</span>.norm1(x), rel_pos_bias=   <span style=\"color: #800000; text-decoration-color: #800000\">│</span>\n",
       "<span style=\"color: #800000; text-decoration-color: #800000\">│</span>                                                                                                  <span style=\"color: #800000; text-decoration-color: #800000\">│</span>\n",
       "<span style=\"color: #800000; text-decoration-color: #800000\">│</span> <span style=\"color: #bfbf7f; text-decoration-color: #bfbf7f\">/home/denny/anaconda3/envs/instblip/lib/python3.9/site-packages/torch/nn/modules/</span><span style=\"color: #808000; text-decoration-color: #808000; font-weight: bold\">module.py</span>:<span style=\"color: #0000ff; text-decoration-color: #0000ff\">1501</span>  <span style=\"color: #800000; text-decoration-color: #800000\">│</span>\n",
       "<span style=\"color: #800000; text-decoration-color: #800000\">│</span> in <span style=\"color: #00ff00; text-decoration-color: #00ff00\">_call_impl</span>                                                                                    <span style=\"color: #800000; text-decoration-color: #800000\">│</span>\n",
       "<span style=\"color: #800000; text-decoration-color: #800000\">│</span>                                                                                                  <span style=\"color: #800000; text-decoration-color: #800000\">│</span>\n",
       "<span style=\"color: #800000; text-decoration-color: #800000\">│</span>   <span style=\"color: #7f7f7f; text-decoration-color: #7f7f7f\">1498 </span><span style=\"color: #7f7f7f; text-decoration-color: #7f7f7f\">│   │   </span><span style=\"color: #0000ff; text-decoration-color: #0000ff\">if</span> <span style=\"color: #ff00ff; text-decoration-color: #ff00ff\">not</span> (<span style=\"color: #00ffff; text-decoration-color: #00ffff\">self</span>._backward_hooks <span style=\"color: #ff00ff; text-decoration-color: #ff00ff\">or</span> <span style=\"color: #00ffff; text-decoration-color: #00ffff\">self</span>._backward_pre_hooks <span style=\"color: #ff00ff; text-decoration-color: #ff00ff\">or</span> <span style=\"color: #00ffff; text-decoration-color: #00ffff\">self</span>._forward_hooks   <span style=\"color: #800000; text-decoration-color: #800000\">│</span>\n",
       "<span style=\"color: #800000; text-decoration-color: #800000\">│</span>   <span style=\"color: #7f7f7f; text-decoration-color: #7f7f7f\">1499 </span><span style=\"color: #7f7f7f; text-decoration-color: #7f7f7f\">│   │   │   │   </span><span style=\"color: #ff00ff; text-decoration-color: #ff00ff\">or</span> _global_backward_pre_hooks <span style=\"color: #ff00ff; text-decoration-color: #ff00ff\">or</span> _global_backward_hooks                   <span style=\"color: #800000; text-decoration-color: #800000\">│</span>\n",
       "<span style=\"color: #800000; text-decoration-color: #800000\">│</span>   <span style=\"color: #7f7f7f; text-decoration-color: #7f7f7f\">1500 </span><span style=\"color: #7f7f7f; text-decoration-color: #7f7f7f\">│   │   │   │   </span><span style=\"color: #ff00ff; text-decoration-color: #ff00ff\">or</span> _global_forward_hooks <span style=\"color: #ff00ff; text-decoration-color: #ff00ff\">or</span> _global_forward_pre_hooks):                   <span style=\"color: #800000; text-decoration-color: #800000\">│</span>\n",
       "<span style=\"color: #800000; text-decoration-color: #800000\">│</span> <span style=\"color: #800000; text-decoration-color: #800000\">❱ </span>1501 <span style=\"color: #7f7f7f; text-decoration-color: #7f7f7f\">│   │   │   </span><span style=\"color: #0000ff; text-decoration-color: #0000ff\">return</span> forward_call(*args, **kwargs)                                          <span style=\"color: #800000; text-decoration-color: #800000\">│</span>\n",
       "<span style=\"color: #800000; text-decoration-color: #800000\">│</span>   <span style=\"color: #7f7f7f; text-decoration-color: #7f7f7f\">1502 </span><span style=\"color: #7f7f7f; text-decoration-color: #7f7f7f\">│   │   </span><span style=\"color: #7f7f7f; text-decoration-color: #7f7f7f\"># Do not call functions when jit is used</span>                                          <span style=\"color: #800000; text-decoration-color: #800000\">│</span>\n",
       "<span style=\"color: #800000; text-decoration-color: #800000\">│</span>   <span style=\"color: #7f7f7f; text-decoration-color: #7f7f7f\">1503 </span><span style=\"color: #7f7f7f; text-decoration-color: #7f7f7f\">│   │   </span>full_backward_hooks, non_full_backward_hooks = [], []                             <span style=\"color: #800000; text-decoration-color: #800000\">│</span>\n",
       "<span style=\"color: #800000; text-decoration-color: #800000\">│</span>   <span style=\"color: #7f7f7f; text-decoration-color: #7f7f7f\">1504 </span><span style=\"color: #7f7f7f; text-decoration-color: #7f7f7f\">│   │   </span>backward_pre_hooks = []                                                           <span style=\"color: #800000; text-decoration-color: #800000\">│</span>\n",
       "<span style=\"color: #800000; text-decoration-color: #800000\">│</span>                                                                                                  <span style=\"color: #800000; text-decoration-color: #800000\">│</span>\n",
       "<span style=\"color: #800000; text-decoration-color: #800000\">│</span> <span style=\"color: #bfbf7f; text-decoration-color: #bfbf7f\">/home/denny/LAVIS/lavis/models/</span><span style=\"color: #808000; text-decoration-color: #808000; font-weight: bold\">eva_vit.py</span>:<span style=\"color: #0000ff; text-decoration-color: #0000ff\">124</span> in <span style=\"color: #00ff00; text-decoration-color: #00ff00\">forward</span>                                         <span style=\"color: #800000; text-decoration-color: #800000\">│</span>\n",
       "<span style=\"color: #800000; text-decoration-color: #800000\">│</span>                                                                                                  <span style=\"color: #800000; text-decoration-color: #800000\">│</span>\n",
       "<span style=\"color: #800000; text-decoration-color: #800000\">│</span>   <span style=\"color: #7f7f7f; text-decoration-color: #7f7f7f\">121 </span><span style=\"color: #7f7f7f; text-decoration-color: #7f7f7f\">│   │   </span><span style=\"color: #0000ff; text-decoration-color: #0000ff\">if</span> <span style=\"color: #00ffff; text-decoration-color: #00ffff\">self</span>.q_bias <span style=\"color: #ff00ff; text-decoration-color: #ff00ff\">is</span> <span style=\"color: #ff00ff; text-decoration-color: #ff00ff\">not</span> <span style=\"color: #0000ff; text-decoration-color: #0000ff\">None</span>:                                                        <span style=\"color: #800000; text-decoration-color: #800000\">│</span>\n",
       "<span style=\"color: #800000; text-decoration-color: #800000\">│</span>   <span style=\"color: #7f7f7f; text-decoration-color: #7f7f7f\">122 </span><span style=\"color: #7f7f7f; text-decoration-color: #7f7f7f\">│   │   │   </span>qkv_bias = torch.cat((<span style=\"color: #00ffff; text-decoration-color: #00ffff\">self</span>.q_bias, torch.zeros_like(<span style=\"color: #00ffff; text-decoration-color: #00ffff\">self</span>.v_bias, requires_gr   <span style=\"color: #800000; text-decoration-color: #800000\">│</span>\n",
       "<span style=\"color: #800000; text-decoration-color: #800000\">│</span>   <span style=\"color: #7f7f7f; text-decoration-color: #7f7f7f\">123 </span><span style=\"color: #7f7f7f; text-decoration-color: #7f7f7f\">│   │   </span><span style=\"color: #7f7f7f; text-decoration-color: #7f7f7f\"># qkv = self.qkv(x).reshape(B, N, 3, self.num_heads, C // self.num_heads).permut</span>   <span style=\"color: #800000; text-decoration-color: #800000\">│</span>\n",
       "<span style=\"color: #800000; text-decoration-color: #800000\">│</span> <span style=\"color: #800000; text-decoration-color: #800000\">❱ </span>124 <span style=\"color: #7f7f7f; text-decoration-color: #7f7f7f\">│   │   </span>qkv = F.linear(<span style=\"color: #00ffff; text-decoration-color: #00ffff\">input</span>=x, weight=<span style=\"color: #00ffff; text-decoration-color: #00ffff\">self</span>.qkv.weight, bias=qkv_bias)                     <span style=\"color: #800000; text-decoration-color: #800000\">│</span>\n",
       "<span style=\"color: #800000; text-decoration-color: #800000\">│</span>   <span style=\"color: #7f7f7f; text-decoration-color: #7f7f7f\">125 </span><span style=\"color: #7f7f7f; text-decoration-color: #7f7f7f\">│   │   </span>qkv = qkv.reshape(B, N, <span style=\"color: #0000ff; text-decoration-color: #0000ff\">3</span>, <span style=\"color: #00ffff; text-decoration-color: #00ffff\">self</span>.num_heads, -<span style=\"color: #0000ff; text-decoration-color: #0000ff\">1</span>).permute(<span style=\"color: #0000ff; text-decoration-color: #0000ff\">2</span>, <span style=\"color: #0000ff; text-decoration-color: #0000ff\">0</span>, <span style=\"color: #0000ff; text-decoration-color: #0000ff\">3</span>, <span style=\"color: #0000ff; text-decoration-color: #0000ff\">1</span>, <span style=\"color: #0000ff; text-decoration-color: #0000ff\">4</span>)              <span style=\"color: #800000; text-decoration-color: #800000\">│</span>\n",
       "<span style=\"color: #800000; text-decoration-color: #800000\">│</span>   <span style=\"color: #7f7f7f; text-decoration-color: #7f7f7f\">126 </span><span style=\"color: #7f7f7f; text-decoration-color: #7f7f7f\">│   │   </span>q, k, v = qkv[<span style=\"color: #0000ff; text-decoration-color: #0000ff\">0</span>], qkv[<span style=\"color: #0000ff; text-decoration-color: #0000ff\">1</span>], qkv[<span style=\"color: #0000ff; text-decoration-color: #0000ff\">2</span>]   <span style=\"color: #7f7f7f; text-decoration-color: #7f7f7f\"># make torchscript happy (cannot use tensor a</span>   <span style=\"color: #800000; text-decoration-color: #800000\">│</span>\n",
       "<span style=\"color: #800000; text-decoration-color: #800000\">│</span>   <span style=\"color: #7f7f7f; text-decoration-color: #7f7f7f\">127 </span>                                                                                           <span style=\"color: #800000; text-decoration-color: #800000\">│</span>\n",
       "<span style=\"color: #800000; text-decoration-color: #800000\">╰──────────────────────────────────────────────────────────────────────────────────────────────────╯</span>\n",
       "<span style=\"color: #ff0000; text-decoration-color: #ff0000; font-weight: bold\">OutOfMemoryError: </span>CUDA out of memory. Tried to allocate <span style=\"color: #008080; text-decoration-color: #008080; font-weight: bold\">18.00</span> MiB <span style=\"font-weight: bold\">(</span>GPU <span style=\"color: #008080; text-decoration-color: #008080; font-weight: bold\">0</span>; <span style=\"color: #008080; text-decoration-color: #008080; font-weight: bold\">23.70</span> GiB total capacity; <span style=\"color: #008080; text-decoration-color: #008080; font-weight: bold\">19.79</span> GiB \n",
       "already allocated; <span style=\"color: #008080; text-decoration-color: #008080; font-weight: bold\">9.69</span> MiB free; <span style=\"color: #008080; text-decoration-color: #008080; font-weight: bold\">22.35</span> GiB reserved in total by PyTorch<span style=\"font-weight: bold\">)</span> If reserved memory is &gt;&gt; allocated memory\n",
       "try setting max_split_size_mb to avoid fragmentation.  See documentation for Memory Management and \n",
       "PYTORCH_CUDA_ALLOC_CONF\n",
       "</pre>\n"
      ],
      "text/plain": [
       "\u001b[31m╭─\u001b[0m\u001b[31m──────────────────────────────\u001b[0m\u001b[31m \u001b[0m\u001b[1;31mTraceback \u001b[0m\u001b[1;2;31m(most recent call last)\u001b[0m\u001b[31m \u001b[0m\u001b[31m───────────────────────────────\u001b[0m\u001b[31m─╮\u001b[0m\n",
       "\u001b[31m│\u001b[0m in \u001b[92m<module>\u001b[0m:\u001b[94m5\u001b[0m                                                                                    \u001b[31m│\u001b[0m\n",
       "\u001b[31m│\u001b[0m                                                                                                  \u001b[31m│\u001b[0m\n",
       "\u001b[31m│\u001b[0m   \u001b[2m2 \u001b[0minstruct.LoadData_batch(csv_path=csv_path)                                                   \u001b[31m│\u001b[0m\n",
       "\u001b[31m│\u001b[0m   \u001b[2m3 \u001b[0m                                                                                             \u001b[31m│\u001b[0m\n",
       "\u001b[31m│\u001b[0m   \u001b[2m4 \u001b[0mquestion = q1                                                                                \u001b[31m│\u001b[0m\n",
       "\u001b[31m│\u001b[0m \u001b[31m❱ \u001b[0m5 acc, confusion_mat, ans_list, labels, label_3class = instruct.QueryImgs_batch(question=q     \u001b[31m│\u001b[0m\n",
       "\u001b[31m│\u001b[0m   \u001b[2m6 \u001b[0m                                                                                             \u001b[31m│\u001b[0m\n",
       "\u001b[31m│\u001b[0m   \u001b[2m7 \u001b[0mquestion = q2                                                                                \u001b[31m│\u001b[0m\n",
       "\u001b[31m│\u001b[0m   \u001b[2m8 \u001b[0macc, confusion_mat, ans_list, labels, label_3class = instruct.QueryImgs_batch(question=q     \u001b[31m│\u001b[0m\n",
       "\u001b[31m│\u001b[0m                                                                                                  \u001b[31m│\u001b[0m\n",
       "\u001b[31m│\u001b[0m in \u001b[92mQueryImgs_batch\u001b[0m:\u001b[94m119\u001b[0m                                                                           \u001b[31m│\u001b[0m\n",
       "\u001b[31m│\u001b[0m                                                                                                  \u001b[31m│\u001b[0m\n",
       "\u001b[31m│\u001b[0m   \u001b[2m116 \u001b[0m\u001b[2m│   │   │   \u001b[0msamples = {\u001b[33m\"\u001b[0m\u001b[33mimage\u001b[0m\u001b[33m\"\u001b[0m: image, \u001b[33m\"\u001b[0m\u001b[33mtext_input\u001b[0m\u001b[33m\"\u001b[0m: questions}                            \u001b[31m│\u001b[0m\n",
       "\u001b[31m│\u001b[0m   \u001b[2m117 \u001b[0m\u001b[2m│   │   │   \u001b[0msamplesForOut = {\u001b[33m\"\u001b[0m\u001b[33mimage\u001b[0m\u001b[33m\"\u001b[0m: image, \u001b[33m\"\u001b[0m\u001b[33mtext_input\u001b[0m\u001b[33m\"\u001b[0m: questions, \u001b[33m\"\u001b[0m\u001b[33mtext_output\u001b[0m\u001b[33m\"\u001b[0m: lab   \u001b[31m│\u001b[0m\n",
       "\u001b[31m│\u001b[0m   \u001b[2m118 \u001b[0m\u001b[2m│   │   │   \u001b[0m                                                                               \u001b[31m│\u001b[0m\n",
       "\u001b[31m│\u001b[0m \u001b[31m❱ \u001b[0m119 \u001b[2m│   │   │   \u001b[0mout = \u001b[96mself\u001b[0m.model(samplesForOut) \u001b[2m# for debug\u001b[0m                                    \u001b[31m│\u001b[0m\n",
       "\u001b[31m│\u001b[0m   \u001b[2m120 \u001b[0m\u001b[2m│   │   │   \u001b[0mans = \u001b[96mself\u001b[0m.model.predict_answers(samples=samples, inference_method=\u001b[33m\"\u001b[0m\u001b[33mgenerate\u001b[0m   \u001b[31m│\u001b[0m\n",
       "\u001b[31m│\u001b[0m   \u001b[2m121 \u001b[0m\u001b[2m│   │   │   \u001b[0mpred_label = [\u001b[94m0\u001b[0m \u001b[94mif\u001b[0m a == true_string \u001b[94melse\u001b[0m \u001b[94m1\u001b[0m \u001b[94mfor\u001b[0m a \u001b[95min\u001b[0m ans]                       \u001b[31m│\u001b[0m\n",
       "\u001b[31m│\u001b[0m   \u001b[2m122 \u001b[0m\u001b[2m│   │   │   \u001b[0m\u001b[96mself\u001b[0m.ans_list += pred_label                                                    \u001b[31m│\u001b[0m\n",
       "\u001b[31m│\u001b[0m                                                                                                  \u001b[31m│\u001b[0m\n",
       "\u001b[31m│\u001b[0m \u001b[2;33m/home/denny/anaconda3/envs/instblip/lib/python3.9/site-packages/torch/nn/modules/\u001b[0m\u001b[1;33mmodule.py\u001b[0m:\u001b[94m1501\u001b[0m  \u001b[31m│\u001b[0m\n",
       "\u001b[31m│\u001b[0m in \u001b[92m_call_impl\u001b[0m                                                                                    \u001b[31m│\u001b[0m\n",
       "\u001b[31m│\u001b[0m                                                                                                  \u001b[31m│\u001b[0m\n",
       "\u001b[31m│\u001b[0m   \u001b[2m1498 \u001b[0m\u001b[2m│   │   \u001b[0m\u001b[94mif\u001b[0m \u001b[95mnot\u001b[0m (\u001b[96mself\u001b[0m._backward_hooks \u001b[95mor\u001b[0m \u001b[96mself\u001b[0m._backward_pre_hooks \u001b[95mor\u001b[0m \u001b[96mself\u001b[0m._forward_hooks   \u001b[31m│\u001b[0m\n",
       "\u001b[31m│\u001b[0m   \u001b[2m1499 \u001b[0m\u001b[2m│   │   │   │   \u001b[0m\u001b[95mor\u001b[0m _global_backward_pre_hooks \u001b[95mor\u001b[0m _global_backward_hooks                   \u001b[31m│\u001b[0m\n",
       "\u001b[31m│\u001b[0m   \u001b[2m1500 \u001b[0m\u001b[2m│   │   │   │   \u001b[0m\u001b[95mor\u001b[0m _global_forward_hooks \u001b[95mor\u001b[0m _global_forward_pre_hooks):                   \u001b[31m│\u001b[0m\n",
       "\u001b[31m│\u001b[0m \u001b[31m❱ \u001b[0m1501 \u001b[2m│   │   │   \u001b[0m\u001b[94mreturn\u001b[0m forward_call(*args, **kwargs)                                          \u001b[31m│\u001b[0m\n",
       "\u001b[31m│\u001b[0m   \u001b[2m1502 \u001b[0m\u001b[2m│   │   \u001b[0m\u001b[2m# Do not call functions when jit is used\u001b[0m                                          \u001b[31m│\u001b[0m\n",
       "\u001b[31m│\u001b[0m   \u001b[2m1503 \u001b[0m\u001b[2m│   │   \u001b[0mfull_backward_hooks, non_full_backward_hooks = [], []                             \u001b[31m│\u001b[0m\n",
       "\u001b[31m│\u001b[0m   \u001b[2m1504 \u001b[0m\u001b[2m│   │   \u001b[0mbackward_pre_hooks = []                                                           \u001b[31m│\u001b[0m\n",
       "\u001b[31m│\u001b[0m                                                                                                  \u001b[31m│\u001b[0m\n",
       "\u001b[31m│\u001b[0m \u001b[2;33m/home/denny/LAVIS/lavis/models/blip2_models/\u001b[0m\u001b[1;33mblip2_vicuna_instruct_textinv.py\u001b[0m:\u001b[94m252\u001b[0m in \u001b[92mforward\u001b[0m      \u001b[31m│\u001b[0m\n",
       "\u001b[31m│\u001b[0m                                                                                                  \u001b[31m│\u001b[0m\n",
       "\u001b[31m│\u001b[0m   \u001b[2m249 \u001b[0m\u001b[2m│   │   \u001b[0m                                                                                   \u001b[31m│\u001b[0m\n",
       "\u001b[31m│\u001b[0m   \u001b[2m250 \u001b[0m\u001b[2m│   │   \u001b[0mimage = samples[\u001b[33m\"\u001b[0m\u001b[33mimage\u001b[0m\u001b[33m\"\u001b[0m]                                                           \u001b[31m│\u001b[0m\n",
       "\u001b[31m│\u001b[0m   \u001b[2m251 \u001b[0m\u001b[2m│   │   \u001b[0m\u001b[94mwith\u001b[0m \u001b[96mself\u001b[0m.maybe_autocast():                                                        \u001b[31m│\u001b[0m\n",
       "\u001b[31m│\u001b[0m \u001b[31m❱ \u001b[0m252 \u001b[2m│   │   │   \u001b[0mimage_embeds = \u001b[96mself\u001b[0m.ln_vision(\u001b[96mself\u001b[0m.visual_encoder(image))                      \u001b[31m│\u001b[0m\n",
       "\u001b[31m│\u001b[0m   \u001b[2m253 \u001b[0m\u001b[2m│   │   \u001b[0mimage_atts = torch.ones(image_embeds.size()[:-\u001b[94m1\u001b[0m], dtype=torch.long).to(image.dev   \u001b[31m│\u001b[0m\n",
       "\u001b[31m│\u001b[0m   \u001b[2m254 \u001b[0m\u001b[2m│   │   \u001b[0m                                                                                   \u001b[31m│\u001b[0m\n",
       "\u001b[31m│\u001b[0m   \u001b[2m255 \u001b[0m\u001b[2m│   │   \u001b[0mbs = image.size(\u001b[94m0\u001b[0m)                                                                 \u001b[31m│\u001b[0m\n",
       "\u001b[31m│\u001b[0m                                                                                                  \u001b[31m│\u001b[0m\n",
       "\u001b[31m│\u001b[0m \u001b[2;33m/home/denny/anaconda3/envs/instblip/lib/python3.9/site-packages/torch/nn/modules/\u001b[0m\u001b[1;33mmodule.py\u001b[0m:\u001b[94m1501\u001b[0m  \u001b[31m│\u001b[0m\n",
       "\u001b[31m│\u001b[0m in \u001b[92m_call_impl\u001b[0m                                                                                    \u001b[31m│\u001b[0m\n",
       "\u001b[31m│\u001b[0m                                                                                                  \u001b[31m│\u001b[0m\n",
       "\u001b[31m│\u001b[0m   \u001b[2m1498 \u001b[0m\u001b[2m│   │   \u001b[0m\u001b[94mif\u001b[0m \u001b[95mnot\u001b[0m (\u001b[96mself\u001b[0m._backward_hooks \u001b[95mor\u001b[0m \u001b[96mself\u001b[0m._backward_pre_hooks \u001b[95mor\u001b[0m \u001b[96mself\u001b[0m._forward_hooks   \u001b[31m│\u001b[0m\n",
       "\u001b[31m│\u001b[0m   \u001b[2m1499 \u001b[0m\u001b[2m│   │   │   │   \u001b[0m\u001b[95mor\u001b[0m _global_backward_pre_hooks \u001b[95mor\u001b[0m _global_backward_hooks                   \u001b[31m│\u001b[0m\n",
       "\u001b[31m│\u001b[0m   \u001b[2m1500 \u001b[0m\u001b[2m│   │   │   │   \u001b[0m\u001b[95mor\u001b[0m _global_forward_hooks \u001b[95mor\u001b[0m _global_forward_pre_hooks):                   \u001b[31m│\u001b[0m\n",
       "\u001b[31m│\u001b[0m \u001b[31m❱ \u001b[0m1501 \u001b[2m│   │   │   \u001b[0m\u001b[94mreturn\u001b[0m forward_call(*args, **kwargs)                                          \u001b[31m│\u001b[0m\n",
       "\u001b[31m│\u001b[0m   \u001b[2m1502 \u001b[0m\u001b[2m│   │   \u001b[0m\u001b[2m# Do not call functions when jit is used\u001b[0m                                          \u001b[31m│\u001b[0m\n",
       "\u001b[31m│\u001b[0m   \u001b[2m1503 \u001b[0m\u001b[2m│   │   \u001b[0mfull_backward_hooks, non_full_backward_hooks = [], []                             \u001b[31m│\u001b[0m\n",
       "\u001b[31m│\u001b[0m   \u001b[2m1504 \u001b[0m\u001b[2m│   │   \u001b[0mbackward_pre_hooks = []                                                           \u001b[31m│\u001b[0m\n",
       "\u001b[31m│\u001b[0m                                                                                                  \u001b[31m│\u001b[0m\n",
       "\u001b[31m│\u001b[0m \u001b[2;33m/home/denny/LAVIS/lavis/models/\u001b[0m\u001b[1;33meva_vit.py\u001b[0m:\u001b[94m350\u001b[0m in \u001b[92mforward\u001b[0m                                         \u001b[31m│\u001b[0m\n",
       "\u001b[31m│\u001b[0m                                                                                                  \u001b[31m│\u001b[0m\n",
       "\u001b[31m│\u001b[0m   \u001b[2m347 \u001b[0m\u001b[2m#             return x[:, 0]\u001b[0m                                                               \u001b[31m│\u001b[0m\n",
       "\u001b[31m│\u001b[0m   \u001b[2m348 \u001b[0m\u001b[2m│   \u001b[0m                                                                                       \u001b[31m│\u001b[0m\n",
       "\u001b[31m│\u001b[0m   \u001b[2m349 \u001b[0m\u001b[2m│   \u001b[0m\u001b[94mdef\u001b[0m \u001b[92mforward\u001b[0m(\u001b[96mself\u001b[0m, x):                                                                  \u001b[31m│\u001b[0m\n",
       "\u001b[31m│\u001b[0m \u001b[31m❱ \u001b[0m350 \u001b[2m│   │   \u001b[0mx = \u001b[96mself\u001b[0m.forward_features(x)                                                       \u001b[31m│\u001b[0m\n",
       "\u001b[31m│\u001b[0m   \u001b[2m351 \u001b[0m\u001b[2m#         x = self.head(x)\u001b[0m                                                                 \u001b[31m│\u001b[0m\n",
       "\u001b[31m│\u001b[0m   \u001b[2m352 \u001b[0m\u001b[2m│   │   \u001b[0m\u001b[94mreturn\u001b[0m x                                                                           \u001b[31m│\u001b[0m\n",
       "\u001b[31m│\u001b[0m   \u001b[2m353 \u001b[0m                                                                                           \u001b[31m│\u001b[0m\n",
       "\u001b[31m│\u001b[0m                                                                                                  \u001b[31m│\u001b[0m\n",
       "\u001b[31m│\u001b[0m \u001b[2;33m/home/denny/LAVIS/lavis/models/\u001b[0m\u001b[1;33meva_vit.py\u001b[0m:\u001b[94m339\u001b[0m in \u001b[92mforward_features\u001b[0m                                \u001b[31m│\u001b[0m\n",
       "\u001b[31m│\u001b[0m                                                                                                  \u001b[31m│\u001b[0m\n",
       "\u001b[31m│\u001b[0m   \u001b[2m336 \u001b[0m\u001b[2m│   │   │   \u001b[0m\u001b[94mif\u001b[0m \u001b[96mself\u001b[0m.use_checkpoint:                                                        \u001b[31m│\u001b[0m\n",
       "\u001b[31m│\u001b[0m   \u001b[2m337 \u001b[0m\u001b[2m│   │   │   │   \u001b[0mx = checkpoint.checkpoint(blk, x, rel_pos_bias)                            \u001b[31m│\u001b[0m\n",
       "\u001b[31m│\u001b[0m   \u001b[2m338 \u001b[0m\u001b[2m│   │   │   \u001b[0m\u001b[94melse\u001b[0m:                                                                          \u001b[31m│\u001b[0m\n",
       "\u001b[31m│\u001b[0m \u001b[31m❱ \u001b[0m339 \u001b[2m│   │   │   │   \u001b[0mx = blk(x, rel_pos_bias)                                                   \u001b[31m│\u001b[0m\n",
       "\u001b[31m│\u001b[0m   \u001b[2m340 \u001b[0m\u001b[2m│   │   \u001b[0m\u001b[94mreturn\u001b[0m x                                                                           \u001b[31m│\u001b[0m\n",
       "\u001b[31m│\u001b[0m   \u001b[2m341 \u001b[0m\u001b[2m#         x = self.norm(x)\u001b[0m                                                                 \u001b[31m│\u001b[0m\n",
       "\u001b[31m│\u001b[0m   \u001b[2m342 \u001b[0m                                                                                           \u001b[31m│\u001b[0m\n",
       "\u001b[31m│\u001b[0m                                                                                                  \u001b[31m│\u001b[0m\n",
       "\u001b[31m│\u001b[0m \u001b[2;33m/home/denny/anaconda3/envs/instblip/lib/python3.9/site-packages/torch/nn/modules/\u001b[0m\u001b[1;33mmodule.py\u001b[0m:\u001b[94m1501\u001b[0m  \u001b[31m│\u001b[0m\n",
       "\u001b[31m│\u001b[0m in \u001b[92m_call_impl\u001b[0m                                                                                    \u001b[31m│\u001b[0m\n",
       "\u001b[31m│\u001b[0m                                                                                                  \u001b[31m│\u001b[0m\n",
       "\u001b[31m│\u001b[0m   \u001b[2m1498 \u001b[0m\u001b[2m│   │   \u001b[0m\u001b[94mif\u001b[0m \u001b[95mnot\u001b[0m (\u001b[96mself\u001b[0m._backward_hooks \u001b[95mor\u001b[0m \u001b[96mself\u001b[0m._backward_pre_hooks \u001b[95mor\u001b[0m \u001b[96mself\u001b[0m._forward_hooks   \u001b[31m│\u001b[0m\n",
       "\u001b[31m│\u001b[0m   \u001b[2m1499 \u001b[0m\u001b[2m│   │   │   │   \u001b[0m\u001b[95mor\u001b[0m _global_backward_pre_hooks \u001b[95mor\u001b[0m _global_backward_hooks                   \u001b[31m│\u001b[0m\n",
       "\u001b[31m│\u001b[0m   \u001b[2m1500 \u001b[0m\u001b[2m│   │   │   │   \u001b[0m\u001b[95mor\u001b[0m _global_forward_hooks \u001b[95mor\u001b[0m _global_forward_pre_hooks):                   \u001b[31m│\u001b[0m\n",
       "\u001b[31m│\u001b[0m \u001b[31m❱ \u001b[0m1501 \u001b[2m│   │   │   \u001b[0m\u001b[94mreturn\u001b[0m forward_call(*args, **kwargs)                                          \u001b[31m│\u001b[0m\n",
       "\u001b[31m│\u001b[0m   \u001b[2m1502 \u001b[0m\u001b[2m│   │   \u001b[0m\u001b[2m# Do not call functions when jit is used\u001b[0m                                          \u001b[31m│\u001b[0m\n",
       "\u001b[31m│\u001b[0m   \u001b[2m1503 \u001b[0m\u001b[2m│   │   \u001b[0mfull_backward_hooks, non_full_backward_hooks = [], []                             \u001b[31m│\u001b[0m\n",
       "\u001b[31m│\u001b[0m   \u001b[2m1504 \u001b[0m\u001b[2m│   │   \u001b[0mbackward_pre_hooks = []                                                           \u001b[31m│\u001b[0m\n",
       "\u001b[31m│\u001b[0m                                                                                                  \u001b[31m│\u001b[0m\n",
       "\u001b[31m│\u001b[0m \u001b[2;33m/home/denny/LAVIS/lavis/models/\u001b[0m\u001b[1;33meva_vit.py\u001b[0m:\u001b[94m175\u001b[0m in \u001b[92mforward\u001b[0m                                         \u001b[31m│\u001b[0m\n",
       "\u001b[31m│\u001b[0m                                                                                                  \u001b[31m│\u001b[0m\n",
       "\u001b[31m│\u001b[0m   \u001b[2m172 \u001b[0m\u001b[2m│   \u001b[0m                                                                                       \u001b[31m│\u001b[0m\n",
       "\u001b[31m│\u001b[0m   \u001b[2m173 \u001b[0m\u001b[2m│   \u001b[0m\u001b[94mdef\u001b[0m \u001b[92mforward\u001b[0m(\u001b[96mself\u001b[0m, x, rel_pos_bias=\u001b[94mNone\u001b[0m):                                               \u001b[31m│\u001b[0m\n",
       "\u001b[31m│\u001b[0m   \u001b[2m174 \u001b[0m\u001b[2m│   │   \u001b[0m\u001b[94mif\u001b[0m \u001b[96mself\u001b[0m.gamma_1 \u001b[95mis\u001b[0m \u001b[94mNone\u001b[0m:                                                           \u001b[31m│\u001b[0m\n",
       "\u001b[31m│\u001b[0m \u001b[31m❱ \u001b[0m175 \u001b[2m│   │   │   \u001b[0mx = x + \u001b[96mself\u001b[0m.drop_path(\u001b[96mself\u001b[0m.attn(\u001b[96mself\u001b[0m.norm1(x), rel_pos_bias=rel_pos_bias))    \u001b[31m│\u001b[0m\n",
       "\u001b[31m│\u001b[0m   \u001b[2m176 \u001b[0m\u001b[2m│   │   │   \u001b[0mx = x + \u001b[96mself\u001b[0m.drop_path(\u001b[96mself\u001b[0m.mlp(\u001b[96mself\u001b[0m.norm2(x)))                                \u001b[31m│\u001b[0m\n",
       "\u001b[31m│\u001b[0m   \u001b[2m177 \u001b[0m\u001b[2m│   │   \u001b[0m\u001b[94melse\u001b[0m:                                                                              \u001b[31m│\u001b[0m\n",
       "\u001b[31m│\u001b[0m   \u001b[2m178 \u001b[0m\u001b[2m│   │   │   \u001b[0mx = x + \u001b[96mself\u001b[0m.drop_path(\u001b[96mself\u001b[0m.gamma_1 * \u001b[96mself\u001b[0m.attn(\u001b[96mself\u001b[0m.norm1(x), rel_pos_bias=   \u001b[31m│\u001b[0m\n",
       "\u001b[31m│\u001b[0m                                                                                                  \u001b[31m│\u001b[0m\n",
       "\u001b[31m│\u001b[0m \u001b[2;33m/home/denny/anaconda3/envs/instblip/lib/python3.9/site-packages/torch/nn/modules/\u001b[0m\u001b[1;33mmodule.py\u001b[0m:\u001b[94m1501\u001b[0m  \u001b[31m│\u001b[0m\n",
       "\u001b[31m│\u001b[0m in \u001b[92m_call_impl\u001b[0m                                                                                    \u001b[31m│\u001b[0m\n",
       "\u001b[31m│\u001b[0m                                                                                                  \u001b[31m│\u001b[0m\n",
       "\u001b[31m│\u001b[0m   \u001b[2m1498 \u001b[0m\u001b[2m│   │   \u001b[0m\u001b[94mif\u001b[0m \u001b[95mnot\u001b[0m (\u001b[96mself\u001b[0m._backward_hooks \u001b[95mor\u001b[0m \u001b[96mself\u001b[0m._backward_pre_hooks \u001b[95mor\u001b[0m \u001b[96mself\u001b[0m._forward_hooks   \u001b[31m│\u001b[0m\n",
       "\u001b[31m│\u001b[0m   \u001b[2m1499 \u001b[0m\u001b[2m│   │   │   │   \u001b[0m\u001b[95mor\u001b[0m _global_backward_pre_hooks \u001b[95mor\u001b[0m _global_backward_hooks                   \u001b[31m│\u001b[0m\n",
       "\u001b[31m│\u001b[0m   \u001b[2m1500 \u001b[0m\u001b[2m│   │   │   │   \u001b[0m\u001b[95mor\u001b[0m _global_forward_hooks \u001b[95mor\u001b[0m _global_forward_pre_hooks):                   \u001b[31m│\u001b[0m\n",
       "\u001b[31m│\u001b[0m \u001b[31m❱ \u001b[0m1501 \u001b[2m│   │   │   \u001b[0m\u001b[94mreturn\u001b[0m forward_call(*args, **kwargs)                                          \u001b[31m│\u001b[0m\n",
       "\u001b[31m│\u001b[0m   \u001b[2m1502 \u001b[0m\u001b[2m│   │   \u001b[0m\u001b[2m# Do not call functions when jit is used\u001b[0m                                          \u001b[31m│\u001b[0m\n",
       "\u001b[31m│\u001b[0m   \u001b[2m1503 \u001b[0m\u001b[2m│   │   \u001b[0mfull_backward_hooks, non_full_backward_hooks = [], []                             \u001b[31m│\u001b[0m\n",
       "\u001b[31m│\u001b[0m   \u001b[2m1504 \u001b[0m\u001b[2m│   │   \u001b[0mbackward_pre_hooks = []                                                           \u001b[31m│\u001b[0m\n",
       "\u001b[31m│\u001b[0m                                                                                                  \u001b[31m│\u001b[0m\n",
       "\u001b[31m│\u001b[0m \u001b[2;33m/home/denny/LAVIS/lavis/models/\u001b[0m\u001b[1;33meva_vit.py\u001b[0m:\u001b[94m124\u001b[0m in \u001b[92mforward\u001b[0m                                         \u001b[31m│\u001b[0m\n",
       "\u001b[31m│\u001b[0m                                                                                                  \u001b[31m│\u001b[0m\n",
       "\u001b[31m│\u001b[0m   \u001b[2m121 \u001b[0m\u001b[2m│   │   \u001b[0m\u001b[94mif\u001b[0m \u001b[96mself\u001b[0m.q_bias \u001b[95mis\u001b[0m \u001b[95mnot\u001b[0m \u001b[94mNone\u001b[0m:                                                        \u001b[31m│\u001b[0m\n",
       "\u001b[31m│\u001b[0m   \u001b[2m122 \u001b[0m\u001b[2m│   │   │   \u001b[0mqkv_bias = torch.cat((\u001b[96mself\u001b[0m.q_bias, torch.zeros_like(\u001b[96mself\u001b[0m.v_bias, requires_gr   \u001b[31m│\u001b[0m\n",
       "\u001b[31m│\u001b[0m   \u001b[2m123 \u001b[0m\u001b[2m│   │   \u001b[0m\u001b[2m# qkv = self.qkv(x).reshape(B, N, 3, self.num_heads, C // self.num_heads).permut\u001b[0m   \u001b[31m│\u001b[0m\n",
       "\u001b[31m│\u001b[0m \u001b[31m❱ \u001b[0m124 \u001b[2m│   │   \u001b[0mqkv = F.linear(\u001b[96minput\u001b[0m=x, weight=\u001b[96mself\u001b[0m.qkv.weight, bias=qkv_bias)                     \u001b[31m│\u001b[0m\n",
       "\u001b[31m│\u001b[0m   \u001b[2m125 \u001b[0m\u001b[2m│   │   \u001b[0mqkv = qkv.reshape(B, N, \u001b[94m3\u001b[0m, \u001b[96mself\u001b[0m.num_heads, -\u001b[94m1\u001b[0m).permute(\u001b[94m2\u001b[0m, \u001b[94m0\u001b[0m, \u001b[94m3\u001b[0m, \u001b[94m1\u001b[0m, \u001b[94m4\u001b[0m)              \u001b[31m│\u001b[0m\n",
       "\u001b[31m│\u001b[0m   \u001b[2m126 \u001b[0m\u001b[2m│   │   \u001b[0mq, k, v = qkv[\u001b[94m0\u001b[0m], qkv[\u001b[94m1\u001b[0m], qkv[\u001b[94m2\u001b[0m]   \u001b[2m# make torchscript happy (cannot use tensor a\u001b[0m   \u001b[31m│\u001b[0m\n",
       "\u001b[31m│\u001b[0m   \u001b[2m127 \u001b[0m                                                                                           \u001b[31m│\u001b[0m\n",
       "\u001b[31m╰──────────────────────────────────────────────────────────────────────────────────────────────────╯\u001b[0m\n",
       "\u001b[1;91mOutOfMemoryError: \u001b[0mCUDA out of memory. Tried to allocate \u001b[1;36m18.00\u001b[0m MiB \u001b[1m(\u001b[0mGPU \u001b[1;36m0\u001b[0m; \u001b[1;36m23.70\u001b[0m GiB total capacity; \u001b[1;36m19.79\u001b[0m GiB \n",
       "already allocated; \u001b[1;36m9.69\u001b[0m MiB free; \u001b[1;36m22.35\u001b[0m GiB reserved in total by PyTorch\u001b[1m)\u001b[0m If reserved memory is >> allocated memory\n",
       "try setting max_split_size_mb to avoid fragmentation.  See documentation for Memory Management and \n",
       "PYTORCH_CUDA_ALLOC_CONF\n"
      ]
     },
     "metadata": {},
     "output_type": "display_data"
    }
   ],
   "source": [
    "csv_path = \"/eva_data0/denny/textual_inversion/60k_6k_6k/test_COCO_SD2_label.csv\"\n",
    "instruct.LoadData_batch(csv_path=csv_path)\n",
    "\n",
    "question = q1\n",
    "acc, confusion_mat, ans_list, labels, label_3class = instruct.QueryImgs_batch(question=question, true_string=\"yes\", logPath=logPath)\n",
    "\n",
    "question = q2\n",
    "acc, confusion_mat, ans_list, labels, label_3class = instruct.QueryImgs_batch(question=question, true_string=\"yes\", logPath=logPath)"
   ]
  },
  {
   "cell_type": "code",
   "execution_count": 8,
   "metadata": {},
   "outputs": [
    {
     "name": "stderr",
     "output_type": "stream",
     "text": [
      "100%|██████████| 750/750 [07:51<00:00,  1.59it/s]\n",
      "/home/denny/anaconda3/envs/instblip/lib/python3.9/site-packages/numpy/lib/function_base.py:518: RuntimeWarning: Mean of empty slice.\n",
      "  avg = a.mean(axis, **keepdims_kw)\n",
      "/home/denny/anaconda3/envs/instblip/lib/python3.9/site-packages/numpy/core/_methods.py:190: RuntimeWarning: invalid value encountered in double_scalars\n",
      "  ret = ret.dtype.type(ret / rcount)\n",
      "100%|██████████| 750/750 [09:30<00:00,  1.31it/s]\n",
      "/home/denny/anaconda3/envs/instblip/lib/python3.9/site-packages/numpy/lib/function_base.py:518: RuntimeWarning: Mean of empty slice.\n",
      "  avg = a.mean(axis, **keepdims_kw)\n",
      "/home/denny/anaconda3/envs/instblip/lib/python3.9/site-packages/numpy/core/_methods.py:190: RuntimeWarning: invalid value encountered in double_scalars\n",
      "  ret = ret.dtype.type(ret / rcount)\n"
     ]
    }
   ],
   "source": [
    "csv_path = \"/eva_data0/denny/textual_inversion/60k_6k_6k/test_COCO_SDXL_label.csv\"\n",
    "instruct.LoadData_batch(csv_path=csv_path)\n",
    "\n",
    "question = q1\n",
    "acc, confusion_mat, ans_list, labels, label_3class = instruct.QueryImgs_batch(question=question, true_string=\"yes\", logPath=logPath)\n",
    "\n",
    "question = q2\n",
    "acc, confusion_mat, ans_list, labels, label_3class = instruct.QueryImgs_batch(question=question, true_string=\"yes\", logPath=logPath)"
   ]
  },
  {
   "cell_type": "code",
   "execution_count": 9,
   "metadata": {},
   "outputs": [
    {
     "name": "stderr",
     "output_type": "stream",
     "text": [
      "100%|██████████| 750/750 [07:52<00:00,  1.59it/s]\n",
      "/home/denny/anaconda3/envs/instblip/lib/python3.9/site-packages/numpy/lib/function_base.py:518: RuntimeWarning: Mean of empty slice.\n",
      "  avg = a.mean(axis, **keepdims_kw)\n",
      "/home/denny/anaconda3/envs/instblip/lib/python3.9/site-packages/numpy/core/_methods.py:190: RuntimeWarning: invalid value encountered in double_scalars\n",
      "  ret = ret.dtype.type(ret / rcount)\n",
      "100%|██████████| 750/750 [09:27<00:00,  1.32it/s]\n",
      "/home/denny/anaconda3/envs/instblip/lib/python3.9/site-packages/numpy/lib/function_base.py:518: RuntimeWarning: Mean of empty slice.\n",
      "  avg = a.mean(axis, **keepdims_kw)\n",
      "/home/denny/anaconda3/envs/instblip/lib/python3.9/site-packages/numpy/core/_methods.py:190: RuntimeWarning: invalid value encountered in double_scalars\n",
      "  ret = ret.dtype.type(ret / rcount)\n"
     ]
    }
   ],
   "source": [
    "csv_path = \"/eva_data0/denny/textual_inversion/60k_6k_6k/test_COCO_IF_label.csv\"\n",
    "instruct.LoadData_batch(csv_path=csv_path)\n",
    "\n",
    "question = q1\n",
    "acc, confusion_mat, ans_list, labels, label_3class = instruct.QueryImgs_batch(question=question, true_string=\"yes\", logPath=logPath)\n",
    "\n",
    "question = q2\n",
    "acc, confusion_mat, ans_list, labels, label_3class = instruct.QueryImgs_batch(question=question, true_string=\"yes\", logPath=logPath)"
   ]
  },
  {
   "cell_type": "code",
   "execution_count": 10,
   "metadata": {},
   "outputs": [
    {
     "name": "stderr",
     "output_type": "stream",
     "text": [
      "100%|██████████| 750/750 [07:55<00:00,  1.58it/s]\n",
      "100%|██████████| 750/750 [09:18<00:00,  1.34it/s]\n"
     ]
    }
   ],
   "source": [
    "csv_path = \"/eva_data0/denny/textual_inversion/60k_6k_6k/test_COCO_DALLE_label.csv\"\n",
    "instruct.LoadData_batch(csv_path=csv_path)\n",
    "\n",
    "question = q1\n",
    "acc, confusion_mat, ans_list, labels, label_3class = instruct.QueryImgs_batch(question=question, true_string=\"yes\", logPath=logPath)\n",
    "\n",
    "question = q2\n",
    "acc, confusion_mat, ans_list, labels, label_3class = instruct.QueryImgs_batch(question=question, true_string=\"yes\", logPath=logPath)"
   ]
  },
  {
   "cell_type": "code",
   "execution_count": 11,
   "metadata": {},
   "outputs": [
    {
     "name": "stderr",
     "output_type": "stream",
     "text": [
      "100%|██████████| 750/750 [07:44<00:00,  1.62it/s]\n",
      "100%|██████████| 750/750 [09:27<00:00,  1.32it/s]\n"
     ]
    }
   ],
   "source": [
    "csv_path = \"/eva_data0/denny/textual_inversion/60k_6k_6k/test_Flickr_SD2_label.csv\"\n",
    "instruct.LoadData_batch(csv_path=csv_path)\n",
    "\n",
    "question = q1\n",
    "acc, confusion_mat, ans_list, labels, label_3class = instruct.QueryImgs_batch(question=question, true_string=\"yes\", logPath=logPath)\n",
    "\n",
    "question = q2\n",
    "acc, confusion_mat, ans_list, labels, label_3class = instruct.QueryImgs_batch(question=question, true_string=\"yes\", logPath=logPath)"
   ]
  },
  {
   "cell_type": "code",
   "execution_count": 12,
   "metadata": {},
   "outputs": [
    {
     "name": "stderr",
     "output_type": "stream",
     "text": [
      "100%|██████████| 750/750 [07:42<00:00,  1.62it/s]\n",
      "100%|██████████| 750/750 [09:31<00:00,  1.31it/s]\n"
     ]
    }
   ],
   "source": [
    "csv_path = \"/eva_data0/denny/textual_inversion/60k_6k_6k/test_Flickr_SDXL_label.csv\"\n",
    "instruct.LoadData_batch(csv_path=csv_path)\n",
    "\n",
    "question = q1\n",
    "acc, confusion_mat, ans_list, labels, label_3class = instruct.QueryImgs_batch(question=question, true_string=\"yes\", logPath=logPath)\n",
    "\n",
    "question = q2\n",
    "acc, confusion_mat, ans_list, labels, label_3class = instruct.QueryImgs_batch(question=question, true_string=\"yes\", logPath=logPath)"
   ]
  },
  {
   "cell_type": "code",
   "execution_count": 13,
   "metadata": {},
   "outputs": [
    {
     "name": "stderr",
     "output_type": "stream",
     "text": [
      "  0%|          | 0/750 [00:00<?, ?it/s]"
     ]
    },
    {
     "name": "stderr",
     "output_type": "stream",
     "text": [
      "100%|██████████| 750/750 [07:45<00:00,  1.61it/s]\n",
      "100%|██████████| 750/750 [09:34<00:00,  1.30it/s]\n"
     ]
    }
   ],
   "source": [
    "csv_path = \"/eva_data0/denny/textual_inversion/60k_6k_6k/test_Flickr_IF_label.csv\"\n",
    "instruct.LoadData_batch(csv_path=csv_path)\n",
    "\n",
    "question = q1\n",
    "acc, confusion_mat, ans_list, labels, label_3class = instruct.QueryImgs_batch(question=question, true_string=\"yes\", logPath=logPath)\n",
    "\n",
    "question = q2\n",
    "acc, confusion_mat, ans_list, labels, label_3class = instruct.QueryImgs_batch(question=question, true_string=\"yes\", logPath=logPath)"
   ]
  },
  {
   "cell_type": "code",
   "execution_count": 14,
   "metadata": {},
   "outputs": [
    {
     "name": "stderr",
     "output_type": "stream",
     "text": [
      "100%|██████████| 750/750 [07:48<00:00,  1.60it/s]\n",
      "100%|██████████| 750/750 [09:19<00:00,  1.34it/s]\n"
     ]
    }
   ],
   "source": [
    "csv_path = \"/eva_data0/denny/textual_inversion/60k_6k_6k/test_Flickr_DALLE_label.csv\"\n",
    "instruct.LoadData_batch(csv_path=csv_path)\n",
    "\n",
    "question = q1\n",
    "acc, confusion_mat, ans_list, labels, label_3class = instruct.QueryImgs_batch(question=question, true_string=\"yes\", logPath=logPath)\n",
    "\n",
    "question = q2\n",
    "acc, confusion_mat, ans_list, labels, label_3class = instruct.QueryImgs_batch(question=question, true_string=\"yes\", logPath=logPath)"
   ]
  },
  {
   "cell_type": "code",
   "execution_count": 7,
   "metadata": {},
   "outputs": [
    {
     "name": "stderr",
     "output_type": "stream",
     "text": [
      "100%|██████████| 750/750 [08:21<00:00,  1.50it/s]"
     ]
    },
    {
     "name": "stdout",
     "output_type": "stream",
     "text": [
      "Question: Is this photo real?\n",
      "\n",
      "Acc: 70.57%\n",
      "         | Pred true | Pred false |\n",
      "GT true  | 2990      | 10         |\n",
      "GT false | 1756      | 1244       |\n",
      "Question: Is this photo real?\n",
      "\n",
      "=== Overall ===\n",
      "Acc: 70.57%\n",
      "         | Pred true | Pred false |\n",
      "GT true  | 2990      | 10         |\n",
      "GT false | 1756      | 1244       |\n",
      "\n",
      "\n",
      "=== Real images ===\n",
      "Acc: 99.67%\n",
      "         | Pred true | Pred false |\n",
      "GT true  | 2990      | 10         |\n",
      "GT false | 0         | 0          |\n",
      "\n",
      "\n",
      "=== Common fake images ===\n",
      "Acc: 21.33%\n",
      "         | Pred true | Pred false |\n",
      "GT true  | 0         | 0          |\n",
      "GT false | 1180      | 320        |\n",
      "\n",
      "\n",
      "=== Uncommon fake images ===\n",
      "Acc: 61.60%\n",
      "         | Pred true | Pred false |\n",
      "GT true  | 0         | 0          |\n",
      "GT false | 576       | 924        |\n"
     ]
    },
    {
     "name": "stderr",
     "output_type": "stream",
     "text": [
      "\n"
     ]
    }
   ],
   "source": [
    "csv_path = \"/eva_data0/denny/textual_inversion/60k_6k_6k/test_Flickr_IF_label.csv\"\n",
    "instruct.LoadData_batch(csv_path=csv_path)\n",
    "\n",
    "question = \"Is this photo real?\"\n",
    "# question = \"Is this photo [*]?\"\n",
    "acc, confusion_mat, ans_list, labels, label_3class = instruct.QueryImgs_batch(question=question, true_string=\"yes\")\n",
    "instruct.PrintResult(three_class=True)"
   ]
  },
  {
   "cell_type": "code",
   "execution_count": 8,
   "metadata": {},
   "outputs": [
    {
     "name": "stderr",
     "output_type": "stream",
     "text": [
      "100%|██████████| 750/750 [09:25<00:00,  1.33it/s]"
     ]
    },
    {
     "name": "stdout",
     "output_type": "stream",
     "text": [
      "Question: Is this photo [*]?\n",
      "\n",
      "Acc: 95.40%\n",
      "         | Pred true | Pred false |\n",
      "GT true  | 2862      | 138        |\n",
      "GT false | 138       | 2862       |\n",
      "Question: Is this photo [*]?\n",
      "\n",
      "=== Overall ===\n",
      "Acc: 95.40%\n",
      "         | Pred true | Pred false |\n",
      "GT true  | 2862      | 138        |\n",
      "GT false | 138       | 2862       |\n",
      "\n",
      "\n",
      "=== Real images ===\n",
      "Acc: 95.40%\n",
      "         | Pred true | Pred false |\n",
      "GT true  | 2862      | 138        |\n",
      "GT false | 0         | 0          |\n",
      "\n",
      "\n",
      "=== Common fake images ===\n",
      "Acc: 93.07%\n",
      "         | Pred true | Pred false |\n",
      "GT true  | 0         | 0          |\n",
      "GT false | 104       | 1396       |\n",
      "\n",
      "\n",
      "=== Uncommon fake images ===\n",
      "Acc: 97.73%\n",
      "         | Pred true | Pred false |\n",
      "GT true  | 0         | 0          |\n",
      "GT false | 34        | 1466       |\n"
     ]
    },
    {
     "name": "stderr",
     "output_type": "stream",
     "text": [
      "\n"
     ]
    }
   ],
   "source": [
    "# csv_path = \"/eva_data0/denny/textual_inversion/60k_6k_6k/test_label.csv\"\n",
    "# csv_path = \"/eva_data0/denny/textual_inversion/60k_6k_6k/test_COCO_SDXL_label.csv\"\n",
    "csv_path = \"/eva_data0/denny/textual_inversion/60k_6k_6k/test_Flickr_IF_label.csv\"\n",
    "instruct.LoadData_batch(csv_path=csv_path)\n",
    "\n",
    "# question = \"Is this photo real?\"\n",
    "question = \"Is this photo [*]?\"\n",
    "acc, confusion_mat, ans_list, labels, label_3class = instruct.QueryImgs_batch(question=question, true_string=\"yes\")\n",
    "instruct.PrintResult(three_class=True)"
   ]
  },
  {
   "cell_type": "code",
   "execution_count": 9,
   "metadata": {},
   "outputs": [
    {
     "name": "stderr",
     "output_type": "stream",
     "text": [
      "100%|██████████| 750/750 [08:32<00:00,  1.46it/s]"
     ]
    },
    {
     "name": "stdout",
     "output_type": "stream",
     "text": [
      "Question: Is this photo real?\n",
      "\n",
      "Acc: 70.20%\n",
      "         | Pred true | Pred false |\n",
      "GT true  | 2968      | 32         |\n",
      "GT false | 1756      | 1244       |\n",
      "Question: Is this photo real?\n",
      "\n",
      "=== Overall ===\n",
      "Acc: 70.20%\n",
      "         | Pred true | Pred false |\n",
      "GT true  | 2968      | 32         |\n",
      "GT false | 1756      | 1244       |\n",
      "\n",
      "\n",
      "=== Real images ===\n",
      "Acc: 98.93%\n",
      "         | Pred true | Pred false |\n",
      "GT true  | 2968      | 32         |\n",
      "GT false | 0         | 0          |\n",
      "\n",
      "\n",
      "=== Common fake images ===\n",
      "Acc: 21.33%\n",
      "         | Pred true | Pred false |\n",
      "GT true  | 0         | 0          |\n",
      "GT false | 1180      | 320        |\n",
      "\n",
      "\n",
      "=== Uncommon fake images ===\n",
      "Acc: 61.60%\n",
      "         | Pred true | Pred false |\n",
      "GT true  | 0         | 0          |\n",
      "GT false | 576       | 924        |\n"
     ]
    },
    {
     "name": "stderr",
     "output_type": "stream",
     "text": [
      "\n"
     ]
    }
   ],
   "source": [
    "# csv_path = \"/eva_data0/denny/textual_inversion/60k_6k_6k/test_label.csv\"\n",
    "# csv_path = \"/eva_data0/denny/textual_inversion/60k_6k_6k/test_COCO_SDXL_label.csv\"\n",
    "csv_path = \"/eva_data0/denny/textual_inversion/60k_6k_6k/test_COCO_IF_label.csv\"\n",
    "instruct.LoadData_batch(csv_path=csv_path)\n",
    "\n",
    "question = \"Is this photo real?\"\n",
    "# question = \"Is this photo [*]?\"\n",
    "acc, confusion_mat, ans_list, labels, label_3class = instruct.QueryImgs_batch(question=question, true_string=\"yes\")\n",
    "instruct.PrintResult(three_class=True)"
   ]
  },
  {
   "cell_type": "code",
   "execution_count": 10,
   "metadata": {},
   "outputs": [
    {
     "name": "stderr",
     "output_type": "stream",
     "text": [
      "100%|██████████| 750/750 [09:30<00:00,  1.31it/s]"
     ]
    },
    {
     "name": "stdout",
     "output_type": "stream",
     "text": [
      "Question: Is this photo [*]?\n",
      "\n",
      "Acc: 95.75%\n",
      "         | Pred true | Pred false |\n",
      "GT true  | 2883      | 117        |\n",
      "GT false | 138       | 2862       |\n",
      "Question: Is this photo [*]?\n",
      "\n",
      "=== Overall ===\n",
      "Acc: 95.75%\n",
      "         | Pred true | Pred false |\n",
      "GT true  | 2883      | 117        |\n",
      "GT false | 138       | 2862       |\n",
      "\n",
      "\n",
      "=== Real images ===\n",
      "Acc: 96.10%\n",
      "         | Pred true | Pred false |\n",
      "GT true  | 2883      | 117        |\n",
      "GT false | 0         | 0          |\n",
      "\n",
      "\n",
      "=== Common fake images ===\n",
      "Acc: 93.07%\n",
      "         | Pred true | Pred false |\n",
      "GT true  | 0         | 0          |\n",
      "GT false | 104       | 1396       |\n",
      "\n",
      "\n",
      "=== Uncommon fake images ===\n",
      "Acc: 97.73%\n",
      "         | Pred true | Pred false |\n",
      "GT true  | 0         | 0          |\n",
      "GT false | 34        | 1466       |\n"
     ]
    },
    {
     "name": "stderr",
     "output_type": "stream",
     "text": [
      "\n"
     ]
    }
   ],
   "source": [
    "# csv_path = \"/eva_data0/denny/textual_inversion/60k_6k_6k/test_label.csv\"\n",
    "# csv_path = \"/eva_data0/denny/textual_inversion/60k_6k_6k/test_COCO_SDXL_label.csv\"\n",
    "csv_path = \"/eva_data0/denny/textual_inversion/60k_6k_6k/test_COCO_IF_label.csv\"\n",
    "instruct.LoadData_batch(csv_path=csv_path)\n",
    "\n",
    "# question = \"Is this photo real?\"\n",
    "question = \"Is this photo [*]?\"\n",
    "acc, confusion_mat, ans_list, labels, label_3class = instruct.QueryImgs_batch(question=question, true_string=\"yes\")\n",
    "instruct.PrintResult(three_class=True)"
   ]
  },
  {
   "cell_type": "code",
   "execution_count": 7,
   "metadata": {},
   "outputs": [
    {
     "name": "stderr",
     "output_type": "stream",
     "text": [
      "  0%|          | 0/750 [00:00<?, ?it/s]"
     ]
    },
    {
     "name": "stderr",
     "output_type": "stream",
     "text": [
      "100%|██████████| 750/750 [08:18<00:00,  1.50it/s]\n"
     ]
    },
    {
     "name": "stdout",
     "output_type": "stream",
     "text": [
      "Question: Is this photo real?\n",
      "\n",
      "Acc: 67.77%\n",
      "         | Pred true | Pred false |\n",
      "GT true  | 2968      | 32         |\n",
      "GT false | 1902      | 1098       |\n",
      "Question: Is this photo real?\n",
      "\n",
      "=== Overall ===\n",
      "Acc: 67.77%\n",
      "         | Pred true | Pred false |\n",
      "GT true  | 2968      | 32         |\n",
      "GT false | 1902      | 1098       |\n",
      "\n",
      "\n",
      "=== Real images ===\n",
      "Acc: 98.93%\n",
      "         | Pred true | Pred false |\n",
      "GT true  | 2968      | 32         |\n",
      "GT false | 0         | 0          |\n",
      "\n",
      "\n",
      "=== Common fake images ===\n",
      "Acc: 23.40%\n",
      "         | Pred true | Pred false |\n",
      "GT true  | 0         | 0          |\n",
      "GT false | 1149      | 351        |\n",
      "\n",
      "\n",
      "=== Uncommon fake images ===\n",
      "Acc: 49.80%\n",
      "         | Pred true | Pred false |\n",
      "GT true  | 0         | 0          |\n",
      "GT false | 753       | 747        |\n"
     ]
    }
   ],
   "source": [
    "# csv_path = \"/eva_data0/denny/textual_inversion/60k_6k_6k/test_label.csv\"\n",
    "csv_path = \"/eva_data0/denny/textual_inversion/60k_6k_6k/test_COCO_SDXL_label.csv\"\n",
    "instruct.LoadData_batch(csv_path=csv_path)\n",
    "\n",
    "question = \"Is this photo real?\"\n",
    "# question = \"Is this photo [*]?\"\n",
    "acc, confusion_mat, ans_list, labels, label_3class = instruct.QueryImgs_batch(question=question, true_string=\"yes\")\n",
    "instruct.PrintResult(three_class=True)"
   ]
  },
  {
   "cell_type": "code",
   "execution_count": 8,
   "metadata": {},
   "outputs": [
    {
     "name": "stderr",
     "output_type": "stream",
     "text": [
      "  0%|          | 0/750 [00:00<?, ?it/s]"
     ]
    },
    {
     "name": "stderr",
     "output_type": "stream",
     "text": [
      "100%|██████████| 750/750 [09:20<00:00,  1.34it/s]"
     ]
    },
    {
     "name": "stdout",
     "output_type": "stream",
     "text": [
      "Question: Is this photo [*]?\n",
      "\n",
      "Acc: 95.58%\n",
      "         | Pred true | Pred false |\n",
      "GT true  | 2883      | 117        |\n",
      "GT false | 148       | 2852       |\n",
      "Question: Is this photo [*]?\n",
      "\n",
      "=== Overall ===\n",
      "Acc: 95.58%\n",
      "         | Pred true | Pred false |\n",
      "GT true  | 2883      | 117        |\n",
      "GT false | 148       | 2852       |\n",
      "\n",
      "\n",
      "=== Real images ===\n",
      "Acc: 96.10%\n",
      "         | Pred true | Pred false |\n",
      "GT true  | 2883      | 117        |\n",
      "GT false | 0         | 0          |\n",
      "\n",
      "\n",
      "=== Common fake images ===\n",
      "Acc: 93.20%\n",
      "         | Pred true | Pred false |\n",
      "GT true  | 0         | 0          |\n",
      "GT false | 102       | 1398       |\n",
      "\n",
      "\n",
      "=== Uncommon fake images ===\n",
      "Acc: 96.93%\n",
      "         | Pred true | Pred false |\n",
      "GT true  | 0         | 0          |\n",
      "GT false | 46        | 1454       |\n"
     ]
    },
    {
     "name": "stderr",
     "output_type": "stream",
     "text": [
      "\n"
     ]
    }
   ],
   "source": [
    "# csv_path = \"/eva_data0/denny/textual_inversion/60k_6k_6k/test_label.csv\"\n",
    "csv_path = \"/eva_data0/denny/textual_inversion/60k_6k_6k/test_COCO_SDXL_label.csv\"\n",
    "instruct.LoadData_batch(csv_path=csv_path)\n",
    "\n",
    "# question = \"Is this photo real?\"\n",
    "question = \"Is this photo [*]?\"\n",
    "acc, confusion_mat, ans_list, labels, label_3class = instruct.QueryImgs_batch(question=question, true_string=\"yes\")\n",
    "instruct.PrintResult(three_class=True)"
   ]
  },
  {
   "cell_type": "code",
   "execution_count": 9,
   "metadata": {},
   "outputs": [
    {
     "name": "stderr",
     "output_type": "stream",
     "text": [
      "  0%|          | 0/750 [00:00<?, ?it/s]"
     ]
    },
    {
     "name": "stderr",
     "output_type": "stream",
     "text": [
      "100%|██████████| 750/750 [08:07<00:00,  1.54it/s]"
     ]
    },
    {
     "name": "stdout",
     "output_type": "stream",
     "text": [
      "Question: Is this photo real?\n",
      "\n",
      "Acc: 68.13%\n",
      "         | Pred true | Pred false |\n",
      "GT true  | 2990      | 10         |\n",
      "GT false | 1902      | 1098       |\n",
      "Question: Is this photo real?\n",
      "\n",
      "=== Overall ===\n",
      "Acc: 68.13%\n",
      "         | Pred true | Pred false |\n",
      "GT true  | 2990      | 10         |\n",
      "GT false | 1902      | 1098       |\n",
      "\n",
      "\n",
      "=== Real images ===\n",
      "Acc: 99.67%\n",
      "         | Pred true | Pred false |\n",
      "GT true  | 2990      | 10         |\n",
      "GT false | 0         | 0          |\n",
      "\n",
      "\n",
      "=== Common fake images ===\n",
      "Acc: 23.40%\n",
      "         | Pred true | Pred false |\n",
      "GT true  | 0         | 0          |\n",
      "GT false | 1149      | 351        |\n",
      "\n",
      "\n",
      "=== Uncommon fake images ===\n",
      "Acc: 49.80%\n",
      "         | Pred true | Pred false |\n",
      "GT true  | 0         | 0          |\n",
      "GT false | 753       | 747        |\n"
     ]
    },
    {
     "name": "stderr",
     "output_type": "stream",
     "text": [
      "\n"
     ]
    }
   ],
   "source": [
    "# csv_path = \"/eva_data0/denny/textual_inversion/60k_6k_6k/test_label.csv\"\n",
    "csv_path = \"/eva_data0/denny/textual_inversion/60k_6k_6k/test_Flickr_SDXL_label.csv\"\n",
    "instruct.LoadData_batch(csv_path=csv_path)\n",
    "\n",
    "question = \"Is this photo real?\"\n",
    "# question = \"Is this photo [*]?\"\n",
    "acc, confusion_mat, ans_list, labels, label_3class = instruct.QueryImgs_batch(question=question, true_string=\"yes\")\n",
    "instruct.PrintResult(three_class=True)"
   ]
  },
  {
   "cell_type": "code",
   "execution_count": 10,
   "metadata": {},
   "outputs": [
    {
     "name": "stderr",
     "output_type": "stream",
     "text": [
      "  0%|          | 0/750 [00:00<?, ?it/s]"
     ]
    },
    {
     "name": "stderr",
     "output_type": "stream",
     "text": [
      "100%|██████████| 750/750 [09:07<00:00,  1.37it/s]"
     ]
    },
    {
     "name": "stdout",
     "output_type": "stream",
     "text": [
      "Question: Is this photo [*]?\n",
      "\n",
      "Acc: 95.23%\n",
      "         | Pred true | Pred false |\n",
      "GT true  | 2862      | 138        |\n",
      "GT false | 148       | 2852       |\n",
      "Question: Is this photo [*]?\n",
      "\n",
      "=== Overall ===\n",
      "Acc: 95.23%\n",
      "         | Pred true | Pred false |\n",
      "GT true  | 2862      | 138        |\n",
      "GT false | 148       | 2852       |\n",
      "\n",
      "\n",
      "=== Real images ===\n",
      "Acc: 95.40%\n",
      "         | Pred true | Pred false |\n",
      "GT true  | 2862      | 138        |\n",
      "GT false | 0         | 0          |\n",
      "\n",
      "\n",
      "=== Common fake images ===\n",
      "Acc: 93.20%\n",
      "         | Pred true | Pred false |\n",
      "GT true  | 0         | 0          |\n",
      "GT false | 102       | 1398       |\n",
      "\n",
      "\n",
      "=== Uncommon fake images ===\n",
      "Acc: 96.93%\n",
      "         | Pred true | Pred false |\n",
      "GT true  | 0         | 0          |\n",
      "GT false | 46        | 1454       |\n"
     ]
    },
    {
     "name": "stderr",
     "output_type": "stream",
     "text": [
      "\n"
     ]
    }
   ],
   "source": [
    "# csv_path = \"/eva_data0/denny/textual_inversion/60k_6k_6k/test_label.csv\"\n",
    "csv_path = \"/eva_data0/denny/textual_inversion/60k_6k_6k/test_Flickr_SDXL_label.csv\"\n",
    "instruct.LoadData_batch(csv_path=csv_path)\n",
    "\n",
    "# question = \"Is this photo real?\"\n",
    "question = \"Is this photo [*]?\"\n",
    "acc, confusion_mat, ans_list, labels, label_3class = instruct.QueryImgs_batch(question=question, true_string=\"yes\")\n",
    "instruct.PrintResult(three_class=True)"
   ]
  },
  {
   "cell_type": "code",
   "execution_count": 22,
   "metadata": {},
   "outputs": [
    {
     "name": "stderr",
     "output_type": "stream",
     "text": [
      "100%|██████████| 750/750 [08:18<00:00,  1.50it/s]"
     ]
    },
    {
     "name": "stdout",
     "output_type": "stream",
     "text": [
      "Question: Is this photo real?\n",
      "\n",
      "Acc: 79.92%\n",
      "         | Pred true | Pred false |\n",
      "GT true  | 2990      | 10         |\n",
      "GT false | 1195      | 1805       |\n",
      "Acc: 79.92%\n",
      "         | Pred true | Pred false |\n",
      "GT true  | 2990      | 10         |\n",
      "GT false | 1195      | 1805       |\n",
      "Question: Is this photo real?\n",
      "\n",
      "=== Overall ===\n",
      "Acc: 79.92%\n",
      "         | Pred true | Pred false |\n",
      "GT true  | 2990      | 10         |\n",
      "GT false | 1195      | 1805       |\n",
      "\n",
      "\n",
      "=== Real images ===\n",
      "Acc: 99.67%\n",
      "         | Pred true | Pred false |\n",
      "GT true  | 2990      | 10         |\n",
      "GT false | 0         | 0          |\n",
      "\n",
      "\n",
      "=== Common fake images ===\n",
      "Acc: 43.07%\n",
      "         | Pred true | Pred false |\n",
      "GT true  | 0         | 0          |\n",
      "GT false | 854       | 646        |\n",
      "\n",
      "\n",
      "=== Uncommon fake images ===\n",
      "Acc: 77.27%\n",
      "         | Pred true | Pred false |\n",
      "GT true  | 0         | 0          |\n",
      "GT false | 341       | 1159       |\n"
     ]
    },
    {
     "name": "stderr",
     "output_type": "stream",
     "text": [
      "\n"
     ]
    }
   ],
   "source": [
    "# csv_path = \"/eva_data0/denny/textual_inversion/60k_6k_6k/test_label.csv\"\n",
    "# csv_path = \"/eva_data0/denny/textual_inversion/60k_6k_6k/test_COCO_SDXL_label.csv\"\n",
    "csv_path = \"/eva_data0/denny/textual_inversion/60k_6k_6k/test_Flickr_SD2_label.csv\"\n",
    "instruct.LoadData_batch(csv_path=csv_path)\n",
    "\n",
    "question = \"Is this photo real?\"\n",
    "# question = \"Is this photo [*]?\"\n",
    "acc, confusion_mat, ans_list, labels, label_3class = instruct.QueryImgs_batch(question=question, true_string=\"yes\")\n",
    "instruct.PrintResult(three_class=True)"
   ]
  },
  {
   "cell_type": "code",
   "execution_count": 24,
   "metadata": {},
   "outputs": [
    {
     "name": "stderr",
     "output_type": "stream",
     "text": [
      "100%|██████████| 750/750 [09:22<00:00,  1.33it/s]\n"
     ]
    },
    {
     "name": "stdout",
     "output_type": "stream",
     "text": [
      "Question: Is this photo [*]?\n",
      "\n",
      "Acc: 96.60%\n",
      "         | Pred true | Pred false |\n",
      "GT true  | 2862      | 138        |\n",
      "GT false | 66        | 2934       |\n",
      "Acc: 96.60%\n",
      "         | Pred true | Pred false |\n",
      "GT true  | 2862      | 138        |\n",
      "GT false | 66        | 2934       |\n"
     ]
    }
   ],
   "source": [
    "# csv_path = \"/eva_data0/denny/textual_inversion/60k_6k_6k/test_label.csv\"\n",
    "# csv_path = \"/eva_data0/denny/textual_inversion/60k_6k_6k/test_COCO_SDXL_label.csv\"\n",
    "csv_path = \"/eva_data0/denny/textual_inversion/60k_6k_6k/test_Flickr_SD2_label.csv\"\n",
    "instruct.LoadData_batch(csv_path=csv_path)\n",
    "\n",
    "# question = \"Is this photo real?\"\n",
    "question = \"Is this photo [*]?\"\n",
    "acc, confusion_mat, ans_list, labels, label_3class = instruct.QueryImgs_batch(question=question, true_string=\"yes\")"
   ]
  },
  {
   "cell_type": "code",
   "execution_count": 25,
   "metadata": {},
   "outputs": [
    {
     "name": "stdout",
     "output_type": "stream",
     "text": [
      "Question: Is this photo [*]?\n",
      "\n",
      "=== Overall ===\n",
      "Acc: 96.60%\n",
      "         | Pred true | Pred false |\n",
      "GT true  | 2862      | 138        |\n",
      "GT false | 66        | 2934       |\n",
      "\n",
      "\n",
      "=== Real images ===\n",
      "Acc: 95.40%\n",
      "         | Pred true | Pred false |\n",
      "GT true  | 2862      | 138        |\n",
      "GT false | 0         | 0          |\n",
      "\n",
      "\n",
      "=== Common fake images ===\n",
      "Acc: 96.80%\n",
      "         | Pred true | Pred false |\n",
      "GT true  | 0         | 0          |\n",
      "GT false | 48        | 1452       |\n",
      "\n",
      "\n",
      "=== Uncommon fake images ===\n",
      "Acc: 98.80%\n",
      "         | Pred true | Pred false |\n",
      "GT true  | 0         | 0          |\n",
      "GT false | 18        | 1482       |\n"
     ]
    }
   ],
   "source": [
    "instruct.PrintResult(three_class=True)"
   ]
  },
  {
   "cell_type": "code",
   "execution_count": 8,
   "metadata": {},
   "outputs": [
    {
     "name": "stdout",
     "output_type": "stream",
     "text": [
      "yes\n"
     ]
    }
   ],
   "source": [
    "#image = Image.open(\"/eva_data0/denny/coco2014/val2014/COCO_val2014_000000000042.jpg\")\n",
    "image = Image.open(\"/eva_data0/denny/sd2/coco2014_train/samples/00000.png\")\n",
    "questions = [\"Is this photo real?\"]\n",
    "ans = instruct.Query(image, questions)\n",
    "print(ans)"
   ]
  },
  {
   "cell_type": "code",
   "execution_count": 10,
   "metadata": {},
   "outputs": [
    {
     "name": "stderr",
     "output_type": "stream",
     "text": [
      "Loading imgs from /eva_data0/denny/coco2014/train2014: 100%|██████████| 200/200 [00:03<00:00, 51.07it/s]\n",
      "Loading imgs from /eva_data0/denny/SemanticError/SD2/0_real/: 100%|██████████| 100/100 [00:02<00:00, 33.49it/s]\n",
      "Loading imgs from /eva_data0/denny/SemanticError/SD2/1_fake/: 100%|██████████| 100/100 [00:03<00:00, 32.72it/s]\n"
     ]
    }
   ],
   "source": [
    "real_dir = \"/eva_data0/denny/coco2014/train2014\"\n",
    "fake_common_dir = \"/eva_data0/denny/SemanticError/SD2/0_real/\"\n",
    "fake_uncommon_dir = \"/eva_data0/denny/SemanticError/SD2/1_fake/\"\n",
    "real_num = 200\n",
    "num = [real_num, real_num//2, real_num//2]\n",
    "#num = [50, 25, 25]\n",
    "instruct.LoadData3Class(real_dir, fake_common_dir, fake_uncommon_dir, num)"
   ]
  },
  {
   "cell_type": "code",
   "execution_count": 11,
   "metadata": {},
   "outputs": [
    {
     "name": "stderr",
     "output_type": "stream",
     "text": [
      "Answering: 100%|██████████| 400/400 [02:17<00:00,  2.90it/s]"
     ]
    },
    {
     "name": "stdout",
     "output_type": "stream",
     "text": [
      "Question: Is this photo [*]?\n",
      "\n",
      "Acc: 96.25%\n",
      "         | Pred true | Pred false |\n",
      "GT true  | 186       | 14         |\n",
      "GT false | 1         | 199        |\n"
     ]
    },
    {
     "name": "stderr",
     "output_type": "stream",
     "text": [
      "\n"
     ]
    }
   ],
   "source": [
    "acc1, mat1, ans1 = instruct.QueryImgs(\"Is this photo [*]?\", true_string=\"yes\")"
   ]
  },
  {
   "cell_type": "code",
   "execution_count": 12,
   "metadata": {},
   "outputs": [
    {
     "name": "stdout",
     "output_type": "stream",
     "text": [
      "Question: Is this photo [*]?\n",
      "\n",
      "=== Overall ===\n",
      "Acc: 96.25%\n",
      "         | Pred true | Pred false |\n",
      "GT true  | 186       | 14         |\n",
      "GT false | 1         | 199        |\n",
      "\n",
      "\n",
      "=== Real images ===\n",
      "Acc: 93.00%\n",
      "         | Pred true | Pred false |\n",
      "GT true  | 186       | 14         |\n",
      "GT false | 0         | 0          |\n",
      "\n",
      "\n",
      "=== Common fake images ===\n",
      "Acc: 99.00%\n",
      "         | Pred true | Pred false |\n",
      "GT true  | 0         | 0          |\n",
      "GT false | 1         | 99         |\n",
      "\n",
      "\n",
      "=== Uncommon fake images ===\n",
      "Acc: 100.00%\n",
      "         | Pred true | Pred false |\n",
      "GT true  | 0         | 0          |\n",
      "GT false | 0         | 100        |\n"
     ]
    }
   ],
   "source": [
    "instruct.PrintResult(three_class=True)"
   ]
  },
  {
   "cell_type": "code",
   "execution_count": 15,
   "metadata": {},
   "outputs": [
    {
     "name": "stderr",
     "output_type": "stream",
     "text": [
      "Answering: 100%|██████████| 2000/2000 [09:48<00:00,  3.40it/s]"
     ]
    },
    {
     "name": "stdout",
     "output_type": "stream",
     "text": [
      "Question: Is this photo common in real world?\n",
      "\n",
      "Acc: 79.40%\n",
      "         | Pred true | Pred false |\n",
      "GT true  | 819       | 181        |\n",
      "GT false | 231       | 769        |\n"
     ]
    },
    {
     "name": "stderr",
     "output_type": "stream",
     "text": [
      "\n"
     ]
    }
   ],
   "source": [
    "acc1, mat1, ans1 = instruct.QueryImgs(\"Is this photo common in real world?\", true_string=\"yes\")"
   ]
  },
  {
   "cell_type": "code",
   "execution_count": 16,
   "metadata": {},
   "outputs": [
    {
     "name": "stdout",
     "output_type": "stream",
     "text": [
      "Question: Is this photo common in real world?\n",
      "\n",
      "=== Overall ===\n",
      "Acc: 79.40%\n",
      "         | Pred true | Pred false |\n",
      "GT true  | 819       | 181        |\n",
      "GT false | 231       | 769        |\n",
      "\n",
      "\n",
      "=== Common fake images ===\n",
      "Acc: 64.00%\n",
      "         | Pred true | Pred false |\n",
      "GT true  | 0         | 0          |\n",
      "GT false | 180       | 320        |\n",
      "\n",
      "\n",
      "=== Uncommon fake images ===\n",
      "Acc: 89.80%\n",
      "         | Pred true | Pred false |\n",
      "GT true  | 0         | 0          |\n",
      "GT false | 51        | 449        |\n"
     ]
    }
   ],
   "source": [
    "instruct.PrintResult(three_class=True)"
   ]
  },
  {
   "cell_type": "code",
   "execution_count": 25,
   "metadata": {},
   "outputs": [
    {
     "name": "stdout",
     "output_type": "stream",
     "text": [
      "=== Real images ===\n",
      "Acc: 81.90%\n",
      "         | Pred true | Pred false |\n",
      "GT true  | 819       | 181        |\n",
      "GT false | 231       | 769        |\n"
     ]
    }
   ],
   "source": [
    "import numpy as np\n",
    "mat = np.array([[819,181],[231,769]])\n",
    "print(f'=== Real images ===')\n",
    "print(f'Acc: {(mat[0,0]/1000)*100:.2f}%')\n",
    "instruct.PrintConfusion(mat)"
   ]
  },
  {
   "cell_type": "code",
   "execution_count": 17,
   "metadata": {},
   "outputs": [
    {
     "name": "stderr",
     "output_type": "stream",
     "text": [
      "Answering: 100%|██████████| 2000/2000 [15:43<00:00,  2.12it/s]"
     ]
    },
    {
     "name": "stdout",
     "output_type": "stream",
     "text": [
      "Question: Is this photo generated by a model?\n",
      "\n",
      "Acc: 66.10%\n",
      "         | Pred true | Pred false |\n",
      "GT true  | 658       | 342        |\n",
      "GT false | 336       | 664        |\n"
     ]
    },
    {
     "name": "stderr",
     "output_type": "stream",
     "text": [
      "\n"
     ]
    }
   ],
   "source": [
    "question = \"Is this photo generated by a model?\"\n",
    "acc2, mat2, ans2 = instruct.QueryImgs(question, true_string=\"no\")"
   ]
  },
  {
   "cell_type": "code",
   "execution_count": 18,
   "metadata": {},
   "outputs": [
    {
     "name": "stdout",
     "output_type": "stream",
     "text": [
      "Question: Is this photo generated by a model?\n",
      "\n",
      "=== Overall ===\n",
      "Acc: 66.10%\n",
      "         | Pred true | Pred false |\n",
      "GT true  | 658       | 342        |\n",
      "GT false | 336       | 664        |\n",
      "\n",
      "\n",
      "=== Common fake images ===\n",
      "Acc: 71.80%\n",
      "         | Pred true | Pred false |\n",
      "GT true  | 0         | 0          |\n",
      "GT false | 141       | 359        |\n",
      "\n",
      "\n",
      "=== Uncommon fake images ===\n",
      "Acc: 61.00%\n",
      "         | Pred true | Pred false |\n",
      "GT true  | 0         | 0          |\n",
      "GT false | 195       | 305        |\n"
     ]
    }
   ],
   "source": [
    "instruct.PrintResult(three_class=True)"
   ]
  },
  {
   "cell_type": "code",
   "execution_count": 19,
   "metadata": {},
   "outputs": [
    {
     "name": "stdout",
     "output_type": "stream",
     "text": [
      "Accuracy: 72.85%\n",
      "         | Pred true | Pred false |\n",
      "GT true  | 560       | 440        |\n",
      "GT false | 103       | 897        |\n"
     ]
    }
   ],
   "source": [
    "acc, confusion_mat, ans = instruct.MultipleAns(ans1, ans2)"
   ]
  },
  {
   "cell_type": "code",
   "execution_count": 20,
   "metadata": {},
   "outputs": [
    {
     "name": "stdout",
     "output_type": "stream",
     "text": [
      "Question: Is this photo generated by a model?\n",
      "\n",
      "=== Overall ===\n",
      "Acc: 72.85%\n",
      "         | Pred true | Pred false |\n",
      "GT true  | 560       | 440        |\n",
      "GT false | 103       | 897        |\n",
      "\n",
      "\n",
      "=== Common fake images ===\n",
      "Acc: 85.80%\n",
      "         | Pred true | Pred false |\n",
      "GT true  | 0         | 0          |\n",
      "GT false | 71        | 429        |\n",
      "\n",
      "\n",
      "=== Uncommon fake images ===\n",
      "Acc: 93.60%\n",
      "         | Pred true | Pred false |\n",
      "GT true  | 0         | 0          |\n",
      "GT false | 32        | 468        |\n"
     ]
    }
   ],
   "source": [
    "instruct.PrintResult(three_class=True)"
   ]
  },
  {
   "cell_type": "code",
   "execution_count": 75,
   "metadata": {},
   "outputs": [
    {
     "name": "stderr",
     "output_type": "stream",
     "text": [
      "Answering: 100%|██████████| 2000/2000 [10:16<00:00,  3.25it/s]"
     ]
    },
    {
     "name": "stdout",
     "output_type": "stream",
     "text": [
      "Question: Is this photo generated by AI?\n",
      "\n",
      "Acc: 50.75%\n",
      "         | Pred true | Pred false |\n",
      "GT true  | 998       | 2          |\n",
      "GT false | 983       | 17         |\n",
      "Question: Is this photo generated by AI?\n",
      "\n",
      "=== Overall ===\n",
      "Acc: 50.75%\n",
      "         | Pred true | Pred false |\n",
      "GT true  | 998       | 2          |\n",
      "GT false | 983       | 17         |\n",
      "\n",
      "\n",
      "=== Common fake images ===\n",
      "Acc: 2.80%\n",
      "         | Pred true | Pred false |\n",
      "GT true  | 0         | 0          |\n",
      "GT false | 486       | 14         |\n",
      "\n",
      "\n",
      "=== Uncommon fake images ===\n",
      "Acc: 0.60%\n",
      "         | Pred true | Pred false |\n",
      "GT true  | 0         | 0          |\n",
      "GT false | 497       | 3          |\n"
     ]
    },
    {
     "name": "stderr",
     "output_type": "stream",
     "text": [
      "\n"
     ]
    }
   ],
   "source": [
    "question = \"Is this photo generated by AI?\"\n",
    "instruct.QueryImgs(question, true_string=\"no\")\n",
    "instruct.PrintResult(three_class=True)"
   ]
  },
  {
   "cell_type": "code",
   "execution_count": 76,
   "metadata": {},
   "outputs": [
    {
     "name": "stdout",
     "output_type": "stream",
     "text": [
      "Question: Is this photo generated by AI?\n",
      "\n",
      "=== Overall ===\n",
      "Acc: 50.75%\n",
      "         | Pred true | Pred false |\n",
      "GT true  | 998       | 2          |\n",
      "GT false | 983       | 17         |\n",
      "\n",
      "\n",
      "=== Common fake images ===\n",
      "Acc: 2.80%\n",
      "         | Pred true | Pred false |\n",
      "GT true  | 0         | 0          |\n",
      "GT false | 486       | 14         |\n",
      "\n",
      "\n",
      "=== Uncommon fake images ===\n",
      "Acc: 0.60%\n",
      "         | Pred true | Pred false |\n",
      "GT true  | 0         | 0          |\n",
      "GT false | 497       | 3          |\n"
     ]
    }
   ],
   "source": [
    "instruct.PrintResult(three_class=True)"
   ]
  },
  {
   "cell_type": "code",
   "execution_count": 16,
   "metadata": {},
   "outputs": [
    {
     "name": "stderr",
     "output_type": "stream",
     "text": [
      "Answering: 100%|██████████| 200/200 [01:25<00:00,  2.35it/s]"
     ]
    },
    {
     "name": "stdout",
     "output_type": "stream",
     "text": [
      "Question: Is this photo common in real world?\n",
      "\n",
      "Acc: 81.00%\n",
      "         | Pred true | Pred false |\n",
      "GT true  | 82        | 18         |\n",
      "GT false | 20        | 80         |\n",
      "Question: Is this photo common in real world?\n",
      "\n",
      "=== Overall ===\n",
      "Acc: 81.00%\n",
      "         | Pred true | Pred false |\n",
      "GT true  | 82        | 18         |\n",
      "GT false | 20        | 80         |\n",
      "\n",
      "\n",
      "=== Common fake images ===\n",
      "Acc: 74.00%\n",
      "         | Pred true | Pred false |\n",
      "GT true  | 0         | 0          |\n",
      "GT false | 13        | 37         |\n",
      "\n",
      "\n",
      "=== Uncommon fake images ===\n",
      "Acc: 86.00%\n",
      "         | Pred true | Pred false |\n",
      "GT true  | 0         | 0          |\n",
      "GT false | 7         | 43         |\n"
     ]
    },
    {
     "name": "stderr",
     "output_type": "stream",
     "text": [
      "\n"
     ]
    }
   ],
   "source": [
    "question = \"Is this photo common in real world?\"\n",
    "acc1, mat1, ans1 = instruct.QueryImgs(question, true_string=\"yes\")\n",
    "instruct.PrintResult(three_class=True)"
   ]
  },
  {
   "cell_type": "code",
   "execution_count": 79,
   "metadata": {},
   "outputs": [
    {
     "name": "stdout",
     "output_type": "stream",
     "text": [
      "Question: Is this photo common in real world?\n",
      "\n",
      "=== Overall ===\n",
      "Acc: 80.25%\n",
      "         | Pred true | Pred false |\n",
      "GT true  | 836       | 164        |\n",
      "GT false | 231       | 769        |\n",
      "\n",
      "\n",
      "=== Common fake images ===\n",
      "Acc: 64.00%\n",
      "         | Pred true | Pred false |\n",
      "GT true  | 0         | 0          |\n",
      "GT false | 180       | 320        |\n",
      "\n",
      "\n",
      "=== Uncommon fake images ===\n",
      "Acc: 89.80%\n",
      "         | Pred true | Pred false |\n",
      "GT true  | 0         | 0          |\n",
      "GT false | 51        | 449        |\n"
     ]
    }
   ],
   "source": [
    "instruct.PrintResult(three_class=True)"
   ]
  },
  {
   "cell_type": "code",
   "execution_count": 81,
   "metadata": {},
   "outputs": [
    {
     "name": "stderr",
     "output_type": "stream",
     "text": [
      "Answering: 100%|██████████| 2000/2000 [16:25<00:00,  2.03it/s]"
     ]
    },
    {
     "name": "stdout",
     "output_type": "stream",
     "text": [
      "Question: Is this photo possible in real world?\n",
      "\n",
      "Acc: 57.45%\n",
      "         | Pred true | Pred false |\n",
      "GT true  | 740       | 260        |\n",
      "GT false | 591       | 409        |\n",
      "Question: Is this photo possible in real world?\n",
      "\n",
      "=== Overall ===\n",
      "Acc: 57.45%\n",
      "         | Pred true | Pred false |\n",
      "GT true  | 740       | 260        |\n",
      "GT false | 591       | 409        |\n",
      "\n",
      "\n",
      "=== Common fake images ===\n",
      "Acc: 39.80%\n",
      "         | Pred true | Pred false |\n",
      "GT true  | 0         | 0          |\n",
      "GT false | 301       | 199        |\n",
      "\n",
      "\n",
      "=== Uncommon fake images ===\n",
      "Acc: 42.00%\n",
      "         | Pred true | Pred false |\n",
      "GT true  | 0         | 0          |\n",
      "GT false | 290       | 210        |\n"
     ]
    },
    {
     "name": "stderr",
     "output_type": "stream",
     "text": [
      "\n"
     ]
    }
   ],
   "source": [
    "question = \"Is this photo possible in real world?\"\n",
    "instruct.QueryImgs(question, true_string=\"yes\")\n",
    "instruct.PrintResult(three_class=True)"
   ]
  },
  {
   "cell_type": "code",
   "execution_count": 82,
   "metadata": {},
   "outputs": [
    {
     "name": "stdout",
     "output_type": "stream",
     "text": [
      "Question: Is this photo possible in real world?\n",
      "\n",
      "=== Overall ===\n",
      "Acc: 57.45%\n",
      "         | Pred true | Pred false |\n",
      "GT true  | 740       | 260        |\n",
      "GT false | 591       | 409        |\n",
      "\n",
      "\n",
      "=== Common fake images ===\n",
      "Acc: 39.80%\n",
      "         | Pred true | Pred false |\n",
      "GT true  | 0         | 0          |\n",
      "GT false | 301       | 199        |\n",
      "\n",
      "\n",
      "=== Uncommon fake images ===\n",
      "Acc: 42.00%\n",
      "         | Pred true | Pred false |\n",
      "GT true  | 0         | 0          |\n",
      "GT false | 290       | 210        |\n"
     ]
    }
   ],
   "source": [
    "instruct.PrintResult(three_class=True)"
   ]
  },
  {
   "cell_type": "code",
   "execution_count": 45,
   "metadata": {},
   "outputs": [
    {
     "name": "stderr",
     "output_type": "stream",
     "text": [
      "Loading imgs from /eva_data0/denny/coco2014/train2014: 100%|██████████| 1000/1000 [00:03<00:00, 252.17it/s]\n",
      "Loading imgs from /eva_data0/denny/SemanticError/IF/0_real/: 100%|██████████| 500/500 [00:13<00:00, 35.73it/s]\n",
      "Loading imgs from /eva_data0/denny/SemanticError/IF/1_fake/: 100%|██████████| 500/500 [00:14<00:00, 33.47it/s]\n"
     ]
    }
   ],
   "source": [
    "real_dir = \"/eva_data0/denny/coco2014/train2014\"\n",
    "fake_common_dir = \"/eva_data0/denny/SemanticError/IF/0_real/\"\n",
    "fake_uncommon_dir = \"/eva_data0/denny/SemanticError/IF/1_fake/\"\n",
    "real_num = 1000\n",
    "num = [real_num, real_num//2, real_num//2]\n",
    "#num = [50, 25, 25]\n",
    "instruct.LoadData3Class(real_dir, fake_common_dir, fake_uncommon_dir, num)"
   ]
  },
  {
   "cell_type": "code",
   "execution_count": 49,
   "metadata": {},
   "outputs": [
    {
     "name": "stderr",
     "output_type": "stream",
     "text": [
      "Answering: 100%|██████████| 2000/2000 [09:40<00:00,  3.44it/s]"
     ]
    },
    {
     "name": "stdout",
     "output_type": "stream",
     "text": [
      "Question: Is this photo common in real world?\n",
      "\n",
      "Acc: 74.95%\n",
      "         | Pred true | Pred false |\n",
      "GT true  | 836       | 164        |\n",
      "GT false | 337       | 663        |\n",
      "Question: Is this photo common in real world?\n",
      "\n",
      "=== Overall ===\n",
      "Acc: 74.95%\n",
      "         | Pred true | Pred false |\n",
      "GT true  | 836       | 164        |\n",
      "GT false | 337       | 663        |\n",
      "\n",
      "\n",
      "=== Common fake images ===\n",
      "Acc: 39.60%\n",
      "         | Pred true | Pred false |\n",
      "GT true  | 0         | 0          |\n",
      "GT false | 302       | 198        |\n",
      "\n",
      "\n",
      "=== Uncommon fake images ===\n",
      "Acc: 93.00%\n",
      "         | Pred true | Pred false |\n",
      "GT true  | 0         | 0          |\n",
      "GT false | 35        | 465        |\n"
     ]
    },
    {
     "name": "stderr",
     "output_type": "stream",
     "text": [
      "\n"
     ]
    }
   ],
   "source": [
    "question = \"Is this photo common in real world?\"\n",
    "acc1, mat1, ans1 = instruct.QueryImgs(question, true_string=\"yes\")\n",
    "instruct.PrintResult(three_class=True)"
   ]
  },
  {
   "cell_type": "code",
   "execution_count": 50,
   "metadata": {},
   "outputs": [
    {
     "name": "stdout",
     "output_type": "stream",
     "text": [
      "Question: Is this photo common in real world?\n",
      "\n",
      "=== Overall ===\n",
      "Acc: 74.95%\n",
      "         | Pred true | Pred false |\n",
      "GT true  | 836       | 164        |\n",
      "GT false | 337       | 663        |\n",
      "\n",
      "\n",
      "=== Common fake images ===\n",
      "Acc: 39.60%\n",
      "         | Pred true | Pred false |\n",
      "GT true  | 0         | 0          |\n",
      "GT false | 302       | 198        |\n",
      "\n",
      "\n",
      "=== Uncommon fake images ===\n",
      "Acc: 93.00%\n",
      "         | Pred true | Pred false |\n",
      "GT true  | 0         | 0          |\n",
      "GT false | 35        | 465        |\n"
     ]
    }
   ],
   "source": [
    "instruct.PrintResult(three_class=True)"
   ]
  },
  {
   "cell_type": "code",
   "execution_count": 51,
   "metadata": {},
   "outputs": [
    {
     "name": "stderr",
     "output_type": "stream",
     "text": [
      "Answering: 100%|██████████| 2000/2000 [17:05<00:00,  1.95it/s]"
     ]
    },
    {
     "name": "stdout",
     "output_type": "stream",
     "text": [
      "Question: Is this photo generated by a model?\n",
      "\n",
      "Acc: 63.95%\n",
      "         | Pred true | Pred false |\n",
      "GT true  | 645       | 355        |\n",
      "GT false | 366       | 634        |\n",
      "Question: Is this photo generated by a model?\n",
      "\n",
      "=== Overall ===\n",
      "Acc: 63.95%\n",
      "         | Pred true | Pred false |\n",
      "GT true  | 645       | 355        |\n",
      "GT false | 366       | 634        |\n",
      "\n",
      "\n",
      "=== Common fake images ===\n",
      "Acc: 63.00%\n",
      "         | Pred true | Pred false |\n",
      "GT true  | 0         | 0          |\n",
      "GT false | 185       | 315        |\n",
      "\n",
      "\n",
      "=== Uncommon fake images ===\n",
      "Acc: 63.80%\n",
      "         | Pred true | Pred false |\n",
      "GT true  | 0         | 0          |\n",
      "GT false | 181       | 319        |\n"
     ]
    },
    {
     "name": "stderr",
     "output_type": "stream",
     "text": [
      "\n"
     ]
    }
   ],
   "source": [
    "question = \"Is this photo generated by a model?\"\n",
    "acc2, mat2, ans2 = instruct.QueryImgs(question, true_string=\"no\")\n",
    "instruct.PrintResult(three_class=True)"
   ]
  },
  {
   "cell_type": "code",
   "execution_count": 52,
   "metadata": {},
   "outputs": [
    {
     "name": "stdout",
     "output_type": "stream",
     "text": [
      "Question: Is this photo generated by a model?\n",
      "\n",
      "=== Overall ===\n",
      "Acc: 63.95%\n",
      "         | Pred true | Pred false |\n",
      "GT true  | 645       | 355        |\n",
      "GT false | 366       | 634        |\n",
      "\n",
      "\n",
      "=== Common fake images ===\n",
      "Acc: 63.00%\n",
      "         | Pred true | Pred false |\n",
      "GT true  | 0         | 0          |\n",
      "GT false | 185       | 315        |\n",
      "\n",
      "\n",
      "=== Uncommon fake images ===\n",
      "Acc: 63.80%\n",
      "         | Pred true | Pred false |\n",
      "GT true  | 0         | 0          |\n",
      "GT false | 181       | 319        |\n"
     ]
    }
   ],
   "source": [
    "instruct.PrintResult(three_class=True)"
   ]
  },
  {
   "cell_type": "code",
   "execution_count": 53,
   "metadata": {},
   "outputs": [
    {
     "name": "stdout",
     "output_type": "stream",
     "text": [
      "Accuracy: 69.60%\n",
      "         | Pred true | Pred false |\n",
      "GT true  | 554       | 446        |\n",
      "GT false | 162       | 838        |\n"
     ]
    }
   ],
   "source": [
    "acc, confusion_mat, ans = instruct.MultipleAns(ans1, ans2)"
   ]
  },
  {
   "cell_type": "code",
   "execution_count": 4,
   "metadata": {},
   "outputs": [
    {
     "name": "stderr",
     "output_type": "stream",
     "text": [
      "Loading checkpoint shards: 100%|██████████| 2/2 [00:13<00:00,  6.96s/it]\n"
     ]
    }
   ],
   "source": [
    "# Load model\n",
    "device = torch.device(\"cuda\" if torch.cuda.is_available() else \"cpu\")\n",
    "#model, vis_processors, txt_processors = load_model_and_preprocess(name=\"blip2_t5_instruct\", model_type=\"flant5xl\", is_eval=True, device=device)\n",
    "#model, vis_processors, txt_processors = load_model_and_preprocess(name=\"blip2_t5_instruct\", model_type=\"flant5xxl\", is_eval=True, device=device)\n",
    "model, vis_processors, txt_processors = load_model_and_preprocess(name=\"blip2_vicuna_instruct\", model_type=\"vicuna7b\", is_eval=True, device=device)\n",
    "#model, vis_processors, txt_processors = load_model_and_preprocess(name=\"blip2_vicuna_instruct\", model_type=\"vicuna13b\", is_eval=True, device=device)"
   ]
  },
  {
   "cell_type": "code",
   "execution_count": 13,
   "metadata": {},
   "outputs": [
    {
     "name": "stderr",
     "output_type": "stream",
     "text": [
      "Loading imgs from /eva_data0/denny/coco2014/train2014: 100%|██████████| 1000/1000 [00:03<00:00, 257.93it/s]\n",
      "Loading imgs from /eva_data0/denny/SemanticError/SD2/0_real/: 100%|██████████| 1000/1000 [00:22<00:00, 45.26it/s]\n"
     ]
    }
   ],
   "source": [
    "# For query lots of images\n",
    "real_dir = \"/eva_data0/denny/coco2014/train2014\"\n",
    "fake_dir = \"/eva_data0/denny/SemanticError/SD2/0_real/\"\n",
    "#imgs, labels = PrepareData(\"/eva_data0/denny/SemanticError/SD2/test/\")\n",
    "imgs, labels = PrepareData(real_dir, fake_dir, num=1000)"
   ]
  },
  {
   "cell_type": "code",
   "execution_count": 14,
   "metadata": {},
   "outputs": [
    {
     "name": "stderr",
     "output_type": "stream",
     "text": [
      "Answering: 100%|██████████| 2000/2000 [17:37<00:00,  1.89it/s]"
     ]
    },
    {
     "name": "stdout",
     "output_type": "stream",
     "text": [
      "Question: Is this photo possible in real world?\n",
      "Acc: 56.85%\n",
      "         | Pred true | Pred false |\n",
      "GT true  | 716       | 284        |\n",
      "GT false | 579       | 421        |\n"
     ]
    },
    {
     "name": "stderr",
     "output_type": "stream",
     "text": [
      "\n"
     ]
    }
   ],
   "source": [
    "# For query lots of images\n",
    "question = \"Is this photo possible in real world?\"\n",
    "acc, confusion_mat, com_acc, com_conf_mat, uncom_acc, uncom_conf_mat = QueryImgs(imgs, labels, question, model, vis_processors, txt_processors, device)"
   ]
  },
  {
   "cell_type": "code",
   "execution_count": null,
   "metadata": {},
   "outputs": [],
   "source": [
    "print(acc)\n",
    "PrintConfusion(confusion_mat)\n",
    "\n",
    "print(com_acc)\n",
    "PrintConfusion(com_conf_mat)\n",
    "print(uncom_acc)\n",
    "PrintConfusion(uncom_conf_mat)"
   ]
  },
  {
   "cell_type": "code",
   "execution_count": 35,
   "metadata": {},
   "outputs": [
    {
     "name": "stderr",
     "output_type": "stream",
     "text": [
      "Loading imgs from /eva_data0/denny/coco2014/train2014: 100%|██████████| 200/200 [00:01<00:00, 199.41it/s]\n",
      "Loading imgs from /eva_data0/denny/SemanticError/SD2/1_fake/: 100%|██████████| 200/200 [00:03<00:00, 56.16it/s]\n"
     ]
    }
   ],
   "source": [
    "# For query lots of images\n",
    "real_dir = \"/eva_data0/denny/coco2014/train2014\"\n",
    "fake_dir = \"/eva_data0/denny/SemanticError/SD2/1_fake/\"\n",
    "#imgs, labels = PrepareData(\"/eva_data0/denny/SemanticError/SD2/test/\")\n",
    "imgs, labels = PrepareData(real_dir, fake_dir, num=200)"
   ]
  },
  {
   "cell_type": "code",
   "execution_count": 33,
   "metadata": {},
   "outputs": [
    {
     "name": "stderr",
     "output_type": "stream",
     "text": [
      "Answering: 100%|██████████| 200/200 [01:31<00:00,  2.19it/s]"
     ]
    },
    {
     "name": "stdout",
     "output_type": "stream",
     "text": [
      "Question: Is this photo possible in real world?\n",
      "Acc: 60.50%\n",
      "         | Pred true | Pred false |\n",
      "GT true  | 74        | 26         |\n",
      "GT false | 53        | 47         |\n"
     ]
    },
    {
     "name": "stderr",
     "output_type": "stream",
     "text": [
      "\n"
     ]
    }
   ],
   "source": [
    "# For query lots of images\n",
    "question = \"Is this photo possible in real world?\"\n",
    "acc, confusion_mat, com_acc, com_conf_mat, uncom_acc, uncom_conf_mat = QueryImgs(imgs, labels, question, model, vis_processors, txt_processors, device)"
   ]
  },
  {
   "cell_type": "code",
   "execution_count": 34,
   "metadata": {},
   "outputs": [
    {
     "name": "stdout",
     "output_type": "stream",
     "text": [
      "0.605\n",
      "         | Pred true | Pred false |\n",
      "GT true  | 74        | 26         |\n",
      "GT false | 53        | 47         |\n",
      "0.46\n",
      "         | Pred true | Pred false |\n",
      "GT true  | 0         | 0          |\n",
      "GT false | 27        | 23         |\n",
      "0.46\n",
      "         | Pred true | Pred false |\n",
      "GT true  | 0         | 0          |\n",
      "GT false | 27        | 23         |\n"
     ]
    }
   ],
   "source": [
    "print(acc)\n",
    "PrintConfusion(confusion_mat)\n",
    "\n",
    "print(com_acc)\n",
    "PrintConfusion(com_conf_mat)\n",
    "print(uncom_acc)\n",
    "PrintConfusion(uncom_conf_mat)"
   ]
  },
  {
   "cell_type": "code",
   "execution_count": 18,
   "metadata": {},
   "outputs": [
    {
     "name": "stderr",
     "output_type": "stream",
     "text": [
      "Answering: 100%|██████████| 2000/2000 [10:51<00:00,  3.07it/s]"
     ]
    },
    {
     "name": "stdout",
     "output_type": "stream",
     "text": [
      "Question: Is this photo common in real world?\n",
      "Acc: 83.70%\n",
      "         | Pred true | Pred false |\n",
      "GT true  | 812       | 188        |\n",
      "GT false | 138       | 862        |\n"
     ]
    },
    {
     "name": "stderr",
     "output_type": "stream",
     "text": [
      "\n"
     ]
    }
   ],
   "source": [
    "# For query lots of images\n",
    "question = \"Is this photo common in real world?\"\n",
    "acc, confusion_mat = QueryImgs(imgs, labels, question, model, vis_processors, txt_processors, device)"
   ]
  },
  {
   "cell_type": "code",
   "execution_count": 24,
   "metadata": {},
   "outputs": [
    {
     "name": "stderr",
     "output_type": "stream",
     "text": [
      "Answering: 100%|██████████| 2000/2000 [15:58<00:00,  2.09it/s]"
     ]
    },
    {
     "name": "stdout",
     "output_type": "stream",
     "text": [
      "Question: Is this photo generated by a model?\n",
      "Acc: 62.55%\n",
      "         | Pred true | Pred false |\n",
      "GT true  | 630       | 370        |\n",
      "GT false | 379       | 621        |\n"
     ]
    },
    {
     "name": "stderr",
     "output_type": "stream",
     "text": [
      "\n"
     ]
    }
   ],
   "source": [
    "question = \"Is this photo generated by a model?\"\n",
    "acc, confusion_mat = QueryImgs(imgs, labels, question, model, vis_processors, txt_processors, device, true_string=\"no\")"
   ]
  },
  {
   "cell_type": "code",
   "execution_count": 39,
   "metadata": {},
   "outputs": [
    {
     "name": "stderr",
     "output_type": "stream",
     "text": [
      "Loading imgs from /eva_data0/denny/coco2014/train2014: 100%|██████████| 1000/1000 [00:04<00:00, 244.46it/s]\n",
      "Loading imgs from /eva_data0/denny/SemanticError/SD2/real_and_fake/: 100%|██████████| 1000/1000 [00:10<00:00, 91.52it/s]\n"
     ]
    }
   ],
   "source": [
    "# For query lots of images\n",
    "real_dir = \"/eva_data0/denny/coco2014/train2014\"\n",
    "fake_dir = \"/eva_data0/denny/SemanticError/SD2/real_and_fake/\"\n",
    "#imgs, labels = PrepareData(\"/eva_data0/denny/SemanticError/SD2/test/\")\n",
    "imgs, labels = PrepareData(real_dir, fake_dir, num=1000)"
   ]
  },
  {
   "cell_type": "code",
   "execution_count": 40,
   "metadata": {},
   "outputs": [
    {
     "name": "stderr",
     "output_type": "stream",
     "text": [
      "Answering:  84%|████████▎ | 1671/2000 [13:03<02:13,  2.46it/s]"
     ]
    }
   ],
   "source": [
    "question = \"Is this photo generated by a model?\"\n",
    "acc, confusion_mat, com_acc, com_conf_mat, uncom_acc, uncom_conf_mat = QueryImgs(imgs, labels, question, model, vis_processors, txt_processors, device, true_string=\"no\")\n",
    "print(acc)\n",
    "PrintConfusion(confusion_mat)"
   ]
  },
  {
   "cell_type": "code",
   "execution_count": null,
   "metadata": {},
   "outputs": [
    {
     "name": "stdout",
     "output_type": "stream",
     "text": [
      "0.715\n",
      "         | Pred true | Pred false |\n",
      "GT true  | 64        | 36         |\n",
      "GT false | 21        | 79         |\n",
      "0.78\n",
      "         | Pred true | Pred false |\n",
      "GT true  | 0         | 0          |\n",
      "GT false | 11        | 39         |\n",
      "0.78\n",
      "         | Pred true | Pred false |\n",
      "GT true  | 0         | 0          |\n",
      "GT false | 11        | 39         |\n"
     ]
    }
   ],
   "source": [
    "print(acc)\n",
    "PrintConfusion(confusion_mat)\n",
    "\n",
    "print(com_acc)\n",
    "PrintConfusion(com_conf_mat)\n",
    "print(uncom_acc)\n",
    "PrintConfusion(uncom_conf_mat)"
   ]
  },
  {
   "attachments": {},
   "cell_type": "markdown",
   "metadata": {},
   "source": [
    "#### Load an example image"
   ]
  },
  {
   "cell_type": "code",
   "execution_count": null,
   "metadata": {},
   "outputs": [],
   "source": [
    "#raw_image = Image.open(\"../docs/_static/merlion.png\").convert(\"RGB\")\n",
    "raw_image = Image.open(\"/eva_data/denny/SemanticError/SD2/1_fake/00000.png\").convert(\"RGB\")\n",
    "#display(raw_image.resize((596, 437)))\n",
    "display(raw_image)"
   ]
  },
  {
   "cell_type": "code",
   "execution_count": null,
   "metadata": {},
   "outputs": [],
   "source": [
    "# setup device to use\n",
    "device = torch.device(\"cuda\" if torch.cuda.is_available() else \"cpu\")"
   ]
  },
  {
   "attachments": {},
   "cell_type": "markdown",
   "metadata": {},
   "source": [
    "#### Load instructBLIP model"
   ]
  },
  {
   "cell_type": "code",
   "execution_count": null,
   "metadata": {},
   "outputs": [],
   "source": [
    "model, vis_processors, txt_processors = load_model_and_preprocess(name=\"blip2_t5_instruct\", model_type=\"flant5xl\", is_eval=True, device=device)\n",
    "#model, vis_processors, txt_processors = load_model_and_preprocess(name=\"blip2_t5_instruct\", model_type=\"flant5xxl\", is_eval=True, device=device)\n",
    "#model, vis_processors, txt_processors = load_model_and_preprocess(name=\"blip2_vicuna_instruct\", model_type=\"vicuna7b\", is_eval=True, device=device)\n",
    "#model, vis_processors, txt_processors = load_model_and_preprocess(name=\"blip2_vicuna_instruct\", model_type=\"vicuna13b\", is_eval=True, device=device)"
   ]
  },
  {
   "cell_type": "code",
   "execution_count": null,
   "metadata": {},
   "outputs": [],
   "source": [
    "vis_processors.keys()"
   ]
  },
  {
   "cell_type": "code",
   "execution_count": null,
   "metadata": {},
   "outputs": [],
   "source": [
    "txt_processors.keys()"
   ]
  },
  {
   "cell_type": "code",
   "execution_count": null,
   "metadata": {},
   "outputs": [],
   "source": [
    "#question = \"Which city is this photo taken?\"\n",
    "#question = \"What is the animal in the photo?\"\n",
    "question = \"Is this photo possible in real world?\""
   ]
  },
  {
   "cell_type": "code",
   "execution_count": null,
   "metadata": {},
   "outputs": [],
   "source": [
    "# use \"eval\" processors for inference\n",
    "image = vis_processors[\"eval\"](raw_image).unsqueeze(0).to(device)\n",
    "question = txt_processors[\"eval\"](question)\n",
    "\n",
    "samples = {\"image\": image, \"text_input\": question}"
   ]
  },
  {
   "attachments": {},
   "cell_type": "markdown",
   "metadata": {},
   "source": [
    "#### generative question answering"
   ]
  },
  {
   "cell_type": "code",
   "execution_count": null,
   "metadata": {},
   "outputs": [],
   "source": [
    "model.predict_answers(samples=samples, inference_method=\"generate\")"
   ]
  },
  {
   "attachments": {},
   "cell_type": "markdown",
   "metadata": {},
   "source": [
    "#### ranking-based question answering"
   ]
  },
  {
   "cell_type": "code",
   "execution_count": null,
   "metadata": {},
   "outputs": [],
   "source": [
    "# rank answer candidates by their likelihood and return the best answer\n",
    "answer_candidates = [\"Singapore\", \"London\", \"Palo Alto\", \"Tokyo\"]\n",
    "\n",
    "model.predict_answers(samples, answer_list=answer_candidates, inference_method=\"rank\")"
   ]
  },
  {
   "attachments": {},
   "cell_type": "markdown",
   "metadata": {},
   "source": [
    "#### Ask questions in batch"
   ]
  },
  {
   "cell_type": "code",
   "execution_count": null,
   "metadata": {},
   "outputs": [],
   "source": [
    "batch_size = 3\n",
    "\n",
    "# create a batch of samples, could be multiple images or copies of the same image\n",
    "image_batch = image.repeat(batch_size, 1, 1, 1)\n",
    "\n",
    "# create a batch of questions, make sure the number of questions matches the number of images\n",
    "question_1 = txt_processors[\"eval\"](\"Which city is this photo taken?\")\n",
    "question_2 = txt_processors[\"eval\"](\"What time is this during the day?\")\n",
    "question_3 = txt_processors[\"eval\"](\"Is it Singapore or London?\")\n",
    "\n",
    "question_batch = [question_1, question_2, question_3]\n",
    "\n",
    "model.predict_answers(samples={\"image\": image_batch, \"text_input\": question_batch}, inference_method=\"generate\")\n"
   ]
  }
 ],
 "metadata": {
  "kernelspec": {
   "display_name": "instblip",
   "language": "python",
   "name": "instblip"
  },
  "language_info": {
   "codemirror_mode": {
    "name": "ipython",
    "version": 3
   },
   "file_extension": ".py",
   "mimetype": "text/x-python",
   "name": "python",
   "nbconvert_exporter": "python",
   "pygments_lexer": "ipython3",
   "version": "3.9.17"
  },
  "orig_nbformat": 4
 },
 "nbformat": 4,
 "nbformat_minor": 2
}
