{
 "cells": [
  {
   "cell_type": "code",
   "execution_count": 1,
   "metadata": {},
   "outputs": [
    {
     "name": "stdout",
     "output_type": "stream",
     "text": [
      "7\n"
     ]
    }
   ],
   "source": [
    "import os\n",
    "os.environ[\"CUDA_VISIBLE_DEVICES\"]=\"7\"\n",
    "print(os.environ[\"CUDA_VISIBLE_DEVICES\"])"
   ]
  },
  {
   "cell_type": "code",
   "execution_count": 2,
   "metadata": {},
   "outputs": [
    {
     "name": "stderr",
     "output_type": "stream",
     "text": [
      "/home/denny/anaconda3/envs/instblip/lib/python3.9/site-packages/tqdm/auto.py:22: TqdmWarning: IProgress not found. Please update jupyter and ipywidgets. See https://ipywidgets.readthedocs.io/en/stable/user_install.html\n",
      "  from .autonotebook import tqdm as notebook_tqdm\n",
      "2023-10-05 22:12:08.807608: I tensorflow/core/platform/cpu_feature_guard.cc:182] This TensorFlow binary is optimized to use available CPU instructions in performance-critical operations.\n",
      "To enable the following instructions: SSE4.1 SSE4.2 AVX AVX2 AVX512F AVX512_VNNI FMA, in other operations, rebuild TensorFlow with the appropriate compiler flags.\n"
     ]
    }
   ],
   "source": [
    "from PIL import Image\n",
    "import pandas as pd\n",
    "import numpy as np\n",
    "import torch\n",
    "from torch.utils.data import DataLoader\n",
    "from torch.utils.data.dataset import Dataset\n",
    "\n",
    "import lavis\n",
    "from lavis.models import load_model_and_preprocess\n",
    "\n",
    "import random \n",
    "random.seed(43)\n",
    "\n",
    "class ImgDataset(Dataset):\n",
    "    def __init__(self, imgRoot, promptFile, vis_processors=None, txt_processors=None):\n",
    "        \n",
    "        self.paths = []\n",
    "        for root, dirs, files in os.walk(imgRoot):\n",
    "            for file in files:\n",
    "                self.paths.append(os.path.join(root, file))\n",
    "        self.paths.sort()\n",
    "        \n",
    "        print(f'Read {len(self.paths)} paths.')\n",
    "        \n",
    "        self.prompts = []\n",
    "        with open(promptFile ,'r') as f:\n",
    "            for line in f.readlines():\n",
    "                self.prompts.append(line.strip())\n",
    "        \n",
    "        self.vis_processors = vis_processors['eval']\n",
    "        self.txt_processors = txt_processors\n",
    "\n",
    "    def __len__(self):\n",
    "        \n",
    "        return len(list(self.paths))\n",
    "\n",
    "    def __getitem__(self, index):\n",
    "\n",
    "        image_path = self.paths[index]\n",
    "        image = Image.open(image_path).convert(\"RGB\")\n",
    "        if self.vis_processors:\n",
    "            image = self.vis_processors(image)\n",
    "        \n",
    "        # sample = {}\n",
    "        # sample['image'] = image\n",
    "        # sample['prompt'] = self.prompts[index]\n",
    "\n",
    "        return image, index\n",
    "\n",
    "\n",
    "# This is for query lost of images\n",
    "\n",
    "from os import listdir\n",
    "from os.path import isfile, join\n",
    "from tqdm import tqdm\n",
    "from sklearn.metrics import accuracy_score, confusion_matrix\n",
    "import time\n",
    "\n",
    "class InstructBLIP():\n",
    "    def __init__(self, name=\"blip2_vicuna_instruct_textinv\", model_type=\"vicuna7b\", is_eval=True, device=\"cpu\") -> None:\n",
    "        print(f'Loading model...')\n",
    "        #self.model, self.vis_processors, self.txt_processors = load_model_and_preprocess(name, model_type, is_eval, device)\n",
    "        self.imgs = []\n",
    "        self.labels = []\n",
    "        \n",
    "        # QA\n",
    "        self.question = \"\"\n",
    "        \n",
    "        # results\n",
    "        self.acc = None\n",
    "        self.confusion_mat = None\n",
    "        \n",
    "        self.acc_3class = None\n",
    "        self.confusion_mat_3class = None\n",
    "        \n",
    "        self.com_acc = None\n",
    "        self.com_confusion_mat = None\n",
    "        self.uncom_acc = None\n",
    "        self.uncom_confusion_mat = None\n",
    "\n",
    "    def LoadModels(self, model, vis_processors, txt_processors, device):\n",
    "        self.model = model\n",
    "        self.vis_processors = vis_processors\n",
    "        self.txt_processors = txt_processors\n",
    "        self.device = device\n",
    "    \n",
    "    def LoadImages(self, dir, num):\n",
    "        onlyfiles = []\n",
    "        \n",
    "        for f in sorted(listdir(dir)):\n",
    "            if isfile(join(dir, f)):\n",
    "                onlyfiles.append(join(dir, f))\n",
    "        \n",
    "        onlyfiles = random.sample(onlyfiles, num)\n",
    "        \n",
    "        raw_img_list = []\n",
    "        with tqdm(total=len(onlyfiles), desc=f'Loading imgs from {dir}') as pbar:\n",
    "            for f in onlyfiles:\n",
    "                raw_img = Image.open(f).convert(\"RGB\")\n",
    "                raw_img_list.append(raw_img)\n",
    "                pbar.update(1)\n",
    "        \n",
    "        return raw_img_list\n",
    "\n",
    "    def LoadData(self, real_dir, fake_dir, num=1000):\n",
    "        #real_imgs = LoadImages(join(root_dir, \"0_real\"))\n",
    "        #fake_imgs = LoadImages(join(root_dir, \"1_fake\"))\n",
    "        real_imgs = self.LoadImages(real_dir, num)\n",
    "        fake_imgs = self.LoadImages(fake_dir, num)\n",
    "        \n",
    "        self.imgs = real_imgs + fake_imgs\n",
    "        self.labels = [0]*len(real_imgs) + [1]*len(fake_imgs)\n",
    "        #return self.imgs, self.labels\n",
    "      \n",
    "    def LoadData_batch(self, csv_path):\n",
    "        self.csv = csv_path\n",
    "        self.dataset = TextInvDataset(csv=csv_path, vis_processors=self.vis_processors[\"eval\"])\n",
    "        self.dataloader = DataLoader(dataset=self.dataset, batch_size=8, shuffle=False, num_workers=8)    \n",
    "        \n",
    "    def LoadData3Class(self, real_dir, fake_common_dir, fake_uncommon_dir, num=[1000, 500, 500]):\n",
    "        #real_imgs = LoadImages(join(root_dir, \"0_real\"))\n",
    "        #fake_imgs = LoadImages(join(root_dir, \"1_fake\"))\n",
    "        self.num = num\n",
    "        real_imgs = self.LoadImages(real_dir, num[0])\n",
    "        fake_common_imgs = self.LoadImages(fake_common_dir, num[1])\n",
    "        fake_uncommon_imgs = self.LoadImages(fake_uncommon_dir, num[2])\n",
    "        \n",
    "        self.imgs = real_imgs + fake_common_imgs + fake_uncommon_imgs\n",
    "        self.labels = [0]*len(real_imgs) + [1]*(len(fake_common_imgs)+len(fake_uncommon_imgs))\n",
    "        self.label_3class = [0]*len(real_imgs) + [1]*len(fake_common_imgs) + [2]*len(fake_uncommon_imgs)\n",
    "        #return self.imgs, self.labels, self.label_3class\n",
    "\n",
    "    def QueryImgs(self, question, true_string=\"yes\"):\n",
    "        self.ans_list = []\n",
    "        self.question = question\n",
    "        \n",
    "        with tqdm(total=len(self.imgs), desc=f'Answering') as pbar:\n",
    "            for idx, img in enumerate(self.imgs):\n",
    "                image = self.vis_processors[\"eval\"](img).unsqueeze(0).to(self.device)\n",
    "\n",
    "                samples = {\"image\": image, \"text_input\": question}\n",
    "                \n",
    "                ans = self.model.predict_answers(samples=samples, inference_method=\"generate\")[0]\n",
    "                self.ans_list.append(0 if ans == true_string else 1)\n",
    "                \n",
    "                pbar.update(1)\n",
    "        \n",
    "        self.acc = accuracy_score(self.labels, self.ans_list)\n",
    "        self.confusion_mat = confusion_matrix(self.labels, self.ans_list)\n",
    "        \n",
    "        self.PrintResult()\n",
    "        \n",
    "        return self.acc, self.confusion_mat, self.ans_list\n",
    "    \n",
    "    def QueryImgs_batch(self, question, true_string=\"yes\", logPath='log.txt'):\n",
    "        self.labels = []\n",
    "        self.label_3class = []\n",
    "        self.ans_list = []\n",
    "        self.question = question\n",
    "        \n",
    "        for image, label, is_uncommon in tqdm(self.dataloader):\n",
    "            \n",
    "            image = image.to(self.device)\n",
    "            \n",
    "            questions = [self.question] * image.shape[0]\n",
    "            samples = {\"image\": image, \"text_input\": questions}\n",
    "            \n",
    "            ans = self.model.predict_answers(samples=samples, inference_method=\"generate\", answer_list=[\"yes\", \"no\"])\n",
    "            pred_label = [0 if a == true_string else 1 for a in ans]\n",
    "            self.ans_list += pred_label\n",
    "            \n",
    "            label = [0 if l == true_string else 1 for l in label]\n",
    "            self.labels += label\n",
    "            \n",
    "            label_3class = label.copy()\n",
    "            label_3class = [2 if is_uncommon[idx] else l for idx, l in enumerate(label)]\n",
    "            \n",
    "            self.label_3class += label_3class\n",
    "        \n",
    "        self.acc = accuracy_score(self.labels, self.ans_list)\n",
    "        self.confusion_mat = confusion_matrix(self.labels, self.ans_list, labels=[0,1])\n",
    "        \n",
    "        self.ans_list = np.array(self.ans_list)\n",
    "        self.labels = np.array(self.labels)\n",
    "        self.label_3class = np.array(self.label_3class)\n",
    "        \n",
    "        self.PrintResult(three_class=True, logPath=logPath)\n",
    "        \n",
    "        return self.acc, self.confusion_mat, self.ans_list, self.labels, self.label_3class\n",
    "    \n",
    "    def Query(self, image, question):\n",
    "        image = self.vis_processors[\"eval\"](image).unsqueeze(0).to(self.device)\n",
    "        \n",
    "        samples = {\"image\": image, \"text_input\": question}\n",
    "        ans = self.model.predict_answers(samples=samples, inference_method=\"generate\")[0]\n",
    "        return ans\n",
    "\n",
    "    def PrintResult(self, three_class=False, acc=None, confusion_mat=None, ans_list=None, labels=None, label_3class=None, logPath=None):\n",
    "        \n",
    "        if acc:\n",
    "            self.acc = acc\n",
    "        if confusion_mat:\n",
    "            self.confusion_mat = confusion_mat\n",
    "        if ans_list:\n",
    "            self.ans_list = ans_list\n",
    "        if labels:\n",
    "            self.labels = labels\n",
    "        if label_3class:\n",
    "            self.label_3class = label_3class\n",
    "        \n",
    "        if logPath:\n",
    "            logfile = open(logPath, 'a')\n",
    "        \n",
    "        if three_class:\n",
    "            #assert type(self.num) == list, \"Type of num should be list.\"\n",
    "            \n",
    "            print(f'[TIME]      : {time.ctime()}', file=logfile)\n",
    "            print(f'[Finetuned] : {self.model.finetuned}', file=logfile)\n",
    "            print(f'[Data csv]  : {self.csv}', file=logfile)\n",
    "            print(f'[Question]  : {self.question}\\n', file=logfile)\n",
    "            \n",
    "            print(f'=== Overall ===', file=logfile)\n",
    "            print(f'Acc: {self.acc*100:.2f}%', file=logfile)\n",
    "            self.PrintConfusion(self.confusion_mat, logfile=logfile)\n",
    "            print('\\n', file=logfile)\n",
    "            \n",
    "            real_ans_list = self.ans_list[self.label_3class==0]\n",
    "            real_label = [0] * len(real_ans_list)\n",
    "            self.real_acc = accuracy_score(real_label, real_ans_list)\n",
    "            self.real_confusion_mat = confusion_matrix(real_label, real_ans_list, labels=[0,1])\n",
    "            print(f'=== Real images ===', file=logfile)\n",
    "            print(f'Acc: {self.real_acc*100:.2f}%', file=logfile)\n",
    "            self.PrintConfusion(self.real_confusion_mat, logfile=logfile)\n",
    "            print('\\n', file=logfile)\n",
    "            \n",
    "            com_ans_list = self.ans_list[self.label_3class==1]\n",
    "            com_label = [1] * len(com_ans_list)\n",
    "            self.com_acc = accuracy_score(com_label, com_ans_list)\n",
    "            self.com_confusion_mat = confusion_matrix(com_label, com_ans_list, labels=[0,1])\n",
    "            print(f'=== Common fake images ===', file=logfile)\n",
    "            print(f'Acc: {self.com_acc*100:.2f}%', file=logfile)\n",
    "            self.PrintConfusion(self.com_confusion_mat, logfile=logfile)\n",
    "            print('\\n', file=logfile)\n",
    "            \n",
    "            uncom_ans_list = self.ans_list[self.label_3class==2]\n",
    "            uncom_label = [1] * len(uncom_ans_list)\n",
    "            self.uncom_acc = accuracy_score(uncom_label, uncom_ans_list)\n",
    "            self.uncom_confusion_mat = confusion_matrix(uncom_label, uncom_ans_list, labels=[0,1])\n",
    "            print(f'=== Uncommon fake images ===', file=logfile)\n",
    "            print(f'Acc: {self.uncom_acc*100:.2f}%', file=logfile)\n",
    "            self.PrintConfusion(self.uncom_confusion_mat, logfile=logfile)\n",
    "            print('\\n', file=logfile)\n",
    "        else:\n",
    "            print(f'Question: {self.question}\\n', file=logfile)\n",
    "            print(f'Acc: {self.acc*100:.2f}%', file=logfile)\n",
    "            self.PrintConfusion(self.confusion_mat, logfile=logfile)\n",
    "            print('\\n', file=logfile)\n",
    "        \n",
    "        logfile.close()\n",
    "    \n",
    "    def PrintConfusion(self, mat, logfile):\n",
    "        padding = ' '\n",
    "        print(f'        | Pred real | Pred fake |', file=logfile)\n",
    "        print(f'GT real | {mat[0, 0]:{padding}<{10}}| {mat[0, 1]:{padding}<{11}}|', file=logfile)\n",
    "        print(f'GT fake | {mat[1, 0]:{padding}<{10}}| {mat[1, 1]:{padding}<{11}}|', file=logfile)\n",
    "        \n",
    "    def MultipleAns(self, ans1, ans2):\n",
    "    \n",
    "        # Q1: Is this photo common in real world?\n",
    "        # Q2: Is this photo generated by a model?\n",
    "        \n",
    "        final_ans = []\n",
    "        for ans in zip(ans1, ans2):\n",
    "            if ans[0] == 0 and ans[1] == 0:\n",
    "                final_ans.append(0)\n",
    "            else:\n",
    "                final_ans.append(1)\n",
    "        \n",
    "        acc = accuracy_score(self.labels, final_ans)\n",
    "        confusion_mat = confusion_matrix(self.labels, final_ans)\n",
    "        print(f'Accuracy: {acc*100:.2f}%')\n",
    "        self.PrintConfusion(confusion_mat)\n",
    "        \n",
    "        self.ans_list = final_ans\n",
    "        self.acc = acc\n",
    "        self.confusion_mat = confusion_mat\n",
    "        \n",
    "        return acc, confusion_mat, final_ans\n",
    "    \n",
    "def print_combine_result(pretrained_ans, finetuned_ans, label, logPath):\n",
    "    \n",
    "    logfile = open(logPath, 'a')\n",
    "    \n",
    "    def _print_confusion(mat, logfile):\n",
    "        padding = ' '\n",
    "        print(f'        | Pred real | Pred fake |', file=logfile)\n",
    "        print(f'GT real | {mat[0, 0]:{padding}<{10}}| {mat[0, 1]:{padding}<{11}}|', file=logfile)\n",
    "        print(f'GT fake | {mat[1, 0]:{padding}<{10}}| {mat[1, 1]:{padding}<{11}}|', file=logfile)\n",
    "    \n",
    "    comb_ans = np.ceil((pretrained_ans + finetuned_ans)/2).astype(np.int64)\n",
    "    \n",
    "    comb_acc = accuracy_score(label, comb_ans)\n",
    "    comb_confusion_mat = confusion_matrix(label, comb_ans, labels=[0,1])\n",
    "    \n",
    "    print(f'=== Overall (Comb) ===', file=logfile)\n",
    "    print(f'Acc: {comb_acc*100:.2f}%', file=logfile)\n",
    "    _print_confusion(comb_confusion_mat, logfile=logfile)\n",
    "    print('\\n', file=logfile)\n",
    "    \n",
    "    real_ans_list = comb_ans[label==0]\n",
    "    real_label = [0] * len(real_ans_list)\n",
    "    real_acc = accuracy_score(real_label, real_ans_list)\n",
    "    real_confusion_mat = confusion_matrix(real_label, real_ans_list, labels=[0,1])\n",
    "    print(f'=== Real images (Comb) ===', file=logfile)\n",
    "    print(f'Acc: {real_acc*100:.2f}%', file=logfile)\n",
    "    _print_confusion(real_confusion_mat, logfile=logfile)\n",
    "    print('\\n', file=logfile)\n",
    "    \n",
    "    \n",
    "    com_ans_list = comb_ans[label==1]\n",
    "    com_label = [1] * len(com_ans_list)\n",
    "    com_acc = accuracy_score(com_label, com_ans_list)\n",
    "    com_confusion_mat = confusion_matrix(com_label, com_ans_list, labels=[0,1])\n",
    "    print(f'=== Common fake images (Comb) ===', file=logfile)\n",
    "    print(f'Acc: {com_acc*100:.2f}%', file=logfile)\n",
    "    _print_confusion(com_confusion_mat, logfile=logfile)\n",
    "    print('\\n', file=logfile)\n",
    "    \n",
    "    return comb_acc, comb_confusion_mat, comb_ans"
   ]
  },
  {
   "cell_type": "code",
   "execution_count": 3,
   "metadata": {},
   "outputs": [
    {
     "name": "stderr",
     "output_type": "stream",
     "text": [
      "100%|██████████| 4.33G/4.33G [04:22<00:00, 17.7MB/s] \n"
     ]
    },
    {
     "name": "stdout",
     "output_type": "stream",
     "text": [
      "Load model OK!\n"
     ]
    }
   ],
   "source": [
    "device = torch.device(\"cuda\" if torch.cuda.is_available() else \"cpu\")\n",
    "# model, vis_processors, txt_processors = load_model_and_preprocess(name=\"blip2_vicuna_instruct\", model_type=\"vicuna7b\", is_eval=True, device=device)\n",
    "# model, vis_processors, txt_processors = load_model_and_preprocess(name=\"blip_vqa\", model_type=\"vqav2\", is_eval=True, device=device)\n",
    "model, vis_processors, txt_processors = load_model_and_preprocess(name=\"albef_vqa\", model_type=\"vqav2\", is_eval=True, device=device)\n",
    "\n",
    "print(f'Load model OK!')"
   ]
  },
  {
   "cell_type": "code",
   "execution_count": 20,
   "metadata": {},
   "outputs": [
    {
     "name": "stdout",
     "output_type": "stream",
     "text": [
      "<class 'dict'>\n",
      "Read 100 paths.\n",
      "DL OK\n"
     ]
    },
    {
     "name": "stderr",
     "output_type": "stream",
     "text": [
      "  2%|▏         | 2/100 [00:01<01:01,  1.59it/s]"
     ]
    },
    {
     "name": "stdout",
     "output_type": "stream",
     "text": [
      "['room']\n",
      "['open']\n"
     ]
    },
    {
     "name": "stderr",
     "output_type": "stream",
     "text": [
      "  4%|▍         | 4/100 [00:01<00:29,  3.24it/s]"
     ]
    },
    {
     "name": "stdout",
     "output_type": "stream",
     "text": [
      "['elephant']\n",
      "['cake']\n"
     ]
    },
    {
     "name": "stderr",
     "output_type": "stream",
     "text": [
      "  6%|▌         | 6/100 [00:02<00:20,  4.63it/s]"
     ]
    },
    {
     "name": "stdout",
     "output_type": "stream",
     "text": [
      "['phone']\n",
      "['motorcycle']\n"
     ]
    },
    {
     "name": "stderr",
     "output_type": "stream",
     "text": [
      "  8%|▊         | 8/100 [00:02<00:17,  5.40it/s]"
     ]
    },
    {
     "name": "stdout",
     "output_type": "stream",
     "text": [
      "['building']\n",
      "['here']\n"
     ]
    },
    {
     "name": "stderr",
     "output_type": "stream",
     "text": [
      " 10%|█         | 10/100 [00:02<00:14,  6.32it/s]"
     ]
    },
    {
     "name": "stdout",
     "output_type": "stream",
     "text": [
      "['building']\n",
      "['donut']\n"
     ]
    },
    {
     "name": "stderr",
     "output_type": "stream",
     "text": [
      " 12%|█▏        | 12/100 [00:02<00:12,  7.25it/s]"
     ]
    },
    {
     "name": "stdout",
     "output_type": "stream",
     "text": [
      "['horses']\n",
      "['tennis']\n"
     ]
    },
    {
     "name": "stderr",
     "output_type": "stream",
     "text": [
      " 14%|█▍        | 14/100 [00:03<00:11,  7.40it/s]"
     ]
    },
    {
     "name": "stdout",
     "output_type": "stream",
     "text": [
      "['man']\n",
      "['umbrella']\n"
     ]
    },
    {
     "name": "stderr",
     "output_type": "stream",
     "text": [
      " 16%|█▌        | 16/100 [00:03<00:10,  8.22it/s]"
     ]
    },
    {
     "name": "stdout",
     "output_type": "stream",
     "text": [
      "['frisbee']\n",
      "['statues']\n"
     ]
    },
    {
     "name": "stderr",
     "output_type": "stream",
     "text": [
      " 18%|█▊        | 18/100 [00:03<00:09,  8.41it/s]"
     ]
    },
    {
     "name": "stdout",
     "output_type": "stream",
     "text": [
      "['cat']\n",
      "['white']\n"
     ]
    },
    {
     "name": "stderr",
     "output_type": "stream",
     "text": [
      " 20%|██        | 20/100 [00:03<00:09,  8.54it/s]"
     ]
    },
    {
     "name": "stdout",
     "output_type": "stream",
     "text": [
      "['cake']\n",
      "['rescue']\n"
     ]
    },
    {
     "name": "stderr",
     "output_type": "stream",
     "text": [
      " 22%|██▏       | 22/100 [00:04<00:08,  8.86it/s]"
     ]
    },
    {
     "name": "stdout",
     "output_type": "stream",
     "text": [
      "['food']\n",
      "['bedroom']\n"
     ]
    },
    {
     "name": "stderr",
     "output_type": "stream",
     "text": [
      " 24%|██▍       | 24/100 [00:04<00:08,  8.92it/s]"
     ]
    },
    {
     "name": "stdout",
     "output_type": "stream",
     "text": [
      "['jet']\n",
      "['skateboard']\n"
     ]
    },
    {
     "name": "stderr",
     "output_type": "stream",
     "text": [
      " 26%|██▌       | 26/100 [00:04<00:08,  8.96it/s]"
     ]
    },
    {
     "name": "stdout",
     "output_type": "stream",
     "text": [
      "['horse']\n",
      "['cooking']\n"
     ]
    },
    {
     "name": "stderr",
     "output_type": "stream",
     "text": [
      " 28%|██▊       | 28/100 [00:04<00:08,  8.98it/s]"
     ]
    },
    {
     "name": "stdout",
     "output_type": "stream",
     "text": [
      "['man']\n",
      "['backpack']\n"
     ]
    },
    {
     "name": "stderr",
     "output_type": "stream",
     "text": [
      " 30%|███       | 30/100 [00:04<00:07,  9.03it/s]"
     ]
    },
    {
     "name": "stdout",
     "output_type": "stream",
     "text": [
      "['circus']\n",
      "['frisbee']\n"
     ]
    },
    {
     "name": "stderr",
     "output_type": "stream",
     "text": [
      " 32%|███▏      | 32/100 [00:05<00:07,  9.14it/s]"
     ]
    },
    {
     "name": "stdout",
     "output_type": "stream",
     "text": [
      "['flowers']\n",
      "['skateboard']\n"
     ]
    },
    {
     "name": "stderr",
     "output_type": "stream",
     "text": [
      " 34%|███▍      | 34/100 [00:05<00:07,  8.93it/s]"
     ]
    },
    {
     "name": "stdout",
     "output_type": "stream",
     "text": [
      "['tennis']\n",
      "['fruit']\n"
     ]
    },
    {
     "name": "stderr",
     "output_type": "stream",
     "text": [
      " 36%|███▌      | 36/100 [00:05<00:07,  9.08it/s]"
     ]
    },
    {
     "name": "stdout",
     "output_type": "stream",
     "text": [
      "['garbage']\n",
      "['man']\n"
     ]
    },
    {
     "name": "stderr",
     "output_type": "stream",
     "text": [
      " 38%|███▊      | 38/100 [00:05<00:06,  9.16it/s]"
     ]
    },
    {
     "name": "stdout",
     "output_type": "stream",
     "text": [
      "['boy']\n",
      "['shower']\n"
     ]
    },
    {
     "name": "stderr",
     "output_type": "stream",
     "text": [
      " 40%|████      | 40/100 [00:06<00:06,  9.22it/s]"
     ]
    },
    {
     "name": "stdout",
     "output_type": "stream",
     "text": [
      "['group']\n",
      "['broth']\n"
     ]
    },
    {
     "name": "stderr",
     "output_type": "stream",
     "text": [
      " 42%|████▏     | 42/100 [00:06<00:06,  9.00it/s]"
     ]
    },
    {
     "name": "stdout",
     "output_type": "stream",
     "text": [
      "['cars']\n",
      "['bear']\n"
     ]
    },
    {
     "name": "stderr",
     "output_type": "stream",
     "text": [
      " 44%|████▍     | 44/100 [00:06<00:06,  8.92it/s]"
     ]
    },
    {
     "name": "stdout",
     "output_type": "stream",
     "text": [
      "['cat']\n",
      "['man']\n"
     ]
    },
    {
     "name": "stderr",
     "output_type": "stream",
     "text": [
      " 46%|████▌     | 46/100 [00:06<00:05,  9.02it/s]"
     ]
    },
    {
     "name": "stdout",
     "output_type": "stream",
     "text": [
      "['teddy']\n",
      "['man']\n"
     ]
    },
    {
     "name": "stderr",
     "output_type": "stream",
     "text": [
      " 48%|████▊     | 48/100 [00:06<00:05,  9.17it/s]"
     ]
    },
    {
     "name": "stdout",
     "output_type": "stream",
     "text": [
      "['black']\n",
      "['boy']\n"
     ]
    },
    {
     "name": "stderr",
     "output_type": "stream",
     "text": [
      " 50%|█████     | 50/100 [00:07<00:05,  9.06it/s]"
     ]
    },
    {
     "name": "stdout",
     "output_type": "stream",
     "text": [
      "['frisbee']\n",
      "['clock']\n"
     ]
    },
    {
     "name": "stderr",
     "output_type": "stream",
     "text": [
      " 52%|█████▏    | 52/100 [00:07<00:05,  9.12it/s]"
     ]
    },
    {
     "name": "stdout",
     "output_type": "stream",
     "text": [
      "['cow']\n",
      "['cat']\n"
     ]
    },
    {
     "name": "stderr",
     "output_type": "stream",
     "text": [
      " 54%|█████▍    | 54/100 [00:07<00:05,  9.11it/s]"
     ]
    },
    {
     "name": "stdout",
     "output_type": "stream",
     "text": [
      "['man']\n",
      "['cake']\n"
     ]
    },
    {
     "name": "stderr",
     "output_type": "stream",
     "text": [
      " 56%|█████▌    | 56/100 [00:07<00:04,  9.14it/s]"
     ]
    },
    {
     "name": "stdout",
     "output_type": "stream",
     "text": [
      "['restaurant']\n",
      "['room']\n"
     ]
    },
    {
     "name": "stderr",
     "output_type": "stream",
     "text": [
      " 58%|█████▊    | 58/100 [00:08<00:04,  8.88it/s]"
     ]
    },
    {
     "name": "stdout",
     "output_type": "stream",
     "text": [
      "['wall']\n",
      "['pizza']\n"
     ]
    },
    {
     "name": "stderr",
     "output_type": "stream",
     "text": [
      " 60%|██████    | 60/100 [00:08<00:04,  8.66it/s]"
     ]
    },
    {
     "name": "stdout",
     "output_type": "stream",
     "text": [
      "['food']\n",
      "['tower']\n"
     ]
    },
    {
     "name": "stderr",
     "output_type": "stream",
     "text": [
      " 62%|██████▏   | 62/100 [00:08<00:04,  8.89it/s]"
     ]
    },
    {
     "name": "stdout",
     "output_type": "stream",
     "text": [
      "['woman']\n",
      "['baseball']\n"
     ]
    },
    {
     "name": "stderr",
     "output_type": "stream",
     "text": [
      " 64%|██████▍   | 64/100 [00:08<00:03,  9.07it/s]"
     ]
    },
    {
     "name": "stdout",
     "output_type": "stream",
     "text": [
      "['soccer']\n",
      "['street']\n"
     ]
    },
    {
     "name": "stderr",
     "output_type": "stream",
     "text": [
      " 66%|██████▌   | 66/100 [00:08<00:03,  8.90it/s]"
     ]
    },
    {
     "name": "stdout",
     "output_type": "stream",
     "text": [
      "['sign']\n",
      "['bears']\n"
     ]
    },
    {
     "name": "stderr",
     "output_type": "stream",
     "text": [
      " 68%|██████▊   | 68/100 [00:09<00:03,  8.93it/s]"
     ]
    },
    {
     "name": "stdout",
     "output_type": "stream",
     "text": [
      "['dogs']\n",
      "['plane']\n"
     ]
    },
    {
     "name": "stderr",
     "output_type": "stream",
     "text": [
      " 70%|███████   | 70/100 [00:09<00:03,  8.89it/s]"
     ]
    },
    {
     "name": "stdout",
     "output_type": "stream",
     "text": [
      "['apple']\n",
      "['bear']\n"
     ]
    },
    {
     "name": "stderr",
     "output_type": "stream",
     "text": [
      " 72%|███████▏  | 72/100 [00:09<00:03,  8.94it/s]"
     ]
    },
    {
     "name": "stdout",
     "output_type": "stream",
     "text": [
      "['room']\n",
      "['cabinet']\n"
     ]
    },
    {
     "name": "stderr",
     "output_type": "stream",
     "text": [
      " 74%|███████▍  | 74/100 [00:09<00:02,  8.78it/s]"
     ]
    },
    {
     "name": "stdout",
     "output_type": "stream",
     "text": [
      "['water']\n",
      "['pasta']\n"
     ]
    },
    {
     "name": "stderr",
     "output_type": "stream",
     "text": [
      " 76%|███████▌  | 76/100 [00:10<00:02,  8.89it/s]"
     ]
    },
    {
     "name": "stdout",
     "output_type": "stream",
     "text": [
      "['cat']\n",
      "['bathroom']\n"
     ]
    },
    {
     "name": "stderr",
     "output_type": "stream",
     "text": [
      " 78%|███████▊  | 78/100 [00:10<00:02,  8.71it/s]"
     ]
    },
    {
     "name": "stdout",
     "output_type": "stream",
     "text": [
      "['car']\n",
      "['zebras']\n"
     ]
    },
    {
     "name": "stderr",
     "output_type": "stream",
     "text": [
      " 80%|████████  | 80/100 [00:10<00:02,  8.96it/s]"
     ]
    },
    {
     "name": "stdout",
     "output_type": "stream",
     "text": [
      "['baseball']\n",
      "['people']\n"
     ]
    },
    {
     "name": "stderr",
     "output_type": "stream",
     "text": [
      " 82%|████████▏ | 82/100 [00:10<00:02,  8.90it/s]"
     ]
    },
    {
     "name": "stdout",
     "output_type": "stream",
     "text": [
      "['skateboard']\n",
      "['sad']\n"
     ]
    },
    {
     "name": "stderr",
     "output_type": "stream",
     "text": [
      " 84%|████████▍ | 84/100 [00:10<00:01,  8.87it/s]"
     ]
    },
    {
     "name": "stdout",
     "output_type": "stream",
     "text": [
      "['man']\n",
      "['snow']\n"
     ]
    },
    {
     "name": "stderr",
     "output_type": "stream",
     "text": [
      " 86%|████████▌ | 86/100 [00:11<00:01,  9.11it/s]"
     ]
    },
    {
     "name": "stdout",
     "output_type": "stream",
     "text": [
      "['elephant']\n",
      "['man']\n"
     ]
    },
    {
     "name": "stderr",
     "output_type": "stream",
     "text": [
      " 88%|████████▊ | 88/100 [00:11<00:01,  9.36it/s]"
     ]
    },
    {
     "name": "stdout",
     "output_type": "stream",
     "text": [
      "['motorcycle']\n",
      "['food']\n"
     ]
    },
    {
     "name": "stderr",
     "output_type": "stream",
     "text": [
      " 90%|█████████ | 90/100 [00:11<00:01,  9.47it/s]"
     ]
    },
    {
     "name": "stdout",
     "output_type": "stream",
     "text": [
      "['church']\n",
      "['hair']\n"
     ]
    },
    {
     "name": "stderr",
     "output_type": "stream",
     "text": [
      " 92%|█████████▏| 92/100 [00:11<00:00,  9.58it/s]"
     ]
    },
    {
     "name": "stdout",
     "output_type": "stream",
     "text": [
      "['pizza']\n",
      "['hat']\n"
     ]
    },
    {
     "name": "stderr",
     "output_type": "stream",
     "text": [
      " 94%|█████████▍| 94/100 [00:12<00:00,  9.55it/s]"
     ]
    },
    {
     "name": "stdout",
     "output_type": "stream",
     "text": [
      "['man']\n",
      "['warning']\n"
     ]
    },
    {
     "name": "stderr",
     "output_type": "stream",
     "text": [
      " 96%|█████████▌| 96/100 [00:12<00:00,  9.32it/s]"
     ]
    },
    {
     "name": "stdout",
     "output_type": "stream",
     "text": [
      "['mirror']\n",
      "['airplane']\n"
     ]
    },
    {
     "name": "stderr",
     "output_type": "stream",
     "text": [
      " 98%|█████████▊| 98/100 [00:12<00:00,  9.17it/s]"
     ]
    },
    {
     "name": "stdout",
     "output_type": "stream",
     "text": [
      "['giraffe']\n",
      "['donut']\n"
     ]
    },
    {
     "name": "stderr",
     "output_type": "stream",
     "text": [
      "100%|██████████| 100/100 [00:12<00:00,  8.92it/s]"
     ]
    },
    {
     "name": "stdout",
     "output_type": "stream",
     "text": [
      "['rain']\n",
      "['kite']\n"
     ]
    },
    {
     "name": "stderr",
     "output_type": "stream",
     "text": [
      "100%|██████████| 100/100 [00:12<00:00,  7.75it/s]\n"
     ]
    }
   ],
   "source": [
    "device = 'cuda'\n",
    "imgRoot = \"/eva_data0/iammingggg/textual_inversion/60k_6k_6k/test/1_fake/SDXLInpaint/foreground_rectangle\"\n",
    "promptFile = \"/eva_data0/denny/textual_inversion/60k_6k_6k/test/real_prompts.txt\"\n",
    "\n",
    "question_base = \"Which word best describe the image?\"\n",
    "\n",
    "print(type(vis_processors))\n",
    "dataset = ImgDataset(imgRoot=imgRoot, promptFile=promptFile, vis_processors=vis_processors)\n",
    "dataloader = DataLoader(dataset=dataset, batch_size=1, num_workers=8, pin_memory=True)\n",
    "print('DL OK')\n",
    "\n",
    "label_list = []\n",
    "for image, index in tqdm(dataloader):\n",
    "\n",
    "    image = image.to(device)\n",
    "    \n",
    "    questions = [question_base] * image.shape[0]\n",
    "    \n",
    "    answer_list = []\n",
    "    for i in index:\n",
    "        answer_list.append(dataset.prompts[i].split(' '))\n",
    "    # print(answer_list)\n",
    "    \n",
    "    # for i in range(len(questions)):\n",
    "    #     # print(answer_list[i])\n",
    "    #     questions[i] = questions[i] + ' ' +  ', '.join(answer_list[i])\n",
    "    #     print(questions[i])\n",
    "    \n",
    "    samples = {\"image\": image, \"text_input\":questions}\n",
    "    \n",
    "    #print(answer_list[0])\n",
    "    ans = model.predict_answers(samples=samples, answer_list=answer_list[0], inference_method=\"rank\")\n",
    "    print(ans)\n",
    "    label_list.append(ans[0])\n"
   ]
  },
  {
   "cell_type": "code",
   "execution_count": 23,
   "metadata": {},
   "outputs": [
    {
     "name": "stdout",
     "output_type": "stream",
     "text": [
      "0\n",
      "1\n",
      "2\n",
      "3\n",
      "4\n",
      "5\n",
      "6\n",
      "7\n",
      "8\n",
      "9\n",
      "10\n",
      "11\n",
      "12\n",
      "13\n",
      "14\n",
      "15\n",
      "16\n",
      "17\n",
      "18\n",
      "19\n",
      "20\n",
      "21\n",
      "22\n",
      "23\n",
      "24\n",
      "25\n",
      "26\n",
      "27\n",
      "28\n",
      "29\n",
      "30\n",
      "31\n",
      "32\n",
      "33\n",
      "34\n",
      "35\n",
      "36\n",
      "37\n",
      "38\n",
      "39\n",
      "40\n",
      "41\n",
      "42\n",
      "43\n",
      "44\n",
      "45\n",
      "46\n",
      "47\n",
      "48\n",
      "49\n",
      "50\n",
      "51\n",
      "52\n",
      "53\n",
      "54\n",
      "55\n",
      "56\n",
      "57\n",
      "58\n",
      "59\n",
      "60\n",
      "61\n",
      "62\n",
      "63\n",
      "64\n",
      "65\n",
      "66\n",
      "67\n",
      "68\n",
      "69\n",
      "70\n",
      "71\n",
      "72\n",
      "73\n",
      "74\n",
      "75\n",
      "76\n",
      "77\n",
      "78\n",
      "79\n",
      "80\n",
      "81\n",
      "82\n",
      "83\n",
      "84\n",
      "85\n",
      "86\n",
      "87\n",
      "88\n",
      "89\n",
      "90\n",
      "91\n",
      "92\n",
      "93\n",
      "94\n",
      "95\n",
      "96\n",
      "97\n",
      "98\n",
      "99\n",
      "100\n"
     ]
    },
    {
     "data": {
      "text/html": [
       "<pre style=\"white-space:pre;overflow-x:auto;line-height:normal;font-family:Menlo,'DejaVu Sans Mono',consolas,'Courier New',monospace\"><span style=\"color: #800000; text-decoration-color: #800000\">╭─────────────────────────────── </span><span style=\"color: #800000; text-decoration-color: #800000; font-weight: bold\">Traceback </span><span style=\"color: #bf7f7f; text-decoration-color: #bf7f7f; font-weight: bold\">(most recent call last)</span><span style=\"color: #800000; text-decoration-color: #800000\"> ────────────────────────────────╮</span>\n",
       "<span style=\"color: #800000; text-decoration-color: #800000\">│</span> in <span style=\"color: #00ff00; text-decoration-color: #00ff00\">&lt;module&gt;</span>:<span style=\"color: #0000ff; text-decoration-color: #0000ff\">8</span>                                                                                    <span style=\"color: #800000; text-decoration-color: #800000\">│</span>\n",
       "<span style=\"color: #800000; text-decoration-color: #800000\">│</span>                                                                                                  <span style=\"color: #800000; text-decoration-color: #800000\">│</span>\n",
       "<span style=\"color: #800000; text-decoration-color: #800000\">│</span>   <span style=\"color: #7f7f7f; text-decoration-color: #7f7f7f\"> 5 </span><span style=\"color: #0000ff; text-decoration-color: #0000ff\">with</span> <span style=\"color: #00ffff; text-decoration-color: #00ffff\">open</span>(path, <span style=\"color: #808000; text-decoration-color: #808000\">'w'</span>) <span style=\"color: #0000ff; text-decoration-color: #0000ff\">as</span> f:                                                                  <span style=\"color: #800000; text-decoration-color: #800000\">│</span>\n",
       "<span style=\"color: #800000; text-decoration-color: #800000\">│</span>   <span style=\"color: #7f7f7f; text-decoration-color: #7f7f7f\"> 6 </span><span style=\"color: #7f7f7f; text-decoration-color: #7f7f7f\">│   </span><span style=\"color: #0000ff; text-decoration-color: #0000ff\">for</span> i, prompt <span style=\"color: #ff00ff; text-decoration-color: #ff00ff\">in</span> <span style=\"color: #00ffff; text-decoration-color: #00ffff\">enumerate</span>(dataset.prompts):                                            <span style=\"color: #800000; text-decoration-color: #800000\">│</span>\n",
       "<span style=\"color: #800000; text-decoration-color: #800000\">│</span>   <span style=\"color: #7f7f7f; text-decoration-color: #7f7f7f\"> 7 </span><span style=\"color: #7f7f7f; text-decoration-color: #7f7f7f\">│   │   </span><span style=\"color: #00ffff; text-decoration-color: #00ffff\">print</span>(i)                                                                            <span style=\"color: #800000; text-decoration-color: #800000\">│</span>\n",
       "<span style=\"color: #800000; text-decoration-color: #800000\">│</span> <span style=\"color: #800000; text-decoration-color: #800000\">❱ </span> 8 <span style=\"color: #7f7f7f; text-decoration-color: #7f7f7f\">│   │   </span>new_prompt = prompt.replace(label_list[i], random.sample(label_list,<span style=\"color: #0000ff; text-decoration-color: #0000ff\">1</span>)[<span style=\"color: #0000ff; text-decoration-color: #0000ff\">0</span>])          <span style=\"color: #800000; text-decoration-color: #800000\">│</span>\n",
       "<span style=\"color: #800000; text-decoration-color: #800000\">│</span>   <span style=\"color: #7f7f7f; text-decoration-color: #7f7f7f\"> 9 </span><span style=\"color: #7f7f7f; text-decoration-color: #7f7f7f\">│   │   </span>new_prompts.append(new_prompt)                                                      <span style=\"color: #800000; text-decoration-color: #800000\">│</span>\n",
       "<span style=\"color: #800000; text-decoration-color: #800000\">│</span>   <span style=\"color: #7f7f7f; text-decoration-color: #7f7f7f\">10 </span><span style=\"color: #7f7f7f; text-decoration-color: #7f7f7f\">│   │   </span><span style=\"color: #00ffff; text-decoration-color: #00ffff\">print</span>(new_prompt, file=f)                                                           <span style=\"color: #800000; text-decoration-color: #800000\">│</span>\n",
       "<span style=\"color: #800000; text-decoration-color: #800000\">│</span>   <span style=\"color: #7f7f7f; text-decoration-color: #7f7f7f\">11 </span>                                                                                            <span style=\"color: #800000; text-decoration-color: #800000\">│</span>\n",
       "<span style=\"color: #800000; text-decoration-color: #800000\">╰──────────────────────────────────────────────────────────────────────────────────────────────────╯</span>\n",
       "<span style=\"color: #ff0000; text-decoration-color: #ff0000; font-weight: bold\">IndexError: </span>list index out of range\n",
       "</pre>\n"
      ],
      "text/plain": [
       "\u001b[31m╭─\u001b[0m\u001b[31m──────────────────────────────\u001b[0m\u001b[31m \u001b[0m\u001b[1;31mTraceback \u001b[0m\u001b[1;2;31m(most recent call last)\u001b[0m\u001b[31m \u001b[0m\u001b[31m───────────────────────────────\u001b[0m\u001b[31m─╮\u001b[0m\n",
       "\u001b[31m│\u001b[0m in \u001b[92m<module>\u001b[0m:\u001b[94m8\u001b[0m                                                                                    \u001b[31m│\u001b[0m\n",
       "\u001b[31m│\u001b[0m                                                                                                  \u001b[31m│\u001b[0m\n",
       "\u001b[31m│\u001b[0m   \u001b[2m 5 \u001b[0m\u001b[94mwith\u001b[0m \u001b[96mopen\u001b[0m(path, \u001b[33m'\u001b[0m\u001b[33mw\u001b[0m\u001b[33m'\u001b[0m) \u001b[94mas\u001b[0m f:                                                                  \u001b[31m│\u001b[0m\n",
       "\u001b[31m│\u001b[0m   \u001b[2m 6 \u001b[0m\u001b[2m│   \u001b[0m\u001b[94mfor\u001b[0m i, prompt \u001b[95min\u001b[0m \u001b[96menumerate\u001b[0m(dataset.prompts):                                            \u001b[31m│\u001b[0m\n",
       "\u001b[31m│\u001b[0m   \u001b[2m 7 \u001b[0m\u001b[2m│   │   \u001b[0m\u001b[96mprint\u001b[0m(i)                                                                            \u001b[31m│\u001b[0m\n",
       "\u001b[31m│\u001b[0m \u001b[31m❱ \u001b[0m 8 \u001b[2m│   │   \u001b[0mnew_prompt = prompt.replace(label_list[i], random.sample(label_list,\u001b[94m1\u001b[0m)[\u001b[94m0\u001b[0m])          \u001b[31m│\u001b[0m\n",
       "\u001b[31m│\u001b[0m   \u001b[2m 9 \u001b[0m\u001b[2m│   │   \u001b[0mnew_prompts.append(new_prompt)                                                      \u001b[31m│\u001b[0m\n",
       "\u001b[31m│\u001b[0m   \u001b[2m10 \u001b[0m\u001b[2m│   │   \u001b[0m\u001b[96mprint\u001b[0m(new_prompt, file=f)                                                           \u001b[31m│\u001b[0m\n",
       "\u001b[31m│\u001b[0m   \u001b[2m11 \u001b[0m                                                                                            \u001b[31m│\u001b[0m\n",
       "\u001b[31m╰──────────────────────────────────────────────────────────────────────────────────────────────────╯\u001b[0m\n",
       "\u001b[1;91mIndexError: \u001b[0mlist index out of range\n"
      ]
     },
     "metadata": {},
     "output_type": "display_data"
    }
   ],
   "source": [
    "import random\n",
    "\n",
    "path = 'log/new_prompt.txt'\n",
    "new_prompts = []\n",
    "with open(path, 'w') as f:\n",
    "    for i, prompt in enumerate(dataset.prompts):\n",
    "        new_prompt = prompt.replace(label_list[i], random.sample(label_list,1)[0])\n",
    "        new_prompts.append(new_prompt)\n",
    "        print(new_prompt, file=f)"
   ]
  }
 ],
 "metadata": {
  "kernelspec": {
   "display_name": "instblip",
   "language": "python",
   "name": "instblip"
  },
  "language_info": {
   "codemirror_mode": {
    "name": "ipython",
    "version": 3
   },
   "file_extension": ".py",
   "mimetype": "text/x-python",
   "name": "python",
   "nbconvert_exporter": "python",
   "pygments_lexer": "ipython3",
   "version": "3.9.17"
  },
  "orig_nbformat": 4
 },
 "nbformat": 4,
 "nbformat_minor": 2
}
